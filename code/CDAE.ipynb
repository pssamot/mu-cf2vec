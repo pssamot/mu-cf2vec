{
 "cells": [
  {
   "cell_type": "code",
   "execution_count": 1,
   "metadata": {},
   "outputs": [],
   "source": [
    "from DRecPy.Recommender import CDAE\n",
    "from DRecPy.Dataset import get_train_dataset\n",
    "from DRecPy.Dataset import get_test_dataset\n",
    "from DRecPy.Evaluation import ranking_evaluation\n",
    "from DRecPy.Evaluation import predictive_evaluation\n",
    "import time\n",
    "import os\n",
    "import pandas as pd\n",
    "from DRecPy.Dataset import InteractionDataset"
   ]
  },
  {
   "cell_type": "code",
   "execution_count": 2,
   "metadata": {},
   "outputs": [],
   "source": [
    "# Just choose the name of the dataset directory\n",
    "dataset  = 'ml-20m'\n",
    "DATA_DIR = '/Users/tomas/Documents/FEUP/Tese/data/' + dataset\n",
    "PARSE_DATA_DIR = os.path.join(DATA_DIR, 'processed_70_10_20')"
   ]
  },
  {
   "cell_type": "code",
   "execution_count": 3,
   "metadata": {},
   "outputs": [],
   "source": [
    "ratings_train = pd.read_csv(os.path.join(PARSE_DATA_DIR, 'ratings.csv'), header=0)"
   ]
  },
  {
   "cell_type": "code",
   "execution_count": 4,
   "metadata": {},
   "outputs": [
    {
     "data": {
      "text/html": [
       "<div>\n",
       "<style scoped>\n",
       "    .dataframe tbody tr th:only-of-type {\n",
       "        vertical-align: middle;\n",
       "    }\n",
       "\n",
       "    .dataframe tbody tr th {\n",
       "        vertical-align: top;\n",
       "    }\n",
       "\n",
       "    .dataframe thead th {\n",
       "        text-align: right;\n",
       "    }\n",
       "</style>\n",
       "<table border=\"1\" class=\"dataframe\">\n",
       "  <thead>\n",
       "    <tr style=\"text-align: right;\">\n",
       "      <th></th>\n",
       "      <th>userId</th>\n",
       "      <th>movieId</th>\n",
       "      <th>rating</th>\n",
       "      <th>timestamp</th>\n",
       "    </tr>\n",
       "  </thead>\n",
       "  <tbody>\n",
       "    <tr>\n",
       "      <th>0</th>\n",
       "      <td>1</td>\n",
       "      <td>1079</td>\n",
       "      <td>4.0</td>\n",
       "      <td>1094785665</td>\n",
       "    </tr>\n",
       "    <tr>\n",
       "      <th>1</th>\n",
       "      <td>1</td>\n",
       "      <td>2959</td>\n",
       "      <td>4.0</td>\n",
       "      <td>1094785698</td>\n",
       "    </tr>\n",
       "    <tr>\n",
       "      <th>2</th>\n",
       "      <td>1</td>\n",
       "      <td>3996</td>\n",
       "      <td>4.0</td>\n",
       "      <td>1094785727</td>\n",
       "    </tr>\n",
       "    <tr>\n",
       "      <th>3</th>\n",
       "      <td>1</td>\n",
       "      <td>151</td>\n",
       "      <td>4.0</td>\n",
       "      <td>1094785734</td>\n",
       "    </tr>\n",
       "    <tr>\n",
       "      <th>4</th>\n",
       "      <td>1</td>\n",
       "      <td>1374</td>\n",
       "      <td>4.0</td>\n",
       "      <td>1094785746</td>\n",
       "    </tr>\n",
       "  </tbody>\n",
       "</table>\n",
       "</div>"
      ],
      "text/plain": [
       "   userId  movieId  rating   timestamp\n",
       "0       1     1079     4.0  1094785665\n",
       "1       1     2959     4.0  1094785698\n",
       "2       1     3996     4.0  1094785727\n",
       "3       1      151     4.0  1094785734\n",
       "4       1     1374     4.0  1094785746"
      ]
     },
     "execution_count": 4,
     "metadata": {},
     "output_type": "execute_result"
    }
   ],
   "source": [
    "ratings_train.head()"
   ]
  },
  {
   "cell_type": "code",
   "execution_count": 5,
   "metadata": {},
   "outputs": [
    {
     "name": "stdout",
     "output_type": "stream",
     "text": [
      "[DatabaseInteractionDataset] Trying to load data from file, using auxiliary database...\n"
     ]
    },
    {
     "name": "stderr",
     "output_type": "stream",
     "text": [
      "Importing dataset: 100%|█████████▉| 6866694/6866695 [00:35<00:00, 195691.02it/s]\n"
     ]
    },
    {
     "name": "stdout",
     "output_type": "stream",
     "text": [
      "[DatabaseInteractionDataset] Done!\n"
     ]
    }
   ],
   "source": [
    "# load dataset out of memory\n",
    "ds_out_of_memory = InteractionDataset(os.path.join(PARSE_DATA_DIR, 'ratings.csv'), columns=['user', 'item', 'interaction', 'timestamp'],has_header=True ,in_memory=False)\n",
    "parsed =  ds_out_of_memory.select('interaction > 3.5')"
   ]
  },
  {
   "cell_type": "code",
   "execution_count": 6,
   "metadata": {},
   "outputs": [],
   "source": [
    "parsed.assign_internal_ids()"
   ]
  },
  {
   "cell_type": "code",
   "execution_count": 14,
   "metadata": {},
   "outputs": [
    {
     "name": "stdout",
     "output_type": "stream",
     "text": [
      "[CDAE] Max. interaction value: 5.0\n",
      "[CDAE] Min. interaction value: 4.0\n",
      "[CDAE] Interaction threshold value: 0\n",
      "[CDAE] Number of unique users: 129757\n",
      "[CDAE] Number of unique items: 11491\n",
      "[CDAE] Number of training points: 6866694\n",
      "[CDAE] Sparsity level: approx. 99.5395%\n",
      "[CDAE] Creating auxiliary structures...\n"
     ]
    },
    {
     "name": "stderr",
     "output_type": "stream",
     "text": [
      "Fitting model... Epoch 50 Avg. Loss: 0.2912: 100%|██████████| 50/50 [08:25<00:00, 10.10s/it]\n",
      "No handles with labels found to put in legend.\n"
     ]
    },
    {
     "data": {
      "image/png": "[encoded data removed]",
      "text/plain": [
       "<Figure size 432x288 with 1 Axes>"
      ]
     },
     "metadata": {
      "needs_background": "light"
     },
     "output_type": "display_data"
    },
    {
     "name": "stdout",
     "output_type": "stream",
     "text": [
      "[CDAE] Model fitted.\n",
      "Training took 539.8446600437164\n"
     ]
    }
   ],
   "source": [
    "start_train = time.time()\n",
    "cdae = CDAE(min_interaction=0, seed=10,hidden_factors=200)\n",
    "cdae.fit(parsed, epochs=50)\n",
    "print(\"Training took\", time.time() - start_train)"
   ]
  },
  {
   "cell_type": "code",
   "execution_count": 15,
   "metadata": {},
   "outputs": [
    {
     "ename": "NameError",
     "evalue": "name 'ds_train' is not defined",
     "output_type": "error",
     "traceback": [
      "\u001b[0;31m---------------------------------------------------------------------------\u001b[0m",
      "\u001b[0;31mNameError\u001b[0m                                 Traceback (most recent call last)",
      "\u001b[0;32m<ipython-input-15-109cea831a72>\u001b[0m in \u001b[0;36m<module>\u001b[0;34m\u001b[0m\n\u001b[0;32m----> 1\u001b[0;31m \u001b[0mds_train\u001b[0m\u001b[0;34m\u001b[0m\u001b[0;34m\u001b[0m\u001b[0m\n\u001b[0m",
      "\u001b[0;31mNameError\u001b[0m: name 'ds_train' is not defined"
     ]
    }
   ],
   "source": [
    "ds_train"
   ]
  },
  {
   "cell_type": "code",
   "execution_count": 16,
   "metadata": {},
   "outputs": [],
   "source": [
    "data = cdae.V.numpy()\n",
    "df=pd.DataFrame(data=data[0:,0:],\n",
    "                index=[i for i in range(data.shape[0])],\n",
    "                columns=['f'+str(i) for i in range(data.shape[1])])"
   ]
  },
  {
   "cell_type": "code",
   "execution_count": 17,
   "metadata": {},
   "outputs": [
    {
     "data": {
      "text/plain": [
       "(129757, 200)"
      ]
     },
     "execution_count": 17,
     "metadata": {},
     "output_type": "execute_result"
    }
   ],
   "source": [
    "df.shape"
   ]
  },
  {
   "cell_type": "code",
   "execution_count": 18,
   "metadata": {},
   "outputs": [
    {
     "data": {
      "text/html": [
       "<div>\n",
       "<style scoped>\n",
       "    .dataframe tbody tr th:only-of-type {\n",
       "        vertical-align: middle;\n",
       "    }\n",
       "\n",
       "    .dataframe tbody tr th {\n",
       "        vertical-align: top;\n",
       "    }\n",
       "\n",
       "    .dataframe thead th {\n",
       "        text-align: right;\n",
       "    }\n",
       "</style>\n",
       "<table border=\"1\" class=\"dataframe\">\n",
       "  <thead>\n",
       "    <tr style=\"text-align: right;\">\n",
       "      <th></th>\n",
       "      <th>f0</th>\n",
       "      <th>f1</th>\n",
       "      <th>f2</th>\n",
       "      <th>f3</th>\n",
       "      <th>f4</th>\n",
       "      <th>f5</th>\n",
       "      <th>f6</th>\n",
       "      <th>f7</th>\n",
       "      <th>f8</th>\n",
       "      <th>f9</th>\n",
       "      <th>...</th>\n",
       "      <th>f190</th>\n",
       "      <th>f191</th>\n",
       "      <th>f192</th>\n",
       "      <th>f193</th>\n",
       "      <th>f194</th>\n",
       "      <th>f195</th>\n",
       "      <th>f196</th>\n",
       "      <th>f197</th>\n",
       "      <th>f198</th>\n",
       "      <th>f199</th>\n",
       "    </tr>\n",
       "  </thead>\n",
       "  <tbody>\n",
       "    <tr>\n",
       "      <th>0</th>\n",
       "      <td>-1.903606e-32</td>\n",
       "      <td>6.126373e-32</td>\n",
       "      <td>-1.041586e-32</td>\n",
       "      <td>1.263656e-32</td>\n",
       "      <td>-2.556891e-32</td>\n",
       "      <td>1.446864e-32</td>\n",
       "      <td>-9.646448e-33</td>\n",
       "      <td>-5.381662e-32</td>\n",
       "      <td>6.522116e-32</td>\n",
       "      <td>7.285015e-33</td>\n",
       "      <td>...</td>\n",
       "      <td>-4.920046e-32</td>\n",
       "      <td>6.060555e-32</td>\n",
       "      <td>2.235629e-32</td>\n",
       "      <td>-4.628364e-32</td>\n",
       "      <td>2.501638e-32</td>\n",
       "      <td>2.035116e-32</td>\n",
       "      <td>-6.307185e-33</td>\n",
       "      <td>-5.740002e-32</td>\n",
       "      <td>-4.941461e-33</td>\n",
       "      <td>5.526963e-33</td>\n",
       "    </tr>\n",
       "    <tr>\n",
       "      <th>1</th>\n",
       "      <td>1.900094e-32</td>\n",
       "      <td>-1.379075e-32</td>\n",
       "      <td>1.011266e-33</td>\n",
       "      <td>2.059139e-32</td>\n",
       "      <td>1.075434e-32</td>\n",
       "      <td>-2.070336e-32</td>\n",
       "      <td>-1.327671e-32</td>\n",
       "      <td>1.270083e-32</td>\n",
       "      <td>4.228601e-32</td>\n",
       "      <td>8.307336e-34</td>\n",
       "      <td>...</td>\n",
       "      <td>6.549046e-32</td>\n",
       "      <td>-1.636893e-32</td>\n",
       "      <td>-7.016262e-32</td>\n",
       "      <td>5.906431e-32</td>\n",
       "      <td>3.564026e-32</td>\n",
       "      <td>-1.236979e-32</td>\n",
       "      <td>4.464314e-32</td>\n",
       "      <td>5.423416e-32</td>\n",
       "      <td>1.168587e-32</td>\n",
       "      <td>3.916058e-32</td>\n",
       "    </tr>\n",
       "    <tr>\n",
       "      <th>2</th>\n",
       "      <td>2.444368e-32</td>\n",
       "      <td>3.962619e-32</td>\n",
       "      <td>9.056878e-33</td>\n",
       "      <td>3.192449e-33</td>\n",
       "      <td>3.738563e-32</td>\n",
       "      <td>-1.772403e-32</td>\n",
       "      <td>-1.301265e-32</td>\n",
       "      <td>-9.639824e-33</td>\n",
       "      <td>-1.116018e-32</td>\n",
       "      <td>-9.527382e-33</td>\n",
       "      <td>...</td>\n",
       "      <td>1.384151e-32</td>\n",
       "      <td>1.820109e-32</td>\n",
       "      <td>1.231361e-32</td>\n",
       "      <td>-5.183509e-32</td>\n",
       "      <td>-6.564572e-32</td>\n",
       "      <td>1.134003e-32</td>\n",
       "      <td>-1.574783e-32</td>\n",
       "      <td>1.704961e-32</td>\n",
       "      <td>2.476006e-32</td>\n",
       "      <td>-1.758963e-32</td>\n",
       "    </tr>\n",
       "    <tr>\n",
       "      <th>3</th>\n",
       "      <td>4.466596e-33</td>\n",
       "      <td>-2.635078e-32</td>\n",
       "      <td>2.006423e-32</td>\n",
       "      <td>-1.423771e-32</td>\n",
       "      <td>-6.095561e-33</td>\n",
       "      <td>6.230152e-32</td>\n",
       "      <td>2.212825e-32</td>\n",
       "      <td>1.006452e-32</td>\n",
       "      <td>-2.705935e-33</td>\n",
       "      <td>-1.075054e-32</td>\n",
       "      <td>...</td>\n",
       "      <td>3.068422e-33</td>\n",
       "      <td>-2.434828e-32</td>\n",
       "      <td>1.528099e-32</td>\n",
       "      <td>-1.850326e-32</td>\n",
       "      <td>-2.335936e-32</td>\n",
       "      <td>-2.447797e-32</td>\n",
       "      <td>-6.060576e-32</td>\n",
       "      <td>-1.452331e-32</td>\n",
       "      <td>1.337930e-32</td>\n",
       "      <td>1.191742e-32</td>\n",
       "    </tr>\n",
       "    <tr>\n",
       "      <th>4</th>\n",
       "      <td>-5.134871e-32</td>\n",
       "      <td>-5.446336e-32</td>\n",
       "      <td>-2.477626e-32</td>\n",
       "      <td>-4.326088e-32</td>\n",
       "      <td>3.837729e-32</td>\n",
       "      <td>-5.030845e-32</td>\n",
       "      <td>1.458891e-32</td>\n",
       "      <td>-1.001956e-33</td>\n",
       "      <td>-5.085300e-33</td>\n",
       "      <td>-2.587311e-32</td>\n",
       "      <td>...</td>\n",
       "      <td>-1.141153e-32</td>\n",
       "      <td>-5.578014e-32</td>\n",
       "      <td>-1.985515e-32</td>\n",
       "      <td>-6.105519e-32</td>\n",
       "      <td>-1.097290e-32</td>\n",
       "      <td>-6.064440e-33</td>\n",
       "      <td>-1.576612e-32</td>\n",
       "      <td>1.427874e-32</td>\n",
       "      <td>-4.925032e-32</td>\n",
       "      <td>-1.422201e-33</td>\n",
       "    </tr>\n",
       "  </tbody>\n",
       "</table>\n",
       "<p>5 rows × 200 columns</p>\n",
       "</div>"
      ],
      "text/plain": [
       "             f0            f1            f2            f3            f4  \\\n",
       "0 -1.903606e-32  6.126373e-32 -1.041586e-32  1.263656e-32 -2.556891e-32   \n",
       "1  1.900094e-32 -1.379075e-32  1.011266e-33  2.059139e-32  1.075434e-32   \n",
       "2  2.444368e-32  3.962619e-32  9.056878e-33  3.192449e-33  3.738563e-32   \n",
       "3  4.466596e-33 -2.635078e-32  2.006423e-32 -1.423771e-32 -6.095561e-33   \n",
       "4 -5.134871e-32 -5.446336e-32 -2.477626e-32 -4.326088e-32  3.837729e-32   \n",
       "\n",
       "             f5            f6            f7            f8            f9  ...  \\\n",
       "0  1.446864e-32 -9.646448e-33 -5.381662e-32  6.522116e-32  7.285015e-33  ...   \n",
       "1 -2.070336e-32 -1.327671e-32  1.270083e-32  4.228601e-32  8.307336e-34  ...   \n",
       "2 -1.772403e-32 -1.301265e-32 -9.639824e-33 -1.116018e-32 -9.527382e-33  ...   \n",
       "3  6.230152e-32  2.212825e-32  1.006452e-32 -2.705935e-33 -1.075054e-32  ...   \n",
       "4 -5.030845e-32  1.458891e-32 -1.001956e-33 -5.085300e-33 -2.587311e-32  ...   \n",
       "\n",
       "           f190          f191          f192          f193          f194  \\\n",
       "0 -4.920046e-32  6.060555e-32  2.235629e-32 -4.628364e-32  2.501638e-32   \n",
       "1  6.549046e-32 -1.636893e-32 -7.016262e-32  5.906431e-32  3.564026e-32   \n",
       "2  1.384151e-32  1.820109e-32  1.231361e-32 -5.183509e-32 -6.564572e-32   \n",
       "3  3.068422e-33 -2.434828e-32  1.528099e-32 -1.850326e-32 -2.335936e-32   \n",
       "4 -1.141153e-32 -5.578014e-32 -1.985515e-32 -6.105519e-32 -1.097290e-32   \n",
       "\n",
       "           f195          f196          f197          f198          f199  \n",
       "0  2.035116e-32 -6.307185e-33 -5.740002e-32 -4.941461e-33  5.526963e-33  \n",
       "1 -1.236979e-32  4.464314e-32  5.423416e-32  1.168587e-32  3.916058e-32  \n",
       "2  1.134003e-32 -1.574783e-32  1.704961e-32  2.476006e-32 -1.758963e-32  \n",
       "3 -2.447797e-32 -6.060576e-32 -1.452331e-32  1.337930e-32  1.191742e-32  \n",
       "4 -6.064440e-33 -1.576612e-32  1.427874e-32 -4.925032e-32 -1.422201e-33  \n",
       "\n",
       "[5 rows x 200 columns]"
      ]
     },
     "execution_count": 18,
     "metadata": {},
     "output_type": "execute_result"
    }
   ],
   "source": [
    "df.head()"
   ]
  },
  {
   "cell_type": "code",
   "execution_count": 10,
   "metadata": {},
   "outputs": [],
   "source": [
    "unique_uid = pd.DataFrame(data=ratings_train.userId.unique(), columns=['uid'])"
   ]
  },
  {
   "cell_type": "code",
   "execution_count": 11,
   "metadata": {},
   "outputs": [],
   "source": [
    "# Merge two Dataframes on index of both the dataframes\n",
    "final_cdae = unique_uid.merge(df, left_index=True, right_index=True)"
   ]
  },
  {
   "cell_type": "code",
   "execution_count": 14,
   "metadata": {},
   "outputs": [
    {
     "data": {
      "text/plain": [
       "(129757, 201)"
      ]
     },
     "execution_count": 14,
     "metadata": {},
     "output_type": "execute_result"
    }
   ],
   "source": [
    "final_cdae.shape"
   ]
  },
  {
   "cell_type": "code",
   "execution_count": 21,
   "metadata": {},
   "outputs": [
    {
     "data": {
      "text/html": [
       "<div>\n",
       "<style scoped>\n",
       "    .dataframe tbody tr th:only-of-type {\n",
       "        vertical-align: middle;\n",
       "    }\n",
       "\n",
       "    .dataframe tbody tr th {\n",
       "        vertical-align: top;\n",
       "    }\n",
       "\n",
       "    .dataframe thead th {\n",
       "        text-align: right;\n",
       "    }\n",
       "</style>\n",
       "<table border=\"1\" class=\"dataframe\">\n",
       "  <thead>\n",
       "    <tr style=\"text-align: right;\">\n",
       "      <th></th>\n",
       "      <th>uid</th>\n",
       "      <th>f0</th>\n",
       "      <th>f1</th>\n",
       "      <th>f2</th>\n",
       "      <th>f3</th>\n",
       "      <th>f4</th>\n",
       "      <th>f5</th>\n",
       "      <th>f6</th>\n",
       "      <th>f7</th>\n",
       "      <th>f8</th>\n",
       "      <th>...</th>\n",
       "      <th>f190</th>\n",
       "      <th>f191</th>\n",
       "      <th>f192</th>\n",
       "      <th>f193</th>\n",
       "      <th>f194</th>\n",
       "      <th>f195</th>\n",
       "      <th>f196</th>\n",
       "      <th>f197</th>\n",
       "      <th>f198</th>\n",
       "      <th>f199</th>\n",
       "    </tr>\n",
       "  </thead>\n",
       "  <tbody>\n",
       "    <tr>\n",
       "      <th>0</th>\n",
       "      <td>1</td>\n",
       "      <td>-1.903606e-32</td>\n",
       "      <td>6.126373e-32</td>\n",
       "      <td>-1.041586e-32</td>\n",
       "      <td>1.263656e-32</td>\n",
       "      <td>-2.556891e-32</td>\n",
       "      <td>1.446864e-32</td>\n",
       "      <td>-9.646448e-33</td>\n",
       "      <td>-5.381662e-32</td>\n",
       "      <td>6.522116e-32</td>\n",
       "      <td>...</td>\n",
       "      <td>-4.920046e-32</td>\n",
       "      <td>6.060555e-32</td>\n",
       "      <td>2.235629e-32</td>\n",
       "      <td>-4.628364e-32</td>\n",
       "      <td>2.501638e-32</td>\n",
       "      <td>2.035116e-32</td>\n",
       "      <td>-6.307185e-33</td>\n",
       "      <td>-5.740002e-32</td>\n",
       "      <td>-4.941461e-33</td>\n",
       "      <td>5.526963e-33</td>\n",
       "    </tr>\n",
       "    <tr>\n",
       "      <th>1</th>\n",
       "      <td>2</td>\n",
       "      <td>1.900094e-32</td>\n",
       "      <td>-1.379075e-32</td>\n",
       "      <td>1.011266e-33</td>\n",
       "      <td>2.059139e-32</td>\n",
       "      <td>1.075434e-32</td>\n",
       "      <td>-2.070336e-32</td>\n",
       "      <td>-1.327671e-32</td>\n",
       "      <td>1.270083e-32</td>\n",
       "      <td>4.228601e-32</td>\n",
       "      <td>...</td>\n",
       "      <td>6.549046e-32</td>\n",
       "      <td>-1.636893e-32</td>\n",
       "      <td>-7.016262e-32</td>\n",
       "      <td>5.906431e-32</td>\n",
       "      <td>3.564026e-32</td>\n",
       "      <td>-1.236979e-32</td>\n",
       "      <td>4.464314e-32</td>\n",
       "      <td>5.423416e-32</td>\n",
       "      <td>1.168587e-32</td>\n",
       "      <td>3.916058e-32</td>\n",
       "    </tr>\n",
       "    <tr>\n",
       "      <th>2</th>\n",
       "      <td>3</td>\n",
       "      <td>2.444368e-32</td>\n",
       "      <td>3.962619e-32</td>\n",
       "      <td>9.056878e-33</td>\n",
       "      <td>3.192449e-33</td>\n",
       "      <td>3.738563e-32</td>\n",
       "      <td>-1.772403e-32</td>\n",
       "      <td>-1.301265e-32</td>\n",
       "      <td>-9.639824e-33</td>\n",
       "      <td>-1.116018e-32</td>\n",
       "      <td>...</td>\n",
       "      <td>1.384151e-32</td>\n",
       "      <td>1.820109e-32</td>\n",
       "      <td>1.231361e-32</td>\n",
       "      <td>-5.183509e-32</td>\n",
       "      <td>-6.564572e-32</td>\n",
       "      <td>1.134003e-32</td>\n",
       "      <td>-1.574783e-32</td>\n",
       "      <td>1.704961e-32</td>\n",
       "      <td>2.476006e-32</td>\n",
       "      <td>-1.758963e-32</td>\n",
       "    </tr>\n",
       "    <tr>\n",
       "      <th>3</th>\n",
       "      <td>4</td>\n",
       "      <td>4.466596e-33</td>\n",
       "      <td>-2.635078e-32</td>\n",
       "      <td>2.006423e-32</td>\n",
       "      <td>-1.423771e-32</td>\n",
       "      <td>-6.095561e-33</td>\n",
       "      <td>6.230152e-32</td>\n",
       "      <td>2.212825e-32</td>\n",
       "      <td>1.006452e-32</td>\n",
       "      <td>-2.705935e-33</td>\n",
       "      <td>...</td>\n",
       "      <td>3.068422e-33</td>\n",
       "      <td>-2.434828e-32</td>\n",
       "      <td>1.528099e-32</td>\n",
       "      <td>-1.850326e-32</td>\n",
       "      <td>-2.335936e-32</td>\n",
       "      <td>-2.447797e-32</td>\n",
       "      <td>-6.060576e-32</td>\n",
       "      <td>-1.452331e-32</td>\n",
       "      <td>1.337930e-32</td>\n",
       "      <td>1.191742e-32</td>\n",
       "    </tr>\n",
       "    <tr>\n",
       "      <th>4</th>\n",
       "      <td>5</td>\n",
       "      <td>-5.134871e-32</td>\n",
       "      <td>-5.446336e-32</td>\n",
       "      <td>-2.477626e-32</td>\n",
       "      <td>-4.326088e-32</td>\n",
       "      <td>3.837729e-32</td>\n",
       "      <td>-5.030845e-32</td>\n",
       "      <td>1.458891e-32</td>\n",
       "      <td>-1.001956e-33</td>\n",
       "      <td>-5.085300e-33</td>\n",
       "      <td>...</td>\n",
       "      <td>-1.141153e-32</td>\n",
       "      <td>-5.578014e-32</td>\n",
       "      <td>-1.985515e-32</td>\n",
       "      <td>-6.105519e-32</td>\n",
       "      <td>-1.097290e-32</td>\n",
       "      <td>-6.064440e-33</td>\n",
       "      <td>-1.576612e-32</td>\n",
       "      <td>1.427874e-32</td>\n",
       "      <td>-4.925032e-32</td>\n",
       "      <td>-1.422201e-33</td>\n",
       "    </tr>\n",
       "  </tbody>\n",
       "</table>\n",
       "<p>5 rows × 201 columns</p>\n",
       "</div>"
      ],
      "text/plain": [
       "   uid            f0            f1            f2            f3            f4  \\\n",
       "0    1 -1.903606e-32  6.126373e-32 -1.041586e-32  1.263656e-32 -2.556891e-32   \n",
       "1    2  1.900094e-32 -1.379075e-32  1.011266e-33  2.059139e-32  1.075434e-32   \n",
       "2    3  2.444368e-32  3.962619e-32  9.056878e-33  3.192449e-33  3.738563e-32   \n",
       "3    4  4.466596e-33 -2.635078e-32  2.006423e-32 -1.423771e-32 -6.095561e-33   \n",
       "4    5 -5.134871e-32 -5.446336e-32 -2.477626e-32 -4.326088e-32  3.837729e-32   \n",
       "\n",
       "             f5            f6            f7            f8  ...          f190  \\\n",
       "0  1.446864e-32 -9.646448e-33 -5.381662e-32  6.522116e-32  ... -4.920046e-32   \n",
       "1 -2.070336e-32 -1.327671e-32  1.270083e-32  4.228601e-32  ...  6.549046e-32   \n",
       "2 -1.772403e-32 -1.301265e-32 -9.639824e-33 -1.116018e-32  ...  1.384151e-32   \n",
       "3  6.230152e-32  2.212825e-32  1.006452e-32 -2.705935e-33  ...  3.068422e-33   \n",
       "4 -5.030845e-32  1.458891e-32 -1.001956e-33 -5.085300e-33  ... -1.141153e-32   \n",
       "\n",
       "           f191          f192          f193          f194          f195  \\\n",
       "0  6.060555e-32  2.235629e-32 -4.628364e-32  2.501638e-32  2.035116e-32   \n",
       "1 -1.636893e-32 -7.016262e-32  5.906431e-32  3.564026e-32 -1.236979e-32   \n",
       "2  1.820109e-32  1.231361e-32 -5.183509e-32 -6.564572e-32  1.134003e-32   \n",
       "3 -2.434828e-32  1.528099e-32 -1.850326e-32 -2.335936e-32 -2.447797e-32   \n",
       "4 -5.578014e-32 -1.985515e-32 -6.105519e-32 -1.097290e-32 -6.064440e-33   \n",
       "\n",
       "           f196          f197          f198          f199  \n",
       "0 -6.307185e-33 -5.740002e-32 -4.941461e-33  5.526963e-33  \n",
       "1  4.464314e-32  5.423416e-32  1.168587e-32  3.916058e-32  \n",
       "2 -1.574783e-32  1.704961e-32  2.476006e-32 -1.758963e-32  \n",
       "3 -6.060576e-32 -1.452331e-32  1.337930e-32  1.191742e-32  \n",
       "4 -1.576612e-32  1.427874e-32 -4.925032e-32 -1.422201e-33  \n",
       "\n",
       "[5 rows x 201 columns]"
      ]
     },
     "execution_count": 21,
     "metadata": {},
     "output_type": "execute_result"
    }
   ],
   "source": [
    "final_cdae.head()"
   ]
  },
  {
   "cell_type": "code",
   "execution_count": null,
   "metadata": {},
   "outputs": [],
   "source": [
    "final_cdae.to_csv(os.path.join(PARSE_DATA_DIR, 'cdae_embeddings.csv'), index=False)"
   ]
  },
  {
   "cell_type": "code",
   "execution_count": null,
   "metadata": {},
   "outputs": [],
   "source": [
    "print(ranking_evaluation(cdae, ds_test, n_test_users=100, seed=10))\n",
    "print(predictive_evaluation(cdae, ds_test, skip_errors=True))"
   ]
  }
 ],
 "metadata": {
  "kernelspec": {
   "display_name": "Python 3",
   "language": "python",
   "name": "python3"
  },
  "language_info": {
   "codemirror_mode": {
    "name": "ipython",
    "version": 3
   },
   "file_extension": ".py",
   "mimetype": "text/x-python",
   "name": "python",
   "nbconvert_exporter": "python",
   "pygments_lexer": "ipython3",
   "version": "3.7.6"
  }
 },
 "nbformat": 4,
 "nbformat_minor": 2
}
