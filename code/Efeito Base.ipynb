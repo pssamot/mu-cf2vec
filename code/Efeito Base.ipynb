{
 "cells": [
  {
   "cell_type": "code",
   "execution_count": 1,
   "metadata": {},
   "outputs": [],
   "source": [
    "import pandas as pd\n",
    "import numpy as np\n",
    "import sys\n",
    "import os\n",
    "import json"
   ]
  },
  {
   "cell_type": "markdown",
   "metadata": {},
   "source": [
    "CODIGO PARA VER O PERFECT MICRO LEVEL, GUARDAR FICHEIRO DATASET SEM KNN, COM ZEROS PARA CALCULAR O BASE LEVEL"
   ]
  },
  {
   "cell_type": "code",
   "execution_count": 2,
   "metadata": {},
   "outputs": [],
   "source": [
    "DATA_DIR = '/Users/tomas/Documents/FEUP/Tese/data/ml-20m/processed_70_10_20'"
   ]
  },
  {
   "cell_type": "code",
   "execution_count": 38,
   "metadata": {},
   "outputs": [],
   "source": [
    "results = pd.read_csv(os.path.join(DATA_DIR, 'total_results_k_20.csv'))"
   ]
  },
  {
   "cell_type": "code",
   "execution_count": 39,
   "metadata": {},
   "outputs": [
    {
     "data": {
      "text/html": [
       "<div>\n",
       "<style scoped>\n",
       "    .dataframe tbody tr th:only-of-type {\n",
       "        vertical-align: middle;\n",
       "    }\n",
       "\n",
       "    .dataframe tbody tr th {\n",
       "        vertical-align: top;\n",
       "    }\n",
       "\n",
       "    .dataframe thead th {\n",
       "        text-align: right;\n",
       "    }\n",
       "</style>\n",
       "<table border=\"1\" class=\"dataframe\">\n",
       "  <thead>\n",
       "    <tr style=\"text-align: right;\">\n",
       "      <th></th>\n",
       "      <th>uid</th>\n",
       "      <th>als_ndcg</th>\n",
       "      <th>bpr_ndcg</th>\n",
       "      <th>lmf_ndcg</th>\n",
       "      <th>most_popular_ndcg</th>\n",
       "      <th>knn_cos_ndcg</th>\n",
       "      <th>knn_tfidf_ndcg</th>\n",
       "      <th>knn_bm25_ndcg</th>\n",
       "    </tr>\n",
       "  </thead>\n",
       "  <tbody>\n",
       "    <tr>\n",
       "      <th>129752</th>\n",
       "      <td>129752.0</td>\n",
       "      <td>0.000000</td>\n",
       "      <td>0.000000</td>\n",
       "      <td>0.0</td>\n",
       "      <td>0.000000</td>\n",
       "      <td>0.239812</td>\n",
       "      <td>0.262650</td>\n",
       "      <td>0.000000</td>\n",
       "    </tr>\n",
       "    <tr>\n",
       "      <th>129753</th>\n",
       "      <td>129753.0</td>\n",
       "      <td>0.372325</td>\n",
       "      <td>0.235409</td>\n",
       "      <td>0.0</td>\n",
       "      <td>0.633159</td>\n",
       "      <td>0.629931</td>\n",
       "      <td>0.604798</td>\n",
       "      <td>0.000000</td>\n",
       "    </tr>\n",
       "    <tr>\n",
       "      <th>129754</th>\n",
       "      <td>129754.0</td>\n",
       "      <td>0.000000</td>\n",
       "      <td>0.386853</td>\n",
       "      <td>0.0</td>\n",
       "      <td>0.293793</td>\n",
       "      <td>0.000000</td>\n",
       "      <td>0.000000</td>\n",
       "      <td>0.122697</td>\n",
       "    </tr>\n",
       "    <tr>\n",
       "      <th>129755</th>\n",
       "      <td>129755.0</td>\n",
       "      <td>0.000000</td>\n",
       "      <td>0.333333</td>\n",
       "      <td>0.0</td>\n",
       "      <td>0.000000</td>\n",
       "      <td>0.000000</td>\n",
       "      <td>0.000000</td>\n",
       "      <td>0.000000</td>\n",
       "    </tr>\n",
       "    <tr>\n",
       "      <th>129756</th>\n",
       "      <td>129756.0</td>\n",
       "      <td>0.437790</td>\n",
       "      <td>0.506759</td>\n",
       "      <td>0.0</td>\n",
       "      <td>0.509484</td>\n",
       "      <td>0.507093</td>\n",
       "      <td>0.515806</td>\n",
       "      <td>0.000000</td>\n",
       "    </tr>\n",
       "  </tbody>\n",
       "</table>\n",
       "</div>"
      ],
      "text/plain": [
       "             uid  als_ndcg  bpr_ndcg  lmf_ndcg  most_popular_ndcg  \\\n",
       "129752  129752.0  0.000000  0.000000       0.0           0.000000   \n",
       "129753  129753.0  0.372325  0.235409       0.0           0.633159   \n",
       "129754  129754.0  0.000000  0.386853       0.0           0.293793   \n",
       "129755  129755.0  0.000000  0.333333       0.0           0.000000   \n",
       "129756  129756.0  0.437790  0.506759       0.0           0.509484   \n",
       "\n",
       "        knn_cos_ndcg  knn_tfidf_ndcg  knn_bm25_ndcg  \n",
       "129752      0.239812        0.262650       0.000000  \n",
       "129753      0.629931        0.604798       0.000000  \n",
       "129754      0.000000        0.000000       0.122697  \n",
       "129755      0.000000        0.000000       0.000000  \n",
       "129756      0.507093        0.515806       0.000000  "
      ]
     },
     "execution_count": 39,
     "metadata": {},
     "output_type": "execute_result"
    }
   ],
   "source": [
    "results.tail()"
   ]
  },
  {
   "cell_type": "code",
   "execution_count": 40,
   "metadata": {},
   "outputs": [],
   "source": [
    "with open(os.path.join(DATA_DIR, 'map_user.json')) as f:\n",
    "    map_user = json.load(f)\n",
    "    map_user_dict = {'original_id': list(map_user.keys()), 'mapped_id':list(map_user.values()) }\n",
    "    map_user_df = pd.DataFrame(map_user_dict)"
   ]
  },
  {
   "cell_type": "code",
   "execution_count": 41,
   "metadata": {},
   "outputs": [],
   "source": [
    "results_metadataset = pd.merge(left=map_user_df, right=results, left_on='mapped_id', right_on='uid')\n",
    "results_metadataset['original_id'] = results_metadataset['original_id'].astype(np.int64)\n",
    "results_metadataset = results_metadataset.drop('mapped_id', 1)\n",
    "results_metadataset = results_metadataset.drop('uid', 1)\n",
    "results_metadataset = results_metadataset.drop('knn_cos_ndcg', 1)\n",
    "results_metadataset = results_metadataset.drop('knn_tfidf_ndcg', 1)\n",
    "results_metadataset = results_metadataset.drop('knn_bm25_ndcg', 1)\n",
    "results_metadataset['zeroes'] = 0"
   ]
  },
  {
   "cell_type": "code",
   "execution_count": 47,
   "metadata": {},
   "outputs": [
    {
     "name": "stdout",
     "output_type": "stream",
     "text": [
      "[['als_ndcg' 35779]\n",
      " ['bpr_ndcg' 25905]\n",
      " ['lmf_ndcg' 18691]\n",
      " ['most_popular_ndcg' 28105]\n",
      " ['zeroes' 21277]]\n"
     ]
    }
   ],
   "source": [
    "results_metadataset.head()\n",
    "\n",
    "results_metadataset['zeroes'] = 0.00000000001\n",
    "unique, counts = np.unique(results_metadataset.drop('original_id', 1).idxmax(axis=1), return_counts=True)\n",
    "results_metadataset.drop('original_id', 1).idxmax(axis=1)\n",
    "print(np.asarray((unique, counts)).T)\n",
    "\n"
   ]
  },
  {
   "cell_type": "code",
   "execution_count": 49,
   "metadata": {},
   "outputs": [
    {
     "name": "stdout",
     "output_type": "stream",
     "text": [
      "count %  35779\n",
      "als_ndcg  %  0.2757384958036946\n",
      "count %  28105\n",
      "most_popular_ndcg  %  0.21659717780158297\n",
      "count %  25905\n",
      "bpr_ndcg  %  0.19964240850204612\n",
      "count %  21277\n",
      "zeroes  %  0.16397573926647502\n",
      "count %  18691\n",
      "lmf_ndcg  %  0.14404617862620128\n"
     ]
    }
   ],
   "source": [
    "data = {'first_place':  results_metadataset.drop('original_id', 1).idxmax(axis=1)}\n",
    "df = pd.DataFrame (data, columns = ['first_place'])\n",
    "names = ['als_ndcg','most_popular_ndcg','bpr_ndcg','zeroes','lmf_ndcg']\n",
    "total = df.shape[0] \n",
    "for name, count in zip(names,df.first_place.value_counts()):\n",
    "    print(\"count % \",count)\n",
    "    print(name,\" % \",count/total)"
   ]
  },
  {
   "cell_type": "code",
   "execution_count": 32,
   "metadata": {},
   "outputs": [],
   "source": [
    "results_metadataset.to_csv(os.path.join(DATA_DIR, 'results_metadataset.csv'), index=False)"
   ]
  },
  {
   "cell_type": "code",
   "execution_count": 33,
   "metadata": {},
   "outputs": [],
   "source": [
    "resultados = results_metadataset.drop('original_id', 1)\n",
    "resultados['zeroes'] = 0.00000000001"
   ]
  },
  {
   "cell_type": "code",
   "execution_count": 34,
   "metadata": {},
   "outputs": [],
   "source": [
    "no_zeros_users = False\n",
    "if no_zeros_users:\n",
    "    resultados['max_value'] = resultados.max(axis=1)"
   ]
  },
  {
   "cell_type": "code",
   "execution_count": 35,
   "metadata": {},
   "outputs": [
    {
     "data": {
      "text/html": [
       "<div>\n",
       "<style scoped>\n",
       "    .dataframe tbody tr th:only-of-type {\n",
       "        vertical-align: middle;\n",
       "    }\n",
       "\n",
       "    .dataframe tbody tr th {\n",
       "        vertical-align: top;\n",
       "    }\n",
       "\n",
       "    .dataframe thead th {\n",
       "        text-align: right;\n",
       "    }\n",
       "</style>\n",
       "<table border=\"1\" class=\"dataframe\">\n",
       "  <thead>\n",
       "    <tr style=\"text-align: right;\">\n",
       "      <th></th>\n",
       "      <th>als_ndcg</th>\n",
       "      <th>bpr_ndcg</th>\n",
       "      <th>lmf_ndcg</th>\n",
       "      <th>most_popular_ndcg</th>\n",
       "      <th>zeroes</th>\n",
       "    </tr>\n",
       "  </thead>\n",
       "  <tbody>\n",
       "    <tr>\n",
       "      <th>0</th>\n",
       "      <td>0.000000</td>\n",
       "      <td>0.000000</td>\n",
       "      <td>0.0</td>\n",
       "      <td>0.000000</td>\n",
       "      <td>1.000000e-11</td>\n",
       "    </tr>\n",
       "    <tr>\n",
       "      <th>1</th>\n",
       "      <td>0.746604</td>\n",
       "      <td>0.000000</td>\n",
       "      <td>0.0</td>\n",
       "      <td>0.373071</td>\n",
       "      <td>1.000000e-11</td>\n",
       "    </tr>\n",
       "    <tr>\n",
       "      <th>2</th>\n",
       "      <td>0.000000</td>\n",
       "      <td>0.247014</td>\n",
       "      <td>0.0</td>\n",
       "      <td>0.333333</td>\n",
       "      <td>1.000000e-11</td>\n",
       "    </tr>\n",
       "    <tr>\n",
       "      <th>3</th>\n",
       "      <td>0.000000</td>\n",
       "      <td>0.000000</td>\n",
       "      <td>0.0</td>\n",
       "      <td>0.000000</td>\n",
       "      <td>1.000000e-11</td>\n",
       "    </tr>\n",
       "    <tr>\n",
       "      <th>4</th>\n",
       "      <td>0.272511</td>\n",
       "      <td>0.235409</td>\n",
       "      <td>0.0</td>\n",
       "      <td>0.371962</td>\n",
       "      <td>1.000000e-11</td>\n",
       "    </tr>\n",
       "  </tbody>\n",
       "</table>\n",
       "</div>"
      ],
      "text/plain": [
       "   als_ndcg  bpr_ndcg  lmf_ndcg  most_popular_ndcg        zeroes\n",
       "0  0.000000  0.000000       0.0           0.000000  1.000000e-11\n",
       "1  0.746604  0.000000       0.0           0.373071  1.000000e-11\n",
       "2  0.000000  0.247014       0.0           0.333333  1.000000e-11\n",
       "3  0.000000  0.000000       0.0           0.000000  1.000000e-11\n",
       "4  0.272511  0.235409       0.0           0.371962  1.000000e-11"
      ]
     },
     "execution_count": 35,
     "metadata": {},
     "output_type": "execute_result"
    }
   ],
   "source": [
    "resultados.head()"
   ]
  },
  {
   "cell_type": "code",
   "execution_count": 37,
   "metadata": {},
   "outputs": [
    {
     "name": "stdout",
     "output_type": "stream",
     "text": [
      "[['als_ndcg' 35779]\n",
      " ['bpr_ndcg' 25905]\n",
      " ['lmf_ndcg' 18691]\n",
      " ['most_popular_ndcg' 28105]\n",
      " ['zeroes' 21277]]\n"
     ]
    }
   ],
   "source": [
    "unique, counts = np.unique(resultados.idxmax(axis=1), return_counts=True)\n",
    "\n",
    "print(np.asarray((unique, counts)).T)\n"
   ]
  },
  {
   "cell_type": "code",
   "execution_count": 14,
   "metadata": {},
   "outputs": [],
   "source": [
    "resultados['new_col'] = resultados.stack().groupby(level=0).apply(lambda x: x.unique().tolist())"
   ]
  },
  {
   "cell_type": "code",
   "execution_count": 16,
   "metadata": {},
   "outputs": [
    {
     "data": {
      "text/html": [
       "<div>\n",
       "<style scoped>\n",
       "    .dataframe tbody tr th:only-of-type {\n",
       "        vertical-align: middle;\n",
       "    }\n",
       "\n",
       "    .dataframe tbody tr th {\n",
       "        vertical-align: top;\n",
       "    }\n",
       "\n",
       "    .dataframe thead th {\n",
       "        text-align: right;\n",
       "    }\n",
       "</style>\n",
       "<table border=\"1\" class=\"dataframe\">\n",
       "  <thead>\n",
       "    <tr style=\"text-align: right;\">\n",
       "      <th></th>\n",
       "      <th>als_ndcg</th>\n",
       "      <th>bpr_ndcg</th>\n",
       "      <th>lmf_ndcg</th>\n",
       "      <th>most_popular_ndcg</th>\n",
       "      <th>zeroes</th>\n",
       "      <th>new_col</th>\n",
       "    </tr>\n",
       "  </thead>\n",
       "  <tbody>\n",
       "    <tr>\n",
       "      <th>0</th>\n",
       "      <td>0.000000</td>\n",
       "      <td>0.000000</td>\n",
       "      <td>0.000000</td>\n",
       "      <td>0.000000</td>\n",
       "      <td>0</td>\n",
       "      <td>[0.0]</td>\n",
       "    </tr>\n",
       "    <tr>\n",
       "      <th>1</th>\n",
       "      <td>0.746604</td>\n",
       "      <td>0.000000</td>\n",
       "      <td>0.000000</td>\n",
       "      <td>0.373071</td>\n",
       "      <td>0</td>\n",
       "      <td>[0.7466041555227104, 0.0, 0.3730707174295609]</td>\n",
       "    </tr>\n",
       "    <tr>\n",
       "      <th>2</th>\n",
       "      <td>0.000000</td>\n",
       "      <td>0.247014</td>\n",
       "      <td>0.000000</td>\n",
       "      <td>0.333333</td>\n",
       "      <td>0</td>\n",
       "      <td>[0.0, 0.2470138740984764, 0.3333333333333333]</td>\n",
       "    </tr>\n",
       "    <tr>\n",
       "      <th>3</th>\n",
       "      <td>0.000000</td>\n",
       "      <td>0.000000</td>\n",
       "      <td>0.000000</td>\n",
       "      <td>0.000000</td>\n",
       "      <td>0</td>\n",
       "      <td>[0.0]</td>\n",
       "    </tr>\n",
       "    <tr>\n",
       "      <th>4</th>\n",
       "      <td>0.272511</td>\n",
       "      <td>0.235409</td>\n",
       "      <td>0.000000</td>\n",
       "      <td>0.371962</td>\n",
       "      <td>0</td>\n",
       "      <td>[0.2725114255638517, 0.23540891336663824, 0.0,...</td>\n",
       "    </tr>\n",
       "    <tr>\n",
       "      <th>5</th>\n",
       "      <td>0.282356</td>\n",
       "      <td>0.493568</td>\n",
       "      <td>0.304121</td>\n",
       "      <td>0.000000</td>\n",
       "      <td>0</td>\n",
       "      <td>[0.28235577324654626, 0.4935684703397398, 0.30...</td>\n",
       "    </tr>\n",
       "    <tr>\n",
       "      <th>6</th>\n",
       "      <td>0.297991</td>\n",
       "      <td>0.000000</td>\n",
       "      <td>0.000000</td>\n",
       "      <td>0.242704</td>\n",
       "      <td>0</td>\n",
       "      <td>[0.2979914341852634, 0.0, 0.24270445668331914]</td>\n",
       "    </tr>\n",
       "    <tr>\n",
       "      <th>7</th>\n",
       "      <td>0.387166</td>\n",
       "      <td>0.630930</td>\n",
       "      <td>0.377979</td>\n",
       "      <td>0.000000</td>\n",
       "      <td>0</td>\n",
       "      <td>[0.387166384227576, 0.6309297535714575, 0.3779...</td>\n",
       "    </tr>\n",
       "    <tr>\n",
       "      <th>8</th>\n",
       "      <td>0.301030</td>\n",
       "      <td>0.317575</td>\n",
       "      <td>0.000000</td>\n",
       "      <td>0.235409</td>\n",
       "      <td>0</td>\n",
       "      <td>[0.3010299956639812, 0.317575066379576, 0.0, 0...</td>\n",
       "    </tr>\n",
       "  </tbody>\n",
       "</table>\n",
       "</div>"
      ],
      "text/plain": [
       "   als_ndcg  bpr_ndcg  lmf_ndcg  most_popular_ndcg  zeroes  \\\n",
       "0  0.000000  0.000000  0.000000           0.000000       0   \n",
       "1  0.746604  0.000000  0.000000           0.373071       0   \n",
       "2  0.000000  0.247014  0.000000           0.333333       0   \n",
       "3  0.000000  0.000000  0.000000           0.000000       0   \n",
       "4  0.272511  0.235409  0.000000           0.371962       0   \n",
       "5  0.282356  0.493568  0.304121           0.000000       0   \n",
       "6  0.297991  0.000000  0.000000           0.242704       0   \n",
       "7  0.387166  0.630930  0.377979           0.000000       0   \n",
       "8  0.301030  0.317575  0.000000           0.235409       0   \n",
       "\n",
       "                                             new_col  \n",
       "0                                              [0.0]  \n",
       "1      [0.7466041555227104, 0.0, 0.3730707174295609]  \n",
       "2      [0.0, 0.2470138740984764, 0.3333333333333333]  \n",
       "3                                              [0.0]  \n",
       "4  [0.2725114255638517, 0.23540891336663824, 0.0,...  \n",
       "5  [0.28235577324654626, 0.4935684703397398, 0.30...  \n",
       "6     [0.2979914341852634, 0.0, 0.24270445668331914]  \n",
       "7  [0.387166384227576, 0.6309297535714575, 0.3779...  \n",
       "8  [0.3010299956639812, 0.317575066379576, 0.0, 0...  "
      ]
     },
     "execution_count": 16,
     "metadata": {},
     "output_type": "execute_result"
    }
   ],
   "source": [
    "resultados.head(9)"
   ]
  },
  {
   "cell_type": "code",
   "execution_count": 12,
   "metadata": {
    "scrolled": true
   },
   "outputs": [
    {
     "name": "stdout",
     "output_type": "stream",
     "text": [
      "perfect micro:  0.46053154461827517\n",
      "only als_ndcg:  0.2682470786900254\n",
      "only bpr_ndcg:  0.21120017216892276\n",
      "only lmf_ndcg:  0.169798831355265\n",
      "only most_popular_ndcg:  0.21486503038827084\n",
      "only zeroes:  0.0\n"
     ]
    }
   ],
   "source": [
    "#compute perfect\n",
    "print('perfect micro: ',np.mean(resultados.max(axis=1)))\n",
    "print('only als_ndcg: ', resultados['als_ndcg'].mean())\n",
    "print('only bpr_ndcg: ', resultados['bpr_ndcg'].mean())\n",
    "print('only lmf_ndcg: ', resultados['lmf_ndcg'].mean())\n",
    "print('only most_popular_ndcg: ', resultados['most_popular_ndcg'].mean())\n",
    "print('only zeroes: ', resultados['zeroes'].mean())"
   ]
  },
  {
   "cell_type": "code",
   "execution_count": 78,
   "metadata": {},
   "outputs": [
    {
     "data": {
      "text/plain": [
       "0.2682470786900254"
      ]
     },
     "execution_count": 78,
     "metadata": {},
     "output_type": "execute_result"
    }
   ],
   "source": []
  },
  {
   "cell_type": "code",
   "execution_count": 86,
   "metadata": {},
   "outputs": [],
   "source": [
    "predictions = ['als_ndcg','zeroes', 'most_popular_ndcg','most_popular_ndcg','bpr_ndcg']"
   ]
  },
  {
   "cell_type": "code",
   "execution_count": 87,
   "metadata": {},
   "outputs": [],
   "source": [
    "users = [1,2,3,4,5]"
   ]
  },
  {
   "cell_type": "code",
   "execution_count": 112,
   "metadata": {},
   "outputs": [
    {
     "data": {
      "text/plain": [
       "(0.11374844933999431, 0.18836259282590648, 0.26306928044453637)"
      ]
     },
     "execution_count": 112,
     "metadata": {},
     "output_type": "execute_result"
    }
   ],
   "source": [
    "base_level_eval(users,predictions)"
   ]
  },
  {
   "cell_type": "code",
   "execution_count": 8,
   "metadata": {},
   "outputs": [],
   "source": [
    "def base_level_eval(users, predictions):\n",
    "    \"\"\"Uses the predctions to return the average of the ndcg impact at base level. \n",
    "    Args:\n",
    "        users: list of users ids  \n",
    "        predictions:predictions for users. PREDS HAVE TO be the same index ahas the users list\n",
    "    Returns:\n",
    "        average of ndcg\n",
    "    \"\"\"\n",
    "    print('starting base_level_eval')\n",
    "    results_algo = pd.read_csv(os.path.join(DATA_DIR, 'results_metadataset.csv'))\n",
    "    base_impact = []\n",
    "    base_impact_zeroes_most = []\n",
    "    base_impact_zeroes_best = [] \n",
    "    for user_uid, pred in zip(users, predictions):\n",
    "        \n",
    "        val = results_algo.loc[ results_algo['original_id'] == user_uid, pred]\n",
    "        \n",
    "        if len(val.values) > 1:\n",
    "            raise Exception(\"More than one case\")\n",
    "            \n",
    "        if pred == 'zeroes':\n",
    "            val_zeroes = results_algo.loc[ results_algo['original_id'] == user_uid, 'most_popular_ndcg']\n",
    "            best = results_algo.loc[ results_algo['original_id'] == user_uid]\n",
    "            base_impact.append(val.values[0])\n",
    "            base_impact_zeroes_most.append(val_zeroes.values[0])\n",
    "            base_impact_zeroes_best.append(best.drop('original_id', 1).max(axis=1).values[0])\n",
    "        else:\n",
    "            base_impact.append(val.values[0])\n",
    "            base_impact_zeroes_most.append(val.values[0])\n",
    "            base_impact_zeroes_best.append(val.values[0])\n",
    "\n",
    "        \n",
    "\n",
    "    mean = np.mean(base_impact) \n",
    "    mean_replace_zeroes_most = np.mean(base_impact_zeroes_most) \n",
    "    mean_replace_zeroes_best = np.mean(base_impact_zeroes_best)\n",
    "    \n",
    "    return mean, mean_replace_zeroes_most, mean_replace_zeroes_best"
   ]
  },
  {
   "cell_type": "code",
   "execution_count": 9,
   "metadata": {},
   "outputs": [],
   "source": [
    "# Just choose the name of the dataset directory\n",
    "DATA_DIR = '/Users/tomas/Documents/FEUP/Tese/data/ml-20m/processed_70_10_20'\n",
    "is_vae = True\n",
    "if is_vae:\n",
    "    PARSE_DATA_DIR = os.path.join(DATA_DIR, 'embeddings/vae')\n",
    "else:\n",
    "    PARSE_DATA_DIR = os.path.join(DATA_DIR, 'embeddings/cdae')\n",
    "file = 'metadataset_k_20.csv'\n",
    "metadataset = pd.read_csv(os.path.join(PARSE_DATA_DIR, file ))"
   ]
  },
  {
   "cell_type": "code",
   "execution_count": 10,
   "metadata": {},
   "outputs": [],
   "source": [
    "results_algo = pd.read_csv(os.path.join(DATA_DIR, 'results_metadataset.csv'))"
   ]
  },
  {
   "cell_type": "code",
   "execution_count": 11,
   "metadata": {},
   "outputs": [
    {
     "name": "stdout",
     "output_type": "stream",
     "text": [
      "starting base_level_eval\n"
     ]
    },
    {
     "data": {
      "text/plain": [
       "(0.4605315446182753, 0.4605315446182753, 0.4605315446182753)"
      ]
     },
     "execution_count": 11,
     "metadata": {},
     "output_type": "execute_result"
    }
   ],
   "source": [
    "\n",
    "base_level_eval(metadataset['original_id'].values,metadataset['first_place'].values)"
   ]
  },
  {
   "cell_type": "code",
   "execution_count": null,
   "metadata": {},
   "outputs": [],
   "source": []
  }
 ],
 "metadata": {
  "kernelspec": {
   "display_name": "Python 3",
   "language": "python",
   "name": "python3"
  },
  "language_info": {
   "codemirror_mode": {
    "name": "ipython",
    "version": 3
   },
   "file_extension": ".py",
   "mimetype": "text/x-python",
   "name": "python",
   "nbconvert_exporter": "python",
   "pygments_lexer": "ipython3",
   "version": "3.7.6"
  }
 },
 "nbformat": 4,
 "nbformat_minor": 2
}
