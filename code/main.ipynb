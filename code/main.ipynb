{
 "cells": [
  {
   "cell_type": "code",
   "execution_count": 4,
   "metadata": {},
   "outputs": [],
   "source": [
    "import os\n",
    "import shutil\n",
    "import sys\n",
    "\n",
    "import json\n",
    "\n",
    "import numpy as np\n",
    "from scipy import sparse\n",
    "from sklearn.model_selection import train_test_split\n",
    "\n",
    "import matplotlib.pyplot as plt\n",
    "%matplotlib inline\n",
    "\n",
    "import seaborn as sn\n",
    "sn.set()\n",
    "\n",
    "import pandas as pd\n",
    "import implicit\n",
    "\n",
    "from tqdm.notebook import tqdm"
   ]
  },
  {
   "cell_type": "markdown",
   "metadata": {},
   "source": [
    "#   Data preprocessing"
   ]
  },
  {
   "cell_type": "code",
   "execution_count": 6,
   "metadata": {},
   "outputs": [],
   "source": [
    "# Just choose the name of the dataset directory\n",
    "dataset  = 'ml-20m'\n",
    "DATA_DIR = '/Users/tomas/Documents/FEUP/Tese/data/' + dataset\n",
    "PARSE_DATA_DIR = os.path.join(DATA_DIR, 'processed')"
   ]
  },
  {
   "cell_type": "code",
   "execution_count": 3,
   "metadata": {},
   "outputs": [],
   "source": [
    "raw_data = pd.read_csv(os.path.join(DATA_DIR, 'ratings.csv'), header=0)"
   ]
  },
  {
   "cell_type": "code",
   "execution_count": 4,
   "metadata": {},
   "outputs": [],
   "source": [
    "# binarize the data (only keep ratings >= 4)\n",
    "raw_data = raw_data[raw_data['rating'] > 3.5]"
   ]
  },
  {
   "cell_type": "code",
   "execution_count": 2,
   "metadata": {},
   "outputs": [
    {
     "ename": "NameError",
     "evalue": "name 'raw_data' is not defined",
     "output_type": "error",
     "traceback": [
      "\u001b[0;31m---------------------------------------------------------------------------\u001b[0m",
      "\u001b[0;31mNameError\u001b[0m                                 Traceback (most recent call last)",
      "\u001b[0;32m<ipython-input-2-0216eb7368e0>\u001b[0m in \u001b[0;36m<module>\u001b[0;34m\u001b[0m\n\u001b[0;32m----> 1\u001b[0;31m \u001b[0mraw_data\u001b[0m\u001b[0;34m.\u001b[0m\u001b[0mhead\u001b[0m\u001b[0;34m(\u001b[0m\u001b[0;34m)\u001b[0m\u001b[0;34m\u001b[0m\u001b[0;34m\u001b[0m\u001b[0m\n\u001b[0m",
      "\u001b[0;31mNameError\u001b[0m: name 'raw_data' is not defined"
     ]
    }
   ],
   "source": [
    "raw_data.head()"
   ]
  },
  {
   "cell_type": "markdown",
   "metadata": {},
   "source": [
    "#   Data preprocessing"
   ]
  },
  {
   "cell_type": "markdown",
   "metadata": {},
   "source": [
    "## Clean"
   ]
  },
  {
   "cell_type": "markdown",
   "metadata": {},
   "source": [
    "To have good amount of feedback, item at least with 10 clicks, and users with at least 10 ratings.\n",
    "I will split the data using the following approach. For each user i will use 80% to train, 10% to validation and 10 % to test. In this way in the future i can have a good foundation to use in my work.  "
   ]
  },
  {
   "cell_type": "code",
   "execution_count": 6,
   "metadata": {},
   "outputs": [],
   "source": [
    "# Count the number of unique items/users\n",
    "# returns id, count \n",
    "def get_count(tp, id):\n",
    "    playcount_groupbyid = tp[[id]].groupby(id, as_index=False)\n",
    "    count = playcount_groupbyid.size()\n",
    "    return count"
   ]
  },
  {
   "cell_type": "code",
   "execution_count": 31,
   "metadata": {},
   "outputs": [],
   "source": [
    "# Triplet: user_id, item_id, rating\n",
    "def filter_triplets(tp, min_uc=10, min_sc=10):\n",
    "    \n",
    "    # Only keep the triplets for items which were clicked on by at least min_sc users (10). \n",
    "    if min_sc > 0:\n",
    "        itemcount = get_count(tp, 'movieId')\n",
    "        tp = tp[tp['movieId'].isin(itemcount.index[itemcount >= min_sc])]\n",
    "    \n",
    "    # Only keep the triplets for users who clicked on at least min_uc items (10)\n",
    "    # After doing this, some of the items will have less than min_uc users, but should only be a small proportion\n",
    "    if min_uc > 0:\n",
    "        usercount = get_count(tp, 'userId')\n",
    "        tp = tp[tp['userId'].isin(usercount.index[usercount >= min_uc])]\n",
    "    \n",
    "    # Update both usercount and itemcount after filtering\n",
    "    usercount, itemcount = get_count(tp, 'userId'), get_count(tp, 'movieId') \n",
    "    return tp, usercount, itemcount"
   ]
  },
  {
   "cell_type": "code",
   "execution_count": 32,
   "metadata": {},
   "outputs": [],
   "source": [
    "raw_data, user_activity, item_popularity = filter_triplets(raw_data)"
   ]
  },
  {
   "cell_type": "code",
   "execution_count": 33,
   "metadata": {},
   "outputs": [
    {
     "name": "stdout",
     "output_type": "stream",
     "text": [
      "After filtering, there are 9911968 watching events from 129757 users and 11518 movies (sparsity: 0.663%)\n"
     ]
    }
   ],
   "source": [
    "sparsity = 1. * raw_data.shape[0] / (user_activity.shape[0] * item_popularity.shape[0])\n",
    "\n",
    "print(\"After filtering, there are %d watching events from %d users and %d movies (sparsity: %.3f%%)\" % \n",
    "      (raw_data.shape[0], user_activity.shape[0], item_popularity.shape[0], sparsity * 100))"
   ]
  },
  {
   "cell_type": "code",
   "execution_count": 34,
   "metadata": {},
   "outputs": [],
   "source": [
    "unique_uid = user_activity.index\n",
    "unique_sid = item_popularity.index "
   ]
  },
  {
   "cell_type": "code",
   "execution_count": 51,
   "metadata": {},
   "outputs": [
    {
     "ename": "NameError",
     "evalue": "name 'unique_uid' is not defined",
     "output_type": "error",
     "traceback": [
      "\u001b[0;31m---------------------------------------------------------------------------\u001b[0m",
      "\u001b[0;31mNameError\u001b[0m                                 Traceback (most recent call last)",
      "\u001b[0;32m<ipython-input-51-77f4ac8beb3e>\u001b[0m in \u001b[0;36m<module>\u001b[0;34m\u001b[0m\n\u001b[1;32m      1\u001b[0m \u001b[0mmap_item\u001b[0m \u001b[0;34m=\u001b[0m \u001b[0mdict\u001b[0m\u001b[0;34m(\u001b[0m\u001b[0;34m(\u001b[0m\u001b[0msid\u001b[0m\u001b[0;34m,\u001b[0m \u001b[0mi\u001b[0m\u001b[0;34m)\u001b[0m \u001b[0;32mfor\u001b[0m \u001b[0;34m(\u001b[0m\u001b[0mi\u001b[0m\u001b[0;34m,\u001b[0m \u001b[0msid\u001b[0m\u001b[0;34m)\u001b[0m \u001b[0;32min\u001b[0m \u001b[0menumerate\u001b[0m\u001b[0;34m(\u001b[0m\u001b[0munique_sid\u001b[0m\u001b[0;34m)\u001b[0m\u001b[0;34m)\u001b[0m\u001b[0;34m\u001b[0m\u001b[0;34m\u001b[0m\u001b[0m\n\u001b[0;32m----> 2\u001b[0;31m \u001b[0mmap_user\u001b[0m \u001b[0;34m=\u001b[0m \u001b[0mdict\u001b[0m\u001b[0;34m(\u001b[0m\u001b[0;34m(\u001b[0m\u001b[0muid\u001b[0m\u001b[0;34m,\u001b[0m \u001b[0mi\u001b[0m\u001b[0;34m)\u001b[0m \u001b[0;32mfor\u001b[0m \u001b[0;34m(\u001b[0m\u001b[0mi\u001b[0m\u001b[0;34m,\u001b[0m \u001b[0muid\u001b[0m\u001b[0;34m)\u001b[0m \u001b[0;32min\u001b[0m \u001b[0menumerate\u001b[0m\u001b[0;34m(\u001b[0m\u001b[0munique_uid\u001b[0m\u001b[0;34m)\u001b[0m\u001b[0;34m)\u001b[0m\u001b[0;34m\u001b[0m\u001b[0;34m\u001b[0m\u001b[0m\n\u001b[0m\u001b[1;32m      3\u001b[0m \u001b[0mmap_item_pop\u001b[0m \u001b[0;34m=\u001b[0m \u001b[0mdict\u001b[0m\u001b[0;34m(\u001b[0m\u001b[0;34m(\u001b[0m\u001b[0mi\u001b[0m\u001b[0;34m,\u001b[0m \u001b[0mpop\u001b[0m\u001b[0;34m)\u001b[0m \u001b[0;32mfor\u001b[0m \u001b[0;34m(\u001b[0m\u001b[0mi\u001b[0m\u001b[0;34m,\u001b[0m \u001b[0mpop\u001b[0m\u001b[0;34m)\u001b[0m \u001b[0;32min\u001b[0m \u001b[0menumerate\u001b[0m\u001b[0;34m(\u001b[0m\u001b[0mitem_popularity\u001b[0m\u001b[0;34m)\u001b[0m\u001b[0;34m)\u001b[0m\u001b[0;34m\u001b[0m\u001b[0;34m\u001b[0m\u001b[0m\n",
      "\u001b[0;31mNameError\u001b[0m: name 'unique_uid' is not defined"
     ]
    }
   ],
   "source": [
    "map_item = dict((sid, i) for (i, sid) in enumerate(unique_sid))\n",
    "map_user = dict((uid, i) for (i, uid) in enumerate(unique_uid))\n",
    "map_item_pop = dict((i, pop) for (i, pop) in enumerate(item_popularity))"
   ]
  },
  {
   "cell_type": "code",
   "execution_count": 49,
   "metadata": {},
   "outputs": [],
   "source": [
    "def split_train_val_test_proportion(data, val_prop=0.1 ,test_prop=0.1):\n",
    "    \n",
    "    # Sort by id and timestamp --> divide\n",
    "    data = data.sort_values(['userId', 'timestamp'], ascending=[True, True])\n",
    "    \n",
    "    data_grouped_by_user = data.groupby('userId')\n",
    "    tr_list, val_list ,te_list = list(), list(), list()\n",
    "\n",
    "    np.random.seed(98765)\n",
    "\n",
    "    for i, (_, group) in enumerate(data_grouped_by_user):\n",
    "        n_items_u = len(group)\n",
    "        \n",
    "        train, pre_test = train_test_split(group, test_size=0.2, shuffle=False)\n",
    "        val, test = train_test_split(pre_test, test_size=0.5, shuffle=False)\n",
    "        \n",
    "        tr_list.append(train)\n",
    "        val_list.append(val)\n",
    "        te_list.append(test)\n",
    "        \n",
    "        if i % 10000 == 0:\n",
    "            print(\"%d users sampled\" % i)\n",
    "            sys.stdout.flush()\n",
    "        \n",
    "    data_tr = pd.concat(tr_list)\n",
    "    data_val = pd.concat(val_list)\n",
    "    data_te = pd.concat(te_list)\n",
    "    \n",
    "    return data_tr, data_val, data_te"
   ]
  },
  {
   "cell_type": "code",
   "execution_count": 50,
   "metadata": {
    "scrolled": true
   },
   "outputs": [
    {
     "name": "stdout",
     "output_type": "stream",
     "text": [
      "0 users sampled\n",
      "1000 users sampled\n",
      "2000 users sampled\n",
      "3000 users sampled\n",
      "4000 users sampled\n",
      "5000 users sampled\n",
      "6000 users sampled\n",
      "7000 users sampled\n",
      "8000 users sampled\n",
      "9000 users sampled\n",
      "10000 users sampled\n",
      "11000 users sampled\n",
      "12000 users sampled\n",
      "13000 users sampled\n",
      "14000 users sampled\n",
      "15000 users sampled\n",
      "16000 users sampled\n",
      "17000 users sampled\n",
      "18000 users sampled\n",
      "19000 users sampled\n",
      "20000 users sampled\n",
      "21000 users sampled\n",
      "22000 users sampled\n",
      "23000 users sampled\n",
      "24000 users sampled\n",
      "25000 users sampled\n",
      "26000 users sampled\n",
      "27000 users sampled\n",
      "28000 users sampled\n",
      "29000 users sampled\n",
      "30000 users sampled\n",
      "31000 users sampled\n",
      "32000 users sampled\n",
      "33000 users sampled\n",
      "34000 users sampled\n",
      "35000 users sampled\n",
      "36000 users sampled\n",
      "37000 users sampled\n",
      "38000 users sampled\n",
      "39000 users sampled\n",
      "40000 users sampled\n",
      "41000 users sampled\n",
      "42000 users sampled\n",
      "43000 users sampled\n",
      "44000 users sampled\n",
      "45000 users sampled\n",
      "46000 users sampled\n",
      "47000 users sampled\n",
      "48000 users sampled\n",
      "49000 users sampled\n",
      "50000 users sampled\n",
      "51000 users sampled\n",
      "52000 users sampled\n",
      "53000 users sampled\n",
      "54000 users sampled\n",
      "55000 users sampled\n",
      "56000 users sampled\n",
      "57000 users sampled\n",
      "58000 users sampled\n",
      "59000 users sampled\n",
      "60000 users sampled\n",
      "61000 users sampled\n",
      "62000 users sampled\n",
      "63000 users sampled\n",
      "64000 users sampled\n",
      "65000 users sampled\n",
      "66000 users sampled\n",
      "67000 users sampled\n",
      "68000 users sampled\n",
      "69000 users sampled\n",
      "70000 users sampled\n",
      "71000 users sampled\n",
      "72000 users sampled\n",
      "73000 users sampled\n",
      "74000 users sampled\n",
      "75000 users sampled\n",
      "76000 users sampled\n",
      "77000 users sampled\n",
      "78000 users sampled\n",
      "79000 users sampled\n",
      "80000 users sampled\n",
      "81000 users sampled\n",
      "82000 users sampled\n",
      "83000 users sampled\n",
      "84000 users sampled\n",
      "85000 users sampled\n",
      "86000 users sampled\n",
      "87000 users sampled\n",
      "88000 users sampled\n",
      "89000 users sampled\n",
      "90000 users sampled\n",
      "91000 users sampled\n",
      "92000 users sampled\n",
      "93000 users sampled\n",
      "94000 users sampled\n",
      "95000 users sampled\n",
      "96000 users sampled\n",
      "97000 users sampled\n",
      "98000 users sampled\n",
      "99000 users sampled\n",
      "100000 users sampled\n",
      "101000 users sampled\n",
      "102000 users sampled\n",
      "103000 users sampled\n",
      "104000 users sampled\n",
      "105000 users sampled\n",
      "106000 users sampled\n",
      "107000 users sampled\n",
      "108000 users sampled\n",
      "109000 users sampled\n",
      "110000 users sampled\n",
      "111000 users sampled\n",
      "112000 users sampled\n",
      "113000 users sampled\n",
      "114000 users sampled\n",
      "115000 users sampled\n",
      "116000 users sampled\n",
      "117000 users sampled\n",
      "118000 users sampled\n",
      "119000 users sampled\n",
      "120000 users sampled\n",
      "121000 users sampled\n",
      "122000 users sampled\n",
      "123000 users sampled\n",
      "124000 users sampled\n",
      "125000 users sampled\n",
      "126000 users sampled\n",
      "127000 users sampled\n",
      "128000 users sampled\n",
      "129000 users sampled\n"
     ]
    }
   ],
   "source": [
    "train, val, test = split_train_val_test_proportion(raw_data)"
   ]
  },
  {
   "cell_type": "markdown",
   "metadata": {},
   "source": [
    "## Save the data into Interaction format (user_index, item_index)"
   ]
  },
  {
   "cell_type": "code",
   "execution_count": 69,
   "metadata": {},
   "outputs": [],
   "source": [
    "if not os.path.exists(PARSE_DATA_DIR):\n",
    "    os.makedirs(PARSE_DATA_DIR)"
   ]
  },
  {
   "cell_type": "code",
   "execution_count": 52,
   "metadata": {},
   "outputs": [],
   "source": [
    "def numerize(tp):\n",
    "    uid = list(map(lambda x: map_user[x], tp['userId']))\n",
    "    sid = list(map(lambda x: map_item[x], tp['movieId']))\n",
    "    return pd.DataFrame(data={'uid': uid, 'sid': sid}, columns=['uid', 'sid'])"
   ]
  },
  {
   "cell_type": "code",
   "execution_count": 70,
   "metadata": {},
   "outputs": [],
   "source": [
    "train_data = numerize(train)\n",
    "train_data.to_csv(os.path.join(PARSE_DATA_DIR, 'train.csv'), index=False)"
   ]
  },
  {
   "cell_type": "code",
   "execution_count": 71,
   "metadata": {},
   "outputs": [],
   "source": [
    "val_data = numerize(val)\n",
    "val_data.to_csv(os.path.join(PARSE_DATA_DIR, 'validation.csv'), index=False)"
   ]
  },
  {
   "cell_type": "code",
   "execution_count": 74,
   "metadata": {},
   "outputs": [],
   "source": [
    "test_data = numerize(test)\n",
    "test_data.to_csv(os.path.join(PARSE_DATA_DIR, 'test.csv'), index=False)"
   ]
  },
  {
   "cell_type": "code",
   "execution_count": 76,
   "metadata": {},
   "outputs": [],
   "source": [
    "#save the mappings to later use them to convert\n",
    "with open(os.path.join(PARSE_DATA_DIR, 'map_user.json'), 'w') as fp:\n",
    "    json.dump(map_user, fp)"
   ]
  },
  {
   "cell_type": "code",
   "execution_count": 77,
   "metadata": {},
   "outputs": [],
   "source": [
    "with open(os.path.join(PARSE_DATA_DIR, 'map_item.json'), 'w') as fp:\n",
    "    json.dump(map_item, fp)"
   ]
  },
  {
   "cell_type": "code",
   "execution_count": null,
   "metadata": {},
   "outputs": [],
   "source": [
    "with open(os.path.join(PARSE_DATA_DIR, 'map_item_pop.json'), 'w') as fp:\n",
    "    json.dump(map_item_pop, fp)"
   ]
  },
  {
   "cell_type": "code",
   "execution_count": 78,
   "metadata": {},
   "outputs": [],
   "source": [
    "with open(os.path.join(PARSE_DATA_DIR, 'unique_sid.txt'), 'w') as f:\n",
    "    for sid in unique_sid:\n",
    "        f.write('%s\\n' % sid)"
   ]
  },
  {
   "cell_type": "code",
   "execution_count": 79,
   "metadata": {},
   "outputs": [],
   "source": [
    "with open(os.path.join(PARSE_DATA_DIR, 'unique_uid.txt'), 'w') as f:\n",
    "    for sid in unique_uid:\n",
    "        f.write('%s\\n' % sid)"
   ]
  },
  {
   "cell_type": "markdown",
   "metadata": {
    "heading_collapsed": true
   },
   "source": [
    "## Load Data"
   ]
  },
  {
   "cell_type": "code",
   "execution_count": 7,
   "metadata": {
    "hidden": true
   },
   "outputs": [],
   "source": [
    "unique_sid = list()\n",
    "with open(os.path.join(PARSE_DATA_DIR, 'unique_sid.txt'), 'r') as f:\n",
    "    for line in f:\n",
    "        unique_sid.append(line.strip())\n",
    "\n",
    "n_items = len(unique_sid)"
   ]
  },
  {
   "cell_type": "code",
   "execution_count": 8,
   "metadata": {
    "hidden": true
   },
   "outputs": [],
   "source": [
    "def load_csv_data_to_sparse(csv_file):\n",
    "    tp = pd.read_csv(csv_file)\n",
    "    n_users = tp['uid'].max() + 1\n",
    "\n",
    "    rows, cols = tp['uid'], tp['sid']\n",
    "    data = sparse.csr_matrix((np.ones_like(rows),\n",
    "                             (rows, cols)), dtype='float64',\n",
    "                             shape=(n_users, n_items))\n",
    "    return data, n_users"
   ]
  },
  {
   "cell_type": "code",
   "execution_count": 9,
   "metadata": {
    "hidden": true
   },
   "outputs": [],
   "source": [
    "#TRAIN\n",
    "#user - items\n",
    "train_data, n_users = load_csv_data_to_sparse(os.path.join(PARSE_DATA_DIR, 'train.csv'))"
   ]
  },
  {
   "cell_type": "code",
   "execution_count": 10,
   "metadata": {
    "hidden": true
   },
   "outputs": [],
   "source": [
    "#VALIDATION\n",
    "#user - items\n",
    "validation_data = pd.read_csv(os.path.join(PARSE_DATA_DIR, 'validation.csv'))"
   ]
  },
  {
   "cell_type": "code",
   "execution_count": 11,
   "metadata": {
    "hidden": true
   },
   "outputs": [],
   "source": [
    "#TEST\n",
    "#user - items\n",
    "test_data = pd.read_csv(os.path.join(PARSE_DATA_DIR, 'test.csv'))"
   ]
  },
  {
   "cell_type": "markdown",
   "metadata": {
    "heading_collapsed": true
   },
   "source": [
    "## Evaluation"
   ]
  },
  {
   "cell_type": "code",
   "execution_count": 22,
   "metadata": {
    "hidden": true
   },
   "outputs": [],
   "source": [
    "def get_score(eval_df, pred, k, algo):\n",
    "    \"\"\"Compute the metrics for all the users in pred and compares it with the eval_df. \n",
    "    Args:\n",
    "        eval_df: pandas df with interaction format (uid,sid). It will be used to compare the with the prediction  \n",
    "        pred: numpy array with the predicions for each user\n",
    "        k: Number of results to consider\n",
    "        algo: Name of the algorithm\n",
    "        \n",
    "    Returns:\n",
    "        Discounted cumulative gain\n",
    "    \"\"\"\n",
    "    \n",
    "    algo = algo + \"_ndcg\"\n",
    "    n_users = eval_df['uid'].max() + 1\n",
    "    grouped = eval_df.groupby('uid')\n",
    "\n",
    "    pbar = tqdm()\n",
    "    pbar.reset(total=n_users)\n",
    "    \n",
    "\n",
    "\n",
    "    df = pd.DataFrame(columns=['uid', algo]) \n",
    "\n",
    "    for i, (_, group) in enumerate(grouped):\n",
    "\n",
    "        relevance = 1*np.isin(pred[i],group['sid'])\n",
    "        ndcg = ndcg_at_k(relevance, k)\n",
    "        df = df.append({'uid': i,algo: ndcg }, ignore_index=True)\n",
    "        pbar.update()\n",
    "\n",
    "\n",
    "    pbar.refresh()\n",
    "    print(\"--- \", algo, \" STATS ---\")\n",
    "    print(\"mean: \", df[algo].mean())\n",
    "    print(\"max: \", df[algo].max())\n",
    "    print(\"min: \", df[algo].min())\n",
    "    return df"
   ]
  },
  {
   "cell_type": "code",
   "execution_count": 23,
   "metadata": {
    "hidden": true
   },
   "outputs": [],
   "source": [
    "def dcg_at_k(r, k, method=0):\n",
    "    \"\"\"Score is discounted cumulative gain (dcg)\n",
    "    Relevance is positive real values.  Can use binary\n",
    "    as the previous methods.\n",
    "    Example from\n",
    "    http://www.stanford.edu/class/cs276/handouts/EvaluationNew-handout-6-per.pdf\n",
    "    >>> r = [3, 2, 3, 0, 0, 1, 2, 2, 3, 0]\n",
    "    >>> dcg_at_k(r, 1)\n",
    "    3.0\n",
    "    >>> dcg_at_k(r, 1, method=1)\n",
    "    3.0\n",
    "    >>> dcg_at_k(r, 2)\n",
    "    5.0\n",
    "    >>> dcg_at_k(r, 2, method=1)\n",
    "    4.2618595071429155\n",
    "    >>> dcg_at_k(r, 10)\n",
    "    9.6051177391888114\n",
    "    >>> dcg_at_k(r, 11)\n",
    "    9.6051177391888114\n",
    "    Args:\n",
    "        r: Relevance scores (list or numpy) in rank order\n",
    "            (first element is the first item)\n",
    "        k: Number of results to consider\n",
    "        method: If 0 then weights are [1.0, 1.0, 0.6309, 0.5, 0.4307, ...]\n",
    "                If 1 then weights are [1.0, 0.6309, 0.5, 0.4307, ...]\n",
    "    Returns:\n",
    "        Discounted cumulative gain\n",
    "    \"\"\"\n",
    "    r = np.asfarray(r)[:k]\n",
    "    if r.size:\n",
    "        if method == 0:\n",
    "            return r[0] + np.sum(r[1:] / np.log2(np.arange(2, r.size + 1)))\n",
    "        elif method == 1:\n",
    "            return np.sum(r / np.log2(np.arange(2, r.size + 2)))\n",
    "        else:\n",
    "            raise ValueError('method must be 0 or 1.')\n",
    "    return 0.\n",
    " "
   ]
  },
  {
   "cell_type": "code",
   "execution_count": 24,
   "metadata": {
    "hidden": true
   },
   "outputs": [],
   "source": [
    "def ndcg_at_k(r, k=100, method=0):\n",
    "    \"\"\"Score is normalized discounted cumulative gain (ndcg)\n",
    "    Relevance is positive real values.  Can use binary\n",
    "    as the previous methods.\n",
    "    Example from\n",
    "    http://www.stanford.edu/class/cs276/handouts/EvaluationNew-handout-6-per.pdf\n",
    "    >>> r = [3, 2, 3, 0, 0, 1, 2, 2, 3, 0]\n",
    "    >>> ndcg_at_k(r, 1)\n",
    "    1.0\n",
    "    >>> r = [2, 1, 2, 0]\n",
    "    >>> ndcg_at_k(r, 4)\n",
    "    0.9203032077642922\n",
    "    >>> ndcg_at_k(r, 4, method=1)\n",
    "    0.96519546960144276\n",
    "    >>> ndcg_at_k([0], 1)\n",
    "    0.0\n",
    "    >>> ndcg_at_k([1], 2)\n",
    "    1.0\n",
    "    Args:\n",
    "        r: Relevance scores (list or numpy) in rank order\n",
    "            (first element is the first item)\n",
    "        k: Number of results to consider\n",
    "        method: If 0 then weights are [1.0, 1.0, 0.6309, 0.5, 0.4307, ...]\n",
    "                If 1 then weights are [1.0, 0.6309, 0.5, 0.4307, ...]\n",
    "    Returns:\n",
    "        Normalized discounted cumulative gain\n",
    "    \"\"\"\n",
    "    dcg_max = dcg_at_k(sorted(r, reverse=True), k, method)\n",
    "    if not dcg_max or dcg_max == 0:\n",
    "        return 0.\n",
    "    return dcg_at_k(r, k, method) / dcg_max"
   ]
  },
  {
   "cell_type": "markdown",
   "metadata": {},
   "source": [
    "# Modeling"
   ]
  },
  {
   "cell_type": "markdown",
   "metadata": {
    "heading_collapsed": true
   },
   "source": [
    "### ALS"
   ]
  },
  {
   "cell_type": "code",
   "execution_count": 282,
   "metadata": {
    "hidden": true
   },
   "outputs": [],
   "source": [
    "NUM_THREADS = 0\n",
    "TOP_N = 100\n",
    "Factors = 100\n",
    "k_eval = 30"
   ]
  },
  {
   "cell_type": "code",
   "execution_count": 283,
   "metadata": {
    "hidden": true
   },
   "outputs": [],
   "source": [
    "model = implicit.als.AlternatingLeastSquares(factors=Factors,calculate_training_loss=True)"
   ]
  },
  {
   "cell_type": "code",
   "execution_count": 284,
   "metadata": {
    "hidden": true
   },
   "outputs": [
    {
     "data": {
      "application/vnd.jupyter.widget-view+json": {
       "model_id": "455f27e831d14e2aac0ccebd4183d3f5",
       "version_major": 2,
       "version_minor": 0
      },
      "text/plain": [
       "HBox(children=(IntProgress(value=0, max=15), HTML(value='')))"
      ]
     },
     "metadata": {},
     "output_type": "display_data"
    },
    {
     "name": "stdout",
     "output_type": "stream",
     "text": [
      "\n"
     ]
    }
   ],
   "source": [
    "model.fit(train_data.T)"
   ]
  },
  {
   "cell_type": "code",
   "execution_count": 285,
   "metadata": {
    "hidden": true
   },
   "outputs": [
    {
     "data": {
      "application/vnd.jupyter.widget-view+json": {
       "model_id": "e6602606b1324689b2fbd75bf414efc8",
       "version_major": 2,
       "version_minor": 0
      },
      "text/plain": [
       "HBox(children=(IntProgress(value=0, max=129757), HTML(value='')))"
      ]
     },
     "metadata": {},
     "output_type": "display_data"
    },
    {
     "name": "stdout",
     "output_type": "stream",
     "text": [
      "\n"
     ]
    }
   ],
   "source": [
    "pred = model.recommend_all(user_items=train_data, N=30)"
   ]
  },
  {
   "cell_type": "code",
   "execution_count": 286,
   "metadata": {
    "hidden": true
   },
   "outputs": [
    {
     "data": {
      "application/vnd.jupyter.widget-view+json": {
       "model_id": "8ecdcad50d6c49a0a78bb66eb89273ec",
       "version_major": 2,
       "version_minor": 0
      },
      "text/plain": [
       "HBox(children=(IntProgress(value=1, bar_style='info', max=1), HTML(value='')))"
      ]
     },
     "metadata": {},
     "output_type": "display_data"
    },
    {
     "name": "stdout",
     "output_type": "stream",
     "text": [
      "---  als_ndcg  STATS ---\n",
      "mean:  0.22645122515891924\n",
      "max:  1.0\n",
      "min:  0.0\n"
     ]
    }
   ],
   "source": [
    "results_validation = get_score(validation_data,pred,30, 'als')"
   ]
  },
  {
   "cell_type": "markdown",
   "metadata": {
    "hidden": true
   },
   "source": [
    "Comparison\n",
    "\n",
    "| Algorithm | Parameters | NDCG mean |\n",
    "| --- | --- | --- |\n",
    "| ALS | TOP_N = 30 Factors = 50 | 0.23075 |\n",
    "| ALS | TOP_N = 30 Factors = 50 | 0.2303 |\n",
    "| ALS | TOP_N = 30 Factors = 100 | 0.2303 |\n",
    "| ALS | TOP_N = 30 Factors = 100 | 0.2266 |\n",
    "| ALS | TOP_N = 30 Factors = 100 | 0.2259 |\n",
    "| ALS | TOP_N = 100 Factors = 100 | 0.2486 |\n",
    "| ALS | TOP_N = 100 Factors = 100 | 0.2483 |\n",
    "| ALS | TOP_N = 100 Factors = 500 | 0.1862 |\n",
    "| ALS | TOP_N = 500 Factors = 500 | 0.2031 |\n",
    "| ALS | TOP_N = 100 Factors = 250 | 0.2234 |\n",
    "| ALS | TOP_N = 100 Factors = 175 | 0.2366 |\n",
    "| ALS | TOP_N = 100 Factors = 175 | .2494 |\n"
   ]
  },
  {
   "cell_type": "code",
   "execution_count": 287,
   "metadata": {
    "hidden": true
   },
   "outputs": [
    {
     "data": {
      "application/vnd.jupyter.widget-view+json": {
       "model_id": "0b79eeb14e0f4927994543fb3cce4daa",
       "version_major": 2,
       "version_minor": 0
      },
      "text/plain": [
       "HBox(children=(IntProgress(value=1, bar_style='info', max=1), HTML(value='')))"
      ]
     },
     "metadata": {},
     "output_type": "display_data"
    },
    {
     "name": "stdout",
     "output_type": "stream",
     "text": [
      "---  als_ndcg  STATS ---\n",
      "mean:  0.1903086921831083\n",
      "max:  1.0\n",
      "min:  0.0\n"
     ]
    }
   ],
   "source": [
    "results_test = get_score(test_data,pred,k_eval, 'als')"
   ]
  },
  {
   "cell_type": "code",
   "execution_count": 265,
   "metadata": {
    "hidden": true
   },
   "outputs": [
    {
     "data": {
      "application/vnd.jupyter.widget-view+json": {
       "model_id": "597aed591d1040ffb46a0b580e132196",
       "version_major": 2,
       "version_minor": 0
      },
      "text/plain": [
       "HBox(children=(IntProgress(value=1, bar_style='info', max=1), HTML(value='')))"
      ]
     },
     "metadata": {},
     "output_type": "display_data"
    },
    {
     "name": "stdout",
     "output_type": "stream",
     "text": [
      "---  als_ndcg  STATS ---\n",
      "mean:  0.13645030226132468\n",
      "max:  1.0\n",
      "min:  0.0\n"
     ]
    }
   ],
   "source": [
    "results_als_test_top_30 = get_score(test_data,pred,k_eval, 'als')"
   ]
  },
  {
   "cell_type": "markdown",
   "metadata": {
    "hidden": true
   },
   "source": [
    "Max_top100: 0.22059182005347355\n",
    "max_top30: 0.136"
   ]
  },
  {
   "cell_type": "markdown",
   "metadata": {},
   "source": [
    "### Bayesian Personalized Ranking"
   ]
  },
  {
   "cell_type": "code",
   "execution_count": 27,
   "metadata": {},
   "outputs": [],
   "source": [
    "NUM_THREADS = 0\n",
    "TOP_N = 100\n",
    "Factors = 50"
   ]
  },
  {
   "cell_type": "code",
   "execution_count": 28,
   "metadata": {},
   "outputs": [],
   "source": [
    "model_bpr = implicit.bpr.BayesianPersonalizedRanking(factors=Factors)"
   ]
  },
  {
   "cell_type": "code",
   "execution_count": 29,
   "metadata": {},
   "outputs": [
    {
     "data": {
      "application/vnd.jupyter.widget-view+json": {
       "model_id": "c9894a802f134473a208c6a4e784fc3f",
       "version_major": 2,
       "version_minor": 0
      },
      "text/plain": [
       "HBox(children=(IntProgress(value=0), HTML(value='')))"
      ]
     },
     "metadata": {},
     "output_type": "display_data"
    },
    {
     "name": "stdout",
     "output_type": "stream",
     "text": [
      "\n"
     ]
    }
   ],
   "source": [
    "model_bpr.fit(train_data.T)"
   ]
  },
  {
   "cell_type": "code",
   "execution_count": 30,
   "metadata": {},
   "outputs": [
    {
     "data": {
      "application/vnd.jupyter.widget-view+json": {
       "model_id": "85645e5f0a8147a89b25e6bcfa165d3c",
       "version_major": 2,
       "version_minor": 0
      },
      "text/plain": [
       "HBox(children=(IntProgress(value=0, max=129757), HTML(value='')))"
      ]
     },
     "metadata": {},
     "output_type": "display_data"
    },
    {
     "name": "stdout",
     "output_type": "stream",
     "text": [
      "\n"
     ]
    }
   ],
   "source": [
    "pred_bpr = model_bpr.recommend_all(user_items=train_data, N=TOP_N)"
   ]
  },
  {
   "cell_type": "code",
   "execution_count": 31,
   "metadata": {},
   "outputs": [
    {
     "data": {
      "application/vnd.jupyter.widget-view+json": {
       "model_id": "ecb48909fc8a46a281b2287bc3a28d3d",
       "version_major": 2,
       "version_minor": 0
      },
      "text/plain": [
       "HBox(children=(IntProgress(value=1, bar_style='info', max=1), HTML(value='')))"
      ]
     },
     "metadata": {},
     "output_type": "display_data"
    },
    {
     "name": "stdout",
     "output_type": "stream",
     "text": [
      "---  bpr_ndcg  STATS ---\n",
      "mean:  0.20455084980430524\n",
      "max:  1.0\n",
      "min:  0.0\n"
     ]
    }
   ],
   "source": [
    "results_validation_bpr = get_score(validation_data, pred_bpr, TOP_N, 'bpr')"
   ]
  },
  {
   "cell_type": "markdown",
   "metadata": {},
   "source": [
    "Comparison\n",
    "\n",
    "| Algorithm | Parameters | NDCG mean |\n",
    "| --- | --- | --- |\n",
    "| BPR | TOP_N = 100 Factors = 50 |  0.2053 |\n",
    "| BPR | TOP_N = 50 Factors = 50 |  0.2065 |\n",
    "| BPR | TOP_N = 100 Factors = 100 |  0.2056 |\n",
    "| BPR | TOP_N = 100 Factors = 500 |  0.2046 |\n",
    "| BPR | TOP_N = 100 Factors = 175 |   0.2056 |\n",
    "| BPR | TOP_N = 100 Factors = 175 |   0.2056 |\n",
    "| BPR | TOP_N = 100 Factors = 100 |  0.2062 |\n",
    "| BPR | TOP_N = 100 Factors = 100 |  0.2046 |\n",
    "| BPR | TOP_N = 100 Factors = 50 |   0.2042 |\n",
    "\n",
    "\n",
    "\n"
   ]
  },
  {
   "cell_type": "code",
   "execution_count": 32,
   "metadata": {},
   "outputs": [
    {
     "data": {
      "application/vnd.jupyter.widget-view+json": {
       "model_id": "e909b179e336449d8b5db18bd257d282",
       "version_major": 2,
       "version_minor": 0
      },
      "text/plain": [
       "HBox(children=(IntProgress(value=1, bar_style='info', max=1), HTML(value='')))"
      ]
     },
     "metadata": {},
     "output_type": "display_data"
    },
    {
     "name": "stdout",
     "output_type": "stream",
     "text": [
      "---  bpr_ndcg  STATS ---\n",
      "mean:  0.18580347621291474\n",
      "max:  1.0\n",
      "min:  0.0\n"
     ]
    }
   ],
   "source": [
    "results_results_bpr = get_score(test_data, pred_bpr, TOP_N, 'bpr')"
   ]
  },
  {
   "cell_type": "code",
   "execution_count": 264,
   "metadata": {
    "collapsed": true
   },
   "outputs": [
    {
     "data": {
      "application/vnd.jupyter.widget-view+json": {
       "model_id": "781c5b1cdea44427a1f92b27a4ef80e7",
       "version_major": 2,
       "version_minor": 0
      },
      "text/plain": [
       "HBox(children=(IntProgress(value=1, bar_style='info', max=1), HTML(value='')))"
      ]
     },
     "metadata": {},
     "output_type": "display_data"
    },
    {
     "ename": "KeyboardInterrupt",
     "evalue": "",
     "output_type": "error",
     "traceback": [
      "\u001b[0;31m---------------------------------------------------------------------------\u001b[0m",
      "\u001b[0;31mKeyboardInterrupt\u001b[0m                         Traceback (most recent call last)",
      "\u001b[0;32m<ipython-input-264-da2181401ec6>\u001b[0m in \u001b[0;36m<module>\u001b[0;34m\u001b[0m\n\u001b[0;32m----> 1\u001b[0;31m \u001b[0mresults_test_top_30\u001b[0m \u001b[0;34m=\u001b[0m \u001b[0mget_score\u001b[0m\u001b[0;34m(\u001b[0m\u001b[0mtest_data\u001b[0m\u001b[0;34m,\u001b[0m \u001b[0mpred_bpr\u001b[0m\u001b[0;34m,\u001b[0m \u001b[0mk_eval\u001b[0m\u001b[0;34m,\u001b[0m \u001b[0;34m'bpr'\u001b[0m\u001b[0;34m)\u001b[0m\u001b[0;34m\u001b[0m\u001b[0;34m\u001b[0m\u001b[0m\n\u001b[0m",
      "\u001b[0;32m<ipython-input-22-439b307d69b4>\u001b[0m in \u001b[0;36mget_score\u001b[0;34m(eval_df, pred, k, algo)\u001b[0m\n\u001b[1;32m     24\u001b[0m     \u001b[0;32mfor\u001b[0m \u001b[0mi\u001b[0m\u001b[0;34m,\u001b[0m \u001b[0;34m(\u001b[0m\u001b[0m_\u001b[0m\u001b[0;34m,\u001b[0m \u001b[0mgroup\u001b[0m\u001b[0;34m)\u001b[0m \u001b[0;32min\u001b[0m \u001b[0menumerate\u001b[0m\u001b[0;34m(\u001b[0m\u001b[0mgrouped\u001b[0m\u001b[0;34m)\u001b[0m\u001b[0;34m:\u001b[0m\u001b[0;34m\u001b[0m\u001b[0;34m\u001b[0m\u001b[0m\n\u001b[1;32m     25\u001b[0m \u001b[0;34m\u001b[0m\u001b[0m\n\u001b[0;32m---> 26\u001b[0;31m         \u001b[0mrelevance\u001b[0m \u001b[0;34m=\u001b[0m \u001b[0;36m1\u001b[0m\u001b[0;34m*\u001b[0m\u001b[0mnp\u001b[0m\u001b[0;34m.\u001b[0m\u001b[0misin\u001b[0m\u001b[0;34m(\u001b[0m\u001b[0mpred\u001b[0m\u001b[0;34m[\u001b[0m\u001b[0mi\u001b[0m\u001b[0;34m]\u001b[0m\u001b[0;34m,\u001b[0m\u001b[0mgroup\u001b[0m\u001b[0;34m[\u001b[0m\u001b[0;34m'sid'\u001b[0m\u001b[0;34m]\u001b[0m\u001b[0;34m)\u001b[0m\u001b[0;34m\u001b[0m\u001b[0;34m\u001b[0m\u001b[0m\n\u001b[0m\u001b[1;32m     27\u001b[0m         \u001b[0mndcg\u001b[0m \u001b[0;34m=\u001b[0m \u001b[0mndcg_at_k\u001b[0m\u001b[0;34m(\u001b[0m\u001b[0mrelevance\u001b[0m\u001b[0;34m,\u001b[0m \u001b[0mk\u001b[0m\u001b[0;34m)\u001b[0m\u001b[0;34m\u001b[0m\u001b[0;34m\u001b[0m\u001b[0m\n\u001b[1;32m     28\u001b[0m         \u001b[0mdf\u001b[0m \u001b[0;34m=\u001b[0m \u001b[0mdf\u001b[0m\u001b[0;34m.\u001b[0m\u001b[0mappend\u001b[0m\u001b[0;34m(\u001b[0m\u001b[0;34m{\u001b[0m\u001b[0;34m'uid'\u001b[0m\u001b[0;34m:\u001b[0m \u001b[0mi\u001b[0m\u001b[0;34m,\u001b[0m\u001b[0malgo\u001b[0m\u001b[0;34m:\u001b[0m \u001b[0mndcg\u001b[0m \u001b[0;34m}\u001b[0m\u001b[0;34m,\u001b[0m \u001b[0mignore_index\u001b[0m\u001b[0;34m=\u001b[0m\u001b[0;32mTrue\u001b[0m\u001b[0;34m)\u001b[0m\u001b[0;34m\u001b[0m\u001b[0;34m\u001b[0m\u001b[0m\n",
      "\u001b[0;32m<__array_function__ internals>\u001b[0m in \u001b[0;36misin\u001b[0;34m(*args, **kwargs)\u001b[0m\n",
      "\u001b[0;32m/usr/local/lib/python3.7/site-packages/numpy/lib/arraysetops.py\u001b[0m in \u001b[0;36misin\u001b[0;34m(element, test_elements, assume_unique, invert)\u001b[0m\n\u001b[1;32m    695\u001b[0m     \u001b[0melement\u001b[0m \u001b[0;34m=\u001b[0m \u001b[0mnp\u001b[0m\u001b[0;34m.\u001b[0m\u001b[0masarray\u001b[0m\u001b[0;34m(\u001b[0m\u001b[0melement\u001b[0m\u001b[0;34m)\u001b[0m\u001b[0;34m\u001b[0m\u001b[0;34m\u001b[0m\u001b[0m\n\u001b[1;32m    696\u001b[0m     return in1d(element, test_elements, assume_unique=assume_unique,\n\u001b[0;32m--> 697\u001b[0;31m                 invert=invert).reshape(element.shape)\n\u001b[0m\u001b[1;32m    698\u001b[0m \u001b[0;34m\u001b[0m\u001b[0m\n\u001b[1;32m    699\u001b[0m \u001b[0;34m\u001b[0m\u001b[0m\n",
      "\u001b[0;32m<__array_function__ internals>\u001b[0m in \u001b[0;36min1d\u001b[0;34m(*args, **kwargs)\u001b[0m\n",
      "\u001b[0;32m/usr/local/lib/python3.7/site-packages/numpy/lib/arraysetops.py\u001b[0m in \u001b[0;36min1d\u001b[0;34m(ar1, ar2, assume_unique, invert)\u001b[0m\n\u001b[1;32m    549\u001b[0m     \"\"\"\n\u001b[1;32m    550\u001b[0m     \u001b[0;31m# Ravel both arrays, behavior for the first array could be different\u001b[0m\u001b[0;34m\u001b[0m\u001b[0;34m\u001b[0m\u001b[0;34m\u001b[0m\u001b[0m\n\u001b[0;32m--> 551\u001b[0;31m     \u001b[0mar1\u001b[0m \u001b[0;34m=\u001b[0m \u001b[0mnp\u001b[0m\u001b[0;34m.\u001b[0m\u001b[0masarray\u001b[0m\u001b[0;34m(\u001b[0m\u001b[0mar1\u001b[0m\u001b[0;34m)\u001b[0m\u001b[0;34m.\u001b[0m\u001b[0mravel\u001b[0m\u001b[0;34m(\u001b[0m\u001b[0;34m)\u001b[0m\u001b[0;34m\u001b[0m\u001b[0;34m\u001b[0m\u001b[0m\n\u001b[0m\u001b[1;32m    552\u001b[0m     \u001b[0mar2\u001b[0m \u001b[0;34m=\u001b[0m \u001b[0mnp\u001b[0m\u001b[0;34m.\u001b[0m\u001b[0masarray\u001b[0m\u001b[0;34m(\u001b[0m\u001b[0mar2\u001b[0m\u001b[0;34m)\u001b[0m\u001b[0;34m.\u001b[0m\u001b[0mravel\u001b[0m\u001b[0;34m(\u001b[0m\u001b[0;34m)\u001b[0m\u001b[0;34m\u001b[0m\u001b[0;34m\u001b[0m\u001b[0m\n\u001b[1;32m    553\u001b[0m \u001b[0;34m\u001b[0m\u001b[0m\n",
      "\u001b[0;31mKeyboardInterrupt\u001b[0m: "
     ]
    }
   ],
   "source": [
    "results_test_top_30 = get_score(test_data, pred_bpr, k_eval, 'bpr')"
   ]
  },
  {
   "cell_type": "code",
   "execution_count": 274,
   "metadata": {},
   "outputs": [
    {
     "data": {
      "application/vnd.jupyter.widget-view+json": {
       "model_id": "3b9fb56b893f4f82b7b7e0c34ba11da4",
       "version_major": 2,
       "version_minor": 0
      },
      "text/plain": [
       "HBox(children=(IntProgress(value=1, bar_style='info', max=1), HTML(value='')))"
      ]
     },
     "metadata": {},
     "output_type": "display_data"
    },
    {
     "name": "stdout",
     "output_type": "stream",
     "text": [
      "---  als_ndcg  STATS ---\n",
      "mean:  0.11604408685776114\n",
      "max:  1.0\n",
      "min:  0.0\n"
     ]
    }
   ],
   "source": [
    "k_eval = 30\n",
    "results_bpr_test_top_30 = get_score(test_data,pred_bpr,k_eval, 'bpr')"
   ]
  },
  {
   "cell_type": "code",
   "execution_count": 275,
   "metadata": {},
   "outputs": [],
   "source": [
    "total_results_top30 =  pd.merge(results_als_test_top_30, results_bpr_test_top_30, on='uid')"
   ]
  },
  {
   "cell_type": "code",
   "execution_count": 276,
   "metadata": {},
   "outputs": [
    {
     "data": {
      "text/html": [
       "<div>\n",
       "<style scoped>\n",
       "    .dataframe tbody tr th:only-of-type {\n",
       "        vertical-align: middle;\n",
       "    }\n",
       "\n",
       "    .dataframe tbody tr th {\n",
       "        vertical-align: top;\n",
       "    }\n",
       "\n",
       "    .dataframe thead th {\n",
       "        text-align: right;\n",
       "    }\n",
       "</style>\n",
       "<table border=\"1\" class=\"dataframe\">\n",
       "  <thead>\n",
       "    <tr style=\"text-align: right;\">\n",
       "      <th></th>\n",
       "      <th>uid</th>\n",
       "      <th>als_ndcg_x</th>\n",
       "      <th>als_ndcg_y</th>\n",
       "    </tr>\n",
       "  </thead>\n",
       "  <tbody>\n",
       "    <tr>\n",
       "      <th>0</th>\n",
       "      <td>0.0</td>\n",
       "      <td>0.000000</td>\n",
       "      <td>0.000000</td>\n",
       "    </tr>\n",
       "    <tr>\n",
       "      <th>1</th>\n",
       "      <td>1.0</td>\n",
       "      <td>0.105155</td>\n",
       "      <td>0.000000</td>\n",
       "    </tr>\n",
       "    <tr>\n",
       "      <th>2</th>\n",
       "      <td>2.0</td>\n",
       "      <td>0.000000</td>\n",
       "      <td>0.278656</td>\n",
       "    </tr>\n",
       "    <tr>\n",
       "      <th>3</th>\n",
       "      <td>3.0</td>\n",
       "      <td>0.244651</td>\n",
       "      <td>0.000000</td>\n",
       "    </tr>\n",
       "    <tr>\n",
       "      <th>4</th>\n",
       "      <td>4.0</td>\n",
       "      <td>0.000000</td>\n",
       "      <td>0.000000</td>\n",
       "    </tr>\n",
       "  </tbody>\n",
       "</table>\n",
       "</div>"
      ],
      "text/plain": [
       "   uid  als_ndcg_x  als_ndcg_y\n",
       "0  0.0    0.000000    0.000000\n",
       "1  1.0    0.105155    0.000000\n",
       "2  2.0    0.000000    0.278656\n",
       "3  3.0    0.244651    0.000000\n",
       "4  4.0    0.000000    0.000000"
      ]
     },
     "execution_count": 276,
     "metadata": {},
     "output_type": "execute_result"
    }
   ],
   "source": [
    "total_results_top30.head()"
   ]
  },
  {
   "cell_type": "code",
   "execution_count": null,
   "metadata": {},
   "outputs": [],
   "source": [
    "Max: 0.1851\n",
    "Max_top_30: 0.116 "
   ]
  },
  {
   "cell_type": "code",
   "execution_count": 33,
   "metadata": {},
   "outputs": [],
   "source": [
    "total_results = pd.merge(results_test, results_results_bpr, on='uid')"
   ]
  },
  {
   "cell_type": "code",
   "execution_count": 34,
   "metadata": {},
   "outputs": [
    {
     "data": {
      "text/html": [
       "<div>\n",
       "<style scoped>\n",
       "    .dataframe tbody tr th:only-of-type {\n",
       "        vertical-align: middle;\n",
       "    }\n",
       "\n",
       "    .dataframe tbody tr th {\n",
       "        vertical-align: top;\n",
       "    }\n",
       "\n",
       "    .dataframe thead th {\n",
       "        text-align: right;\n",
       "    }\n",
       "</style>\n",
       "<table border=\"1\" class=\"dataframe\">\n",
       "  <thead>\n",
       "    <tr style=\"text-align: right;\">\n",
       "      <th></th>\n",
       "      <th>uid</th>\n",
       "      <th>als_ndcg</th>\n",
       "      <th>bpr_ndcg</th>\n",
       "    </tr>\n",
       "  </thead>\n",
       "  <tbody>\n",
       "    <tr>\n",
       "      <th>0</th>\n",
       "      <td>0.0</td>\n",
       "      <td>0.000000</td>\n",
       "      <td>0.162077</td>\n",
       "    </tr>\n",
       "    <tr>\n",
       "      <th>1</th>\n",
       "      <td>1.0</td>\n",
       "      <td>0.193301</td>\n",
       "      <td>0.000000</td>\n",
       "    </tr>\n",
       "    <tr>\n",
       "      <th>2</th>\n",
       "      <td>2.0</td>\n",
       "      <td>0.177284</td>\n",
       "      <td>0.327735</td>\n",
       "    </tr>\n",
       "    <tr>\n",
       "      <th>3</th>\n",
       "      <td>3.0</td>\n",
       "      <td>0.244651</td>\n",
       "      <td>0.161555</td>\n",
       "    </tr>\n",
       "    <tr>\n",
       "      <th>4</th>\n",
       "      <td>4.0</td>\n",
       "      <td>0.170304</td>\n",
       "      <td>0.000000</td>\n",
       "    </tr>\n",
       "  </tbody>\n",
       "</table>\n",
       "</div>"
      ],
      "text/plain": [
       "   uid  als_ndcg  bpr_ndcg\n",
       "0  0.0  0.000000  0.162077\n",
       "1  1.0  0.193301  0.000000\n",
       "2  2.0  0.177284  0.327735\n",
       "3  3.0  0.244651  0.161555\n",
       "4  4.0  0.170304  0.000000"
      ]
     },
     "execution_count": 34,
     "metadata": {},
     "output_type": "execute_result"
    }
   ],
   "source": [
    "total_results.head()"
   ]
  },
  {
   "cell_type": "markdown",
   "metadata": {
    "heading_collapsed": true
   },
   "source": [
    "### Logistic Matrix Factorization"
   ]
  },
  {
   "cell_type": "code",
   "execution_count": 35,
   "metadata": {
    "hidden": true
   },
   "outputs": [],
   "source": [
    "NUM_THREADS = 0\n",
    "TOP_N = 100\n",
    "FACTORS = 30"
   ]
  },
  {
   "cell_type": "code",
   "execution_count": 36,
   "metadata": {
    "hidden": true
   },
   "outputs": [],
   "source": [
    "model_LMF = implicit.lmf.LogisticMatrixFactorization(factors=FACTORS)"
   ]
  },
  {
   "cell_type": "code",
   "execution_count": 297,
   "metadata": {
    "hidden": true
   },
   "outputs": [
    {
     "data": {
      "application/vnd.jupyter.widget-view+json": {
       "model_id": "c97b24b6c9a541ed898a794bc41cd113",
       "version_major": 2,
       "version_minor": 0
      },
      "text/plain": [
       "HBox(children=(IntProgress(value=0, max=30), HTML(value='')))"
      ]
     },
     "metadata": {},
     "output_type": "display_data"
    },
    {
     "name": "stdout",
     "output_type": "stream",
     "text": [
      "\n"
     ]
    },
    {
     "ename": "KeyboardInterrupt",
     "evalue": "",
     "output_type": "error",
     "traceback": [
      "\u001b[0;31m---------------------------------------------------------------------------\u001b[0m",
      "\u001b[0;31mKeyboardInterrupt\u001b[0m                         Traceback (most recent call last)",
      "\u001b[0;32m<ipython-input-297-48eb4c7be8c5>\u001b[0m in \u001b[0;36m<module>\u001b[0;34m\u001b[0m\n\u001b[0;32m----> 1\u001b[0;31m \u001b[0mmodel_LMF\u001b[0m\u001b[0;34m.\u001b[0m\u001b[0mfit\u001b[0m\u001b[0;34m(\u001b[0m\u001b[0mtrain_data\u001b[0m\u001b[0;34m.\u001b[0m\u001b[0mT\u001b[0m\u001b[0;34m)\u001b[0m\u001b[0;34m\u001b[0m\u001b[0;34m\u001b[0m\u001b[0m\n\u001b[0m",
      "\u001b[0;32mimplicit/lmf.pyx\u001b[0m in \u001b[0;36mimplicit.lmf.LogisticMatrixFactorization.fit\u001b[0;34m()\u001b[0m\n",
      "\u001b[0;32mimplicit/lmf.pyx\u001b[0m in \u001b[0;36mimplicit.lmf.LogisticMatrixFactorization.fit\u001b[0;34m()\u001b[0m\n",
      "\u001b[0;32m/usr/local/lib/python3.7/site-packages/tqdm/notebook.py\u001b[0m in \u001b[0;36mupdate\u001b[0;34m(self, *args, **kwargs)\u001b[0m\n\u001b[1;32m    228\u001b[0m             \u001b[0;32mraise\u001b[0m\u001b[0;34m\u001b[0m\u001b[0;34m\u001b[0m\u001b[0m\n\u001b[1;32m    229\u001b[0m \u001b[0;34m\u001b[0m\u001b[0m\n\u001b[0;32m--> 230\u001b[0;31m     \u001b[0;32mdef\u001b[0m \u001b[0mupdate\u001b[0m\u001b[0;34m(\u001b[0m\u001b[0mself\u001b[0m\u001b[0;34m,\u001b[0m \u001b[0;34m*\u001b[0m\u001b[0margs\u001b[0m\u001b[0;34m,\u001b[0m \u001b[0;34m**\u001b[0m\u001b[0mkwargs\u001b[0m\u001b[0;34m)\u001b[0m\u001b[0;34m:\u001b[0m\u001b[0;34m\u001b[0m\u001b[0;34m\u001b[0m\u001b[0m\n\u001b[0m\u001b[1;32m    231\u001b[0m         \u001b[0;32mtry\u001b[0m\u001b[0;34m:\u001b[0m\u001b[0;34m\u001b[0m\u001b[0;34m\u001b[0m\u001b[0m\n\u001b[1;32m    232\u001b[0m             \u001b[0msuper\u001b[0m\u001b[0;34m(\u001b[0m\u001b[0mtqdm_notebook\u001b[0m\u001b[0;34m,\u001b[0m \u001b[0mself\u001b[0m\u001b[0;34m)\u001b[0m\u001b[0;34m.\u001b[0m\u001b[0mupdate\u001b[0m\u001b[0;34m(\u001b[0m\u001b[0;34m*\u001b[0m\u001b[0margs\u001b[0m\u001b[0;34m,\u001b[0m \u001b[0;34m**\u001b[0m\u001b[0mkwargs\u001b[0m\u001b[0;34m)\u001b[0m\u001b[0;34m\u001b[0m\u001b[0;34m\u001b[0m\u001b[0m\n",
      "\u001b[0;31mKeyboardInterrupt\u001b[0m: "
     ]
    }
   ],
   "source": [
    "model_LMF.fit(train_data.T)"
   ]
  },
  {
   "cell_type": "code",
   "execution_count": null,
   "metadata": {
    "hidden": true
   },
   "outputs": [],
   "source": [
    "pred_LMF = model_LMF.recommend_all(user_items=train_data, N=TOP_N)"
   ]
  },
  {
   "cell_type": "code",
   "execution_count": null,
   "metadata": {
    "hidden": true
   },
   "outputs": [],
   "source": [
    "results_validation_lmf = get_score(validation_data, pred_LMF, TOP_N, 'lmf')"
   ]
  },
  {
   "cell_type": "markdown",
   "metadata": {
    "hidden": true
   },
   "source": [
    "Comparison\n",
    "\n",
    "| Algorithm | Parameters | NDCG mean |\n",
    "| --- | --- | --- |\n",
    "| LMF | TOP_N = 100 Factors = 30 |  0.1665 |\n",
    "| LMF | TOP_N = 100 Factors = 50 |  0.1649 |\n",
    "| LMF | TOP_N = 100 Factors = 100 |  0.1421 |\n",
    "| LMF | TOP_N = 100 Factors = 20 |  0.1692 |\n",
    "| LMF | TOP_N = 100 Factors = 20 |  0.1700 |"
   ]
  },
  {
   "cell_type": "code",
   "execution_count": 40,
   "metadata": {
    "hidden": true
   },
   "outputs": [
    {
     "data": {
      "application/vnd.jupyter.widget-view+json": {
       "model_id": "b1ba69dff408448d9cd2790098519b70",
       "version_major": 2,
       "version_minor": 0
      },
      "text/plain": [
       "HBox(children=(IntProgress(value=1, bar_style='info', max=1), HTML(value='')))"
      ]
     },
     "metadata": {},
     "output_type": "display_data"
    },
    {
     "name": "stdout",
     "output_type": "stream",
     "text": [
      "---  lmf_ndcg  STATS ---\n",
      "mean:  0.15656350459156088\n",
      "max:  1.0\n",
      "min:  0.0\n"
     ]
    }
   ],
   "source": [
    "results_test_lmf = get_score(test_data, pred_LMF, TOP_N, 'lmf')"
   ]
  },
  {
   "cell_type": "markdown",
   "metadata": {
    "hidden": true
   },
   "source": [
    "\n",
    "| Algorithm | Parameters | NDCG mean |\n",
    "| --- | --- | --- |\n",
    "| LMF | 100-30 |  0.1588 |\n",
    "| LMF | 100-30 |  0.1570 |\n",
    "| LMF | 100-50 |  0.1524 |\n",
    "| LMF | 100-20 |  0.1571 |\n",
    "| LMF | 100-20 |   0.1600 |\n",
    "| LMF | 100-30 |   0.1596 |\n"
   ]
  },
  {
   "cell_type": "code",
   "execution_count": 126,
   "metadata": {
    "hidden": true
   },
   "outputs": [
    {
     "data": {
      "text/html": [
       "<div>\n",
       "<style scoped>\n",
       "    .dataframe tbody tr th:only-of-type {\n",
       "        vertical-align: middle;\n",
       "    }\n",
       "\n",
       "    .dataframe tbody tr th {\n",
       "        vertical-align: top;\n",
       "    }\n",
       "\n",
       "    .dataframe thead th {\n",
       "        text-align: right;\n",
       "    }\n",
       "</style>\n",
       "<table border=\"1\" class=\"dataframe\">\n",
       "  <thead>\n",
       "    <tr style=\"text-align: right;\">\n",
       "      <th></th>\n",
       "      <th>uid</th>\n",
       "      <th>lmf_ndcg</th>\n",
       "    </tr>\n",
       "  </thead>\n",
       "  <tbody>\n",
       "    <tr>\n",
       "      <th>0</th>\n",
       "      <td>0.0</td>\n",
       "      <td>0.000000</td>\n",
       "    </tr>\n",
       "    <tr>\n",
       "      <th>1</th>\n",
       "      <td>1.0</td>\n",
       "      <td>0.164272</td>\n",
       "    </tr>\n",
       "    <tr>\n",
       "      <th>2</th>\n",
       "      <td>2.0</td>\n",
       "      <td>0.207837</td>\n",
       "    </tr>\n",
       "    <tr>\n",
       "      <th>3</th>\n",
       "      <td>3.0</td>\n",
       "      <td>0.270238</td>\n",
       "    </tr>\n",
       "    <tr>\n",
       "      <th>4</th>\n",
       "      <td>4.0</td>\n",
       "      <td>0.000000</td>\n",
       "    </tr>\n",
       "  </tbody>\n",
       "</table>\n",
       "</div>"
      ],
      "text/plain": [
       "   uid  lmf_ndcg\n",
       "0  0.0  0.000000\n",
       "1  1.0  0.164272\n",
       "2  2.0  0.207837\n",
       "3  3.0  0.270238\n",
       "4  4.0  0.000000"
      ]
     },
     "execution_count": 126,
     "metadata": {},
     "output_type": "execute_result"
    }
   ],
   "source": [
    "results_test_lmf.head()"
   ]
  },
  {
   "cell_type": "code",
   "execution_count": 41,
   "metadata": {
    "hidden": true
   },
   "outputs": [],
   "source": [
    "total_results = pd.merge(total_results, results_test_lmf, on='uid')"
   ]
  },
  {
   "cell_type": "code",
   "execution_count": 42,
   "metadata": {
    "hidden": true
   },
   "outputs": [
    {
     "data": {
      "text/html": [
       "<div>\n",
       "<style scoped>\n",
       "    .dataframe tbody tr th:only-of-type {\n",
       "        vertical-align: middle;\n",
       "    }\n",
       "\n",
       "    .dataframe tbody tr th {\n",
       "        vertical-align: top;\n",
       "    }\n",
       "\n",
       "    .dataframe thead th {\n",
       "        text-align: right;\n",
       "    }\n",
       "</style>\n",
       "<table border=\"1\" class=\"dataframe\">\n",
       "  <thead>\n",
       "    <tr style=\"text-align: right;\">\n",
       "      <th></th>\n",
       "      <th>uid</th>\n",
       "      <th>als_ndcg</th>\n",
       "      <th>bpr_ndcg</th>\n",
       "      <th>lmf_ndcg</th>\n",
       "    </tr>\n",
       "  </thead>\n",
       "  <tbody>\n",
       "    <tr>\n",
       "      <th>0</th>\n",
       "      <td>0.0</td>\n",
       "      <td>0.000000</td>\n",
       "      <td>0.162077</td>\n",
       "      <td>0.168613</td>\n",
       "    </tr>\n",
       "    <tr>\n",
       "      <th>1</th>\n",
       "      <td>1.0</td>\n",
       "      <td>0.193301</td>\n",
       "      <td>0.000000</td>\n",
       "      <td>0.171442</td>\n",
       "    </tr>\n",
       "    <tr>\n",
       "      <th>2</th>\n",
       "      <td>2.0</td>\n",
       "      <td>0.177284</td>\n",
       "      <td>0.327735</td>\n",
       "      <td>0.208015</td>\n",
       "    </tr>\n",
       "    <tr>\n",
       "      <th>3</th>\n",
       "      <td>3.0</td>\n",
       "      <td>0.244651</td>\n",
       "      <td>0.161555</td>\n",
       "      <td>0.000000</td>\n",
       "    </tr>\n",
       "    <tr>\n",
       "      <th>4</th>\n",
       "      <td>4.0</td>\n",
       "      <td>0.170304</td>\n",
       "      <td>0.000000</td>\n",
       "      <td>0.172019</td>\n",
       "    </tr>\n",
       "  </tbody>\n",
       "</table>\n",
       "</div>"
      ],
      "text/plain": [
       "   uid  als_ndcg  bpr_ndcg  lmf_ndcg\n",
       "0  0.0  0.000000  0.162077  0.168613\n",
       "1  1.0  0.193301  0.000000  0.171442\n",
       "2  2.0  0.177284  0.327735  0.208015\n",
       "3  3.0  0.244651  0.161555  0.000000\n",
       "4  4.0  0.170304  0.000000  0.172019"
      ]
     },
     "execution_count": 42,
     "metadata": {},
     "output_type": "execute_result"
    }
   ],
   "source": [
    "total_results.head()"
   ]
  },
  {
   "cell_type": "code",
   "execution_count": 277,
   "metadata": {
    "hidden": true
   },
   "outputs": [
    {
     "data": {
      "application/vnd.jupyter.widget-view+json": {
       "model_id": "7aac62ed800248d69a41ed59822ea1b4",
       "version_major": 2,
       "version_minor": 0
      },
      "text/plain": [
       "HBox(children=(IntProgress(value=1, bar_style='info', max=1), HTML(value='')))"
      ]
     },
     "metadata": {},
     "output_type": "display_data"
    },
    {
     "name": "stdout",
     "output_type": "stream",
     "text": [
      "---  lmf_ndcg  STATS ---\n",
      "mean:  0.08471907553509936\n",
      "max:  1.0\n",
      "min:  0.0\n"
     ]
    }
   ],
   "source": [
    "k_eval = 30\n",
    "results_lmf_test_top_30 = get_score(test_data,pred_LMF,k_eval, 'lmf')"
   ]
  },
  {
   "cell_type": "code",
   "execution_count": 278,
   "metadata": {
    "hidden": true
   },
   "outputs": [],
   "source": [
    "total_results_top30 =  pd.merge(total_results_top30, results_lmf_test_top_30, on='uid')"
   ]
  },
  {
   "cell_type": "code",
   "execution_count": 279,
   "metadata": {
    "hidden": true
   },
   "outputs": [
    {
     "data": {
      "text/html": [
       "<div>\n",
       "<style scoped>\n",
       "    .dataframe tbody tr th:only-of-type {\n",
       "        vertical-align: middle;\n",
       "    }\n",
       "\n",
       "    .dataframe tbody tr th {\n",
       "        vertical-align: top;\n",
       "    }\n",
       "\n",
       "    .dataframe thead th {\n",
       "        text-align: right;\n",
       "    }\n",
       "</style>\n",
       "<table border=\"1\" class=\"dataframe\">\n",
       "  <thead>\n",
       "    <tr style=\"text-align: right;\">\n",
       "      <th></th>\n",
       "      <th>uid</th>\n",
       "      <th>als_ndcg_x</th>\n",
       "      <th>als_ndcg_y</th>\n",
       "      <th>lmf_ndcg</th>\n",
       "    </tr>\n",
       "  </thead>\n",
       "  <tbody>\n",
       "    <tr>\n",
       "      <th>0</th>\n",
       "      <td>0.0</td>\n",
       "      <td>0.000000</td>\n",
       "      <td>0.000000</td>\n",
       "      <td>0.000000</td>\n",
       "    </tr>\n",
       "    <tr>\n",
       "      <th>1</th>\n",
       "      <td>1.0</td>\n",
       "      <td>0.105155</td>\n",
       "      <td>0.000000</td>\n",
       "      <td>0.000000</td>\n",
       "    </tr>\n",
       "    <tr>\n",
       "      <th>2</th>\n",
       "      <td>2.0</td>\n",
       "      <td>0.000000</td>\n",
       "      <td>0.278656</td>\n",
       "      <td>0.208015</td>\n",
       "    </tr>\n",
       "    <tr>\n",
       "      <th>3</th>\n",
       "      <td>3.0</td>\n",
       "      <td>0.244651</td>\n",
       "      <td>0.000000</td>\n",
       "      <td>0.000000</td>\n",
       "    </tr>\n",
       "    <tr>\n",
       "      <th>4</th>\n",
       "      <td>4.0</td>\n",
       "      <td>0.000000</td>\n",
       "      <td>0.000000</td>\n",
       "      <td>0.000000</td>\n",
       "    </tr>\n",
       "  </tbody>\n",
       "</table>\n",
       "</div>"
      ],
      "text/plain": [
       "   uid  als_ndcg_x  als_ndcg_y  lmf_ndcg\n",
       "0  0.0    0.000000    0.000000  0.000000\n",
       "1  1.0    0.105155    0.000000  0.000000\n",
       "2  2.0    0.000000    0.278656  0.208015\n",
       "3  3.0    0.244651    0.000000  0.000000\n",
       "4  4.0    0.000000    0.000000  0.000000"
      ]
     },
     "execution_count": 279,
     "metadata": {},
     "output_type": "execute_result"
    }
   ],
   "source": [
    "total_results_top30.head()"
   ]
  },
  {
   "cell_type": "markdown",
   "metadata": {},
   "source": [
    "## Baseline Most popular"
   ]
  },
  {
   "cell_type": "code",
   "execution_count": 43,
   "metadata": {},
   "outputs": [],
   "source": [
    "TOP_N = 100"
   ]
  },
  {
   "cell_type": "code",
   "execution_count": 44,
   "metadata": {},
   "outputs": [],
   "source": [
    "def get_most_popular(train_data, k=100):\n",
    "    \"\"\"Compute recommendations for all users based on the baseline most popular  \n",
    "        Args:\n",
    "            train_data: user_items matrix. it will be used to filter the items already clicked  \n",
    "            pred: numpy array with the predicions for each user\n",
    "            k: Number of results to consider\n",
    "\n",
    "        Returns:\n",
    "        np.array with the recommendations for all users\n",
    "    \"\"\"\n",
    "    print('-- Start --')\n",
    "    train_array = np.array(train_data.toarray())\n",
    "    print('-- converted train_data to np.array --')\n",
    "    \n",
    "    #get the item popularity saved in a json file\n",
    "    with open(os.path.join(PARSE_DATA_DIR, 'map_item_pop.json')) as f:\n",
    "        map_item_pop = json.load(f)\n",
    "    print('-- read json with item popularity --')\n",
    "    \n",
    "    #parse map_item_pop to dataframe may be useful, get the popularity as a np.array  \n",
    "    df_pop = pd.DataFrame(list(map_item_pop.items()),columns = ['sid','pop'])\n",
    "    item_popularity_np = np.array(df_pop['pop'])\n",
    "    print('-- created np.array with the item popularity --')\n",
    "\n",
    "    #invert the sparse matrix, in this way we can clean which items did a user already clicked\n",
    "    not_train_array = 1*np.logical_not(train_array)\n",
    "    print('-- inverted train_np_array --')\n",
    "\n",
    "    #Compute a np array per user with the amount of each item was clicked \n",
    "    #in this way we can sort and with the indices get the most popular for each user\n",
    "    clicks_item_per_user = np.multiply(not_train_array,item_popularity_np)\n",
    "    print('-- multiplied inverted array * item popularity --')\n",
    "\n",
    "\n",
    "    #prepare variables\n",
    "    recommendations_list = []\n",
    "    n_users = clicks_item_per_user.shape[0]\n",
    "    \n",
    "    print('-- gets the recommendations for all users --')\n",
    "    #start progress bar\n",
    "    pbar = tqdm()\n",
    "    pbar.reset(total=n_users)\n",
    "\n",
    "    for i in range(0,n_users):\n",
    "        # for each user get the most clicked s_id \n",
    "        sorted_indices_array = np.argsort(clicks_item_per_user[i])\n",
    "        top_k = sorted_indices_array[-k:]\n",
    "        recommendations_list.append(top_k[::-1])\n",
    "        pbar.update()\n",
    "\n",
    "\n",
    "    recommendations_np = np.array(recommendations_list)\n",
    "    pbar.refresh()\n",
    "    print('-- Im finished master --')\n",
    "    return recommendations_np"
   ]
  },
  {
   "cell_type": "code",
   "execution_count": 45,
   "metadata": {},
   "outputs": [
    {
     "name": "stdout",
     "output_type": "stream",
     "text": [
      "-- Start --\n",
      "-- converted train_data to np.array --\n",
      "-- read json with item popularity --\n",
      "-- created np.array with the item popularity --\n",
      "-- inverted train_np_array --\n",
      "-- multiplied inverted array * item popularity --\n",
      "-- gets the recommendations for all users --\n"
     ]
    },
    {
     "data": {
      "application/vnd.jupyter.widget-view+json": {
       "model_id": "8943498cf27a409a9e99bb068c52304a",
       "version_major": 2,
       "version_minor": 0
      },
      "text/plain": [
       "HBox(children=(IntProgress(value=1, bar_style='info', max=1), HTML(value='')))"
      ]
     },
     "metadata": {},
     "output_type": "display_data"
    },
    {
     "name": "stdout",
     "output_type": "stream",
     "text": [
      "-- Im finished master --\n"
     ]
    }
   ],
   "source": [
    "pred_most_popular = get_most_popular(train_data=train_data, k=TOP_N)"
   ]
  },
  {
   "cell_type": "code",
   "execution_count": 46,
   "metadata": {},
   "outputs": [
    {
     "data": {
      "application/vnd.jupyter.widget-view+json": {
       "model_id": "69c6ff99acb544078b34169bbf12d069",
       "version_major": 2,
       "version_minor": 0
      },
      "text/plain": [
       "HBox(children=(IntProgress(value=1, bar_style='info', max=1), HTML(value='')))"
      ]
     },
     "metadata": {},
     "output_type": "display_data"
    },
    {
     "name": "stdout",
     "output_type": "stream",
     "text": [
      "---  most_popular_ndcg  STATS ---\n",
      "mean:  0.17255620192249524\n",
      "max:  1.0\n",
      "min:  0.0\n"
     ]
    }
   ],
   "source": [
    "results_test_most_popular = get_score(test_data, pred_most_popular, TOP_N, 'most_popular')"
   ]
  },
  {
   "cell_type": "code",
   "execution_count": 47,
   "metadata": {},
   "outputs": [],
   "source": [
    "total_results = pd.merge(total_results, results_test_most_popular, on='uid')"
   ]
  },
  {
   "cell_type": "code",
   "execution_count": 152,
   "metadata": {},
   "outputs": [
    {
     "data": {
      "text/html": [
       "<div>\n",
       "<style scoped>\n",
       "    .dataframe tbody tr th:only-of-type {\n",
       "        vertical-align: middle;\n",
       "    }\n",
       "\n",
       "    .dataframe tbody tr th {\n",
       "        vertical-align: top;\n",
       "    }\n",
       "\n",
       "    .dataframe thead th {\n",
       "        text-align: right;\n",
       "    }\n",
       "</style>\n",
       "<table border=\"1\" class=\"dataframe\">\n",
       "  <thead>\n",
       "    <tr style=\"text-align: right;\">\n",
       "      <th></th>\n",
       "      <th>uid</th>\n",
       "      <th>als_ndcg</th>\n",
       "      <th>bpr_ndcg</th>\n",
       "      <th>lmf_ndcg</th>\n",
       "      <th>most_popular_ndcg</th>\n",
       "    </tr>\n",
       "  </thead>\n",
       "  <tbody>\n",
       "    <tr>\n",
       "      <th>0</th>\n",
       "      <td>0.0</td>\n",
       "      <td>0.000000</td>\n",
       "      <td>0.000000</td>\n",
       "      <td>0.000000</td>\n",
       "      <td>0.000000</td>\n",
       "    </tr>\n",
       "    <tr>\n",
       "      <th>1</th>\n",
       "      <td>1.0</td>\n",
       "      <td>0.196253</td>\n",
       "      <td>0.000000</td>\n",
       "      <td>0.164272</td>\n",
       "      <td>0.279852</td>\n",
       "    </tr>\n",
       "    <tr>\n",
       "      <th>2</th>\n",
       "      <td>2.0</td>\n",
       "      <td>0.180570</td>\n",
       "      <td>0.580653</td>\n",
       "      <td>0.207837</td>\n",
       "      <td>0.000000</td>\n",
       "    </tr>\n",
       "    <tr>\n",
       "      <th>3</th>\n",
       "      <td>3.0</td>\n",
       "      <td>0.250000</td>\n",
       "      <td>0.164272</td>\n",
       "      <td>0.270238</td>\n",
       "      <td>0.000000</td>\n",
       "    </tr>\n",
       "    <tr>\n",
       "      <th>4</th>\n",
       "      <td>4.0</td>\n",
       "      <td>0.207092</td>\n",
       "      <td>0.000000</td>\n",
       "      <td>0.000000</td>\n",
       "      <td>0.396485</td>\n",
       "    </tr>\n",
       "  </tbody>\n",
       "</table>\n",
       "</div>"
      ],
      "text/plain": [
       "   uid  als_ndcg  bpr_ndcg  lmf_ndcg  most_popular_ndcg\n",
       "0  0.0  0.000000  0.000000  0.000000           0.000000\n",
       "1  1.0  0.196253  0.000000  0.164272           0.279852\n",
       "2  2.0  0.180570  0.580653  0.207837           0.000000\n",
       "3  3.0  0.250000  0.164272  0.270238           0.000000\n",
       "4  4.0  0.207092  0.000000  0.000000           0.396485"
      ]
     },
     "execution_count": 152,
     "metadata": {},
     "output_type": "execute_result"
    }
   ],
   "source": [
    "total_results.head()"
   ]
  },
  {
   "cell_type": "markdown",
   "metadata": {},
   "source": [
    "## KNN Item Item"
   ]
  },
  {
   "cell_type": "code",
   "execution_count": 48,
   "metadata": {},
   "outputs": [],
   "source": [
    "K = 10\n",
    "cos = implicit.nearest_neighbours.CosineRecommender(K=K, num_threads=NUM_THREADS)\n",
    "tfidf = implicit.nearest_neighbours.TFIDFRecommender(K=K, num_threads=NUM_THREADS)\n",
    "bm25 = implicit.nearest_neighbours.BM25Recommender(K=K, num_threads=NUM_THREADS)\n",
    "\n",
    "models = [cos, tfidf, bm25]"
   ]
  },
  {
   "cell_type": "code",
   "execution_count": 49,
   "metadata": {},
   "outputs": [
    {
     "data": {
      "application/vnd.jupyter.widget-view+json": {
       "model_id": "3b80b4c59a8b47b4a35f114d5f9cfb1d",
       "version_major": 2,
       "version_minor": 0
      },
      "text/plain": [
       "HBox(children=(IntProgress(value=0, max=11518), HTML(value='')))"
      ]
     },
     "metadata": {},
     "output_type": "display_data"
    },
    {
     "name": "stdout",
     "output_type": "stream",
     "text": [
      "\n"
     ]
    },
    {
     "data": {
      "application/vnd.jupyter.widget-view+json": {
       "model_id": "325e006f1b604c9f99a1db04716c1387",
       "version_major": 2,
       "version_minor": 0
      },
      "text/plain": [
       "HBox(children=(IntProgress(value=0, max=11518), HTML(value='')))"
      ]
     },
     "metadata": {},
     "output_type": "display_data"
    },
    {
     "name": "stdout",
     "output_type": "stream",
     "text": [
      "\n"
     ]
    },
    {
     "data": {
      "application/vnd.jupyter.widget-view+json": {
       "model_id": "d15891ae5a3c44e989a2b968a151cbbf",
       "version_major": 2,
       "version_minor": 0
      },
      "text/plain": [
       "HBox(children=(IntProgress(value=0, max=11518), HTML(value='')))"
      ]
     },
     "metadata": {},
     "output_type": "display_data"
    },
    {
     "name": "stdout",
     "output_type": "stream",
     "text": [
      "\n"
     ]
    }
   ],
   "source": [
    "for model in models:\n",
    "    model.fit(train_data.T)"
   ]
  },
  {
   "cell_type": "code",
   "execution_count": 50,
   "metadata": {},
   "outputs": [],
   "source": [
    "def compute_knn_recomendations(train_data, model, TOP_N=100):\n",
    "    recommendations_list = []\n",
    "    n_users = train_data.shape[0]\n",
    "\n",
    "    pbar = tqdm()\n",
    "    pbar.reset(total=n_users)\n",
    "    for i in range(0,n_users):\n",
    "        user_recomendations_tuples = model.recommend(i,train_data, N=TOP_N)\n",
    "        user_recomendations_sid = [t[0] for t in user_recomendations_tuples]\n",
    "        recommendations_list.append(user_recomendations_sid)\n",
    "        pbar.update()\n",
    "\n",
    "    pbar.refresh()\n",
    "    recomendations_np = np.array(recommendations_list)\n",
    "    return recomendations_np"
   ]
  },
  {
   "cell_type": "code",
   "execution_count": 51,
   "metadata": {},
   "outputs": [
    {
     "data": {
      "application/vnd.jupyter.widget-view+json": {
       "model_id": "f2ac871ea7514ecd88a6d7c34c5ae040",
       "version_major": 2,
       "version_minor": 0
      },
      "text/plain": [
       "HBox(children=(IntProgress(value=1, bar_style='info', max=1), HTML(value='')))"
      ]
     },
     "metadata": {},
     "output_type": "display_data"
    },
    {
     "data": {
      "application/vnd.jupyter.widget-view+json": {
       "model_id": "176611a3333441a3ae3802a924a39ddc",
       "version_major": 2,
       "version_minor": 0
      },
      "text/plain": [
       "HBox(children=(IntProgress(value=1, bar_style='info', max=1), HTML(value='')))"
      ]
     },
     "metadata": {},
     "output_type": "display_data"
    },
    {
     "data": {
      "application/vnd.jupyter.widget-view+json": {
       "model_id": "fe4826e1a1f74bbda09fb5a96fbe6b74",
       "version_major": 2,
       "version_minor": 0
      },
      "text/plain": [
       "HBox(children=(IntProgress(value=1, bar_style='info', max=1), HTML(value='')))"
      ]
     },
     "metadata": {},
     "output_type": "display_data"
    },
    {
     "name": "stdout",
     "output_type": "stream",
     "text": [
      "---  knn_cos_ndcg  STATS ---\n",
      "mean:  0.2221240302937253\n",
      "max:  1.0\n",
      "min:  0.0\n",
      "model finished\n"
     ]
    },
    {
     "data": {
      "application/vnd.jupyter.widget-view+json": {
       "model_id": "30d47249b8a94e9ba9cb440bc0e7cec4",
       "version_major": 2,
       "version_minor": 0
      },
      "text/plain": [
       "HBox(children=(IntProgress(value=1, bar_style='info', max=1), HTML(value='')))"
      ]
     },
     "metadata": {},
     "output_type": "display_data"
    },
    {
     "data": {
      "application/vnd.jupyter.widget-view+json": {
       "model_id": "35e20f509e524fc087e1ad656ce7ed5f",
       "version_major": 2,
       "version_minor": 0
      },
      "text/plain": [
       "HBox(children=(IntProgress(value=1, bar_style='info', max=1), HTML(value='')))"
      ]
     },
     "metadata": {},
     "output_type": "display_data"
    },
    {
     "name": "stdout",
     "output_type": "stream",
     "text": [
      "---  knn_tfidf_ndcg  STATS ---\n",
      "mean:  0.22070459618114885\n",
      "max:  1.0\n",
      "min:  0.0\n",
      "model finished\n"
     ]
    },
    {
     "data": {
      "application/vnd.jupyter.widget-view+json": {
       "model_id": "4be25196588e4396ab95b09c3d02ec07",
       "version_major": 2,
       "version_minor": 0
      },
      "text/plain": [
       "HBox(children=(IntProgress(value=1, bar_style='info', max=1), HTML(value='')))"
      ]
     },
     "metadata": {},
     "output_type": "display_data"
    },
    {
     "data": {
      "application/vnd.jupyter.widget-view+json": {
       "model_id": "4d7bf28926d04782a5689beff03d0f0b",
       "version_major": 2,
       "version_minor": 0
      },
      "text/plain": [
       "HBox(children=(IntProgress(value=1, bar_style='info', max=1), HTML(value='')))"
      ]
     },
     "metadata": {},
     "output_type": "display_data"
    },
    {
     "name": "stdout",
     "output_type": "stream",
     "text": [
      "---  knn_bm25_ndcg  STATS ---\n",
      "mean:  0.1843758588854887\n",
      "max:  1.0\n",
      "min:  0.0\n",
      "model finished\n"
     ]
    },
    {
     "data": {
      "text/plain": [
       "True"
      ]
     },
     "execution_count": 51,
     "metadata": {},
     "output_type": "execute_result"
    }
   ],
   "source": [
    "pbar = tqdm()\n",
    "pbar.reset(total=len(models))\n",
    "\n",
    "for model, name in zip(models, ['knn_cos', 'knn_tfidf', 'knn_bm25']):\n",
    "    pred_knn = compute_knn_recomendations(train_data, model)\n",
    "    results_knn = get_score(test_data, pred_knn, TOP_N, name)\n",
    "    print(\"model finished\")\n",
    "    pbar.update()\n",
    "    total_results = pd.merge(total_results, results_knn, on='uid')\n",
    "    \n",
    "pbar.refresh()"
   ]
  },
  {
   "cell_type": "code",
   "execution_count": 298,
   "metadata": {},
   "outputs": [
    {
     "data": {
      "text/html": [
       "<div>\n",
       "<style scoped>\n",
       "    .dataframe tbody tr th:only-of-type {\n",
       "        vertical-align: middle;\n",
       "    }\n",
       "\n",
       "    .dataframe tbody tr th {\n",
       "        vertical-align: top;\n",
       "    }\n",
       "\n",
       "    .dataframe thead th {\n",
       "        text-align: right;\n",
       "    }\n",
       "</style>\n",
       "<table border=\"1\" class=\"dataframe\">\n",
       "  <thead>\n",
       "    <tr style=\"text-align: right;\">\n",
       "      <th></th>\n",
       "      <th>uid</th>\n",
       "      <th>als_ndcg</th>\n",
       "      <th>bpr_ndcg</th>\n",
       "      <th>lmf_ndcg</th>\n",
       "      <th>most_popular_ndcg</th>\n",
       "      <th>knn_cos_ndcg</th>\n",
       "      <th>knn_tfidf_ndcg</th>\n",
       "      <th>knn_bm25_ndcg</th>\n",
       "    </tr>\n",
       "  </thead>\n",
       "  <tbody>\n",
       "    <tr>\n",
       "      <th>0</th>\n",
       "      <td>0.0</td>\n",
       "      <td>0.000000</td>\n",
       "      <td>0.162077</td>\n",
       "      <td>0.168613</td>\n",
       "      <td>0.000000</td>\n",
       "      <td>0.000000</td>\n",
       "      <td>0.000000</td>\n",
       "      <td>0.000000</td>\n",
       "    </tr>\n",
       "    <tr>\n",
       "      <th>1</th>\n",
       "      <td>1.0</td>\n",
       "      <td>0.193301</td>\n",
       "      <td>0.000000</td>\n",
       "      <td>0.171442</td>\n",
       "      <td>0.279852</td>\n",
       "      <td>0.578241</td>\n",
       "      <td>0.385303</td>\n",
       "      <td>0.000000</td>\n",
       "    </tr>\n",
       "    <tr>\n",
       "      <th>2</th>\n",
       "      <td>2.0</td>\n",
       "      <td>0.177284</td>\n",
       "      <td>0.327735</td>\n",
       "      <td>0.208015</td>\n",
       "      <td>0.000000</td>\n",
       "      <td>0.000000</td>\n",
       "      <td>0.000000</td>\n",
       "      <td>0.160053</td>\n",
       "    </tr>\n",
       "    <tr>\n",
       "      <th>3</th>\n",
       "      <td>3.0</td>\n",
       "      <td>0.244651</td>\n",
       "      <td>0.161555</td>\n",
       "      <td>0.000000</td>\n",
       "      <td>0.000000</td>\n",
       "      <td>0.221065</td>\n",
       "      <td>0.224244</td>\n",
       "      <td>0.235409</td>\n",
       "    </tr>\n",
       "    <tr>\n",
       "      <th>4</th>\n",
       "      <td>4.0</td>\n",
       "      <td>0.170304</td>\n",
       "      <td>0.000000</td>\n",
       "      <td>0.172019</td>\n",
       "      <td>0.396485</td>\n",
       "      <td>0.433540</td>\n",
       "      <td>0.379225</td>\n",
       "      <td>0.165443</td>\n",
       "    </tr>\n",
       "    <tr>\n",
       "      <th>5</th>\n",
       "      <td>5.0</td>\n",
       "      <td>0.229007</td>\n",
       "      <td>0.500000</td>\n",
       "      <td>0.203853</td>\n",
       "      <td>0.000000</td>\n",
       "      <td>0.183169</td>\n",
       "      <td>0.250000</td>\n",
       "      <td>0.333333</td>\n",
       "    </tr>\n",
       "    <tr>\n",
       "      <th>6</th>\n",
       "      <td>6.0</td>\n",
       "      <td>0.203237</td>\n",
       "      <td>0.000000</td>\n",
       "      <td>0.151178</td>\n",
       "      <td>0.280122</td>\n",
       "      <td>0.306138</td>\n",
       "      <td>0.266729</td>\n",
       "      <td>0.158635</td>\n",
       "    </tr>\n",
       "    <tr>\n",
       "      <th>7</th>\n",
       "      <td>7.0</td>\n",
       "      <td>0.515585</td>\n",
       "      <td>0.279541</td>\n",
       "      <td>0.160412</td>\n",
       "      <td>0.166909</td>\n",
       "      <td>0.263099</td>\n",
       "      <td>0.281139</td>\n",
       "      <td>0.630930</td>\n",
       "    </tr>\n",
       "    <tr>\n",
       "      <th>8</th>\n",
       "      <td>8.0</td>\n",
       "      <td>0.630930</td>\n",
       "      <td>0.297191</td>\n",
       "      <td>0.000000</td>\n",
       "      <td>0.235409</td>\n",
       "      <td>0.198240</td>\n",
       "      <td>0.239812</td>\n",
       "      <td>0.193426</td>\n",
       "    </tr>\n",
       "    <tr>\n",
       "      <th>9</th>\n",
       "      <td>9.0</td>\n",
       "      <td>0.000000</td>\n",
       "      <td>0.000000</td>\n",
       "      <td>0.203795</td>\n",
       "      <td>0.227670</td>\n",
       "      <td>0.000000</td>\n",
       "      <td>0.000000</td>\n",
       "      <td>0.000000</td>\n",
       "    </tr>\n",
       "    <tr>\n",
       "      <th>10</th>\n",
       "      <td>10.0</td>\n",
       "      <td>0.378780</td>\n",
       "      <td>0.331815</td>\n",
       "      <td>0.163151</td>\n",
       "      <td>0.608581</td>\n",
       "      <td>0.697064</td>\n",
       "      <td>0.655584</td>\n",
       "      <td>0.249317</td>\n",
       "    </tr>\n",
       "    <tr>\n",
       "      <th>11</th>\n",
       "      <td>11.0</td>\n",
       "      <td>0.000000</td>\n",
       "      <td>0.000000</td>\n",
       "      <td>0.000000</td>\n",
       "      <td>0.337713</td>\n",
       "      <td>0.210289</td>\n",
       "      <td>0.180870</td>\n",
       "      <td>0.178104</td>\n",
       "    </tr>\n",
       "    <tr>\n",
       "      <th>12</th>\n",
       "      <td>12.0</td>\n",
       "      <td>0.302769</td>\n",
       "      <td>0.229610</td>\n",
       "      <td>0.258811</td>\n",
       "      <td>0.301030</td>\n",
       "      <td>0.000000</td>\n",
       "      <td>0.203795</td>\n",
       "      <td>0.172970</td>\n",
       "    </tr>\n",
       "    <tr>\n",
       "      <th>13</th>\n",
       "      <td>13.0</td>\n",
       "      <td>0.338607</td>\n",
       "      <td>1.000000</td>\n",
       "      <td>0.191959</td>\n",
       "      <td>0.296282</td>\n",
       "      <td>0.394360</td>\n",
       "      <td>0.389099</td>\n",
       "      <td>0.162608</td>\n",
       "    </tr>\n",
       "    <tr>\n",
       "      <th>14</th>\n",
       "      <td>14.0</td>\n",
       "      <td>0.182378</td>\n",
       "      <td>0.212746</td>\n",
       "      <td>0.000000</td>\n",
       "      <td>0.000000</td>\n",
       "      <td>0.000000</td>\n",
       "      <td>0.000000</td>\n",
       "      <td>0.172970</td>\n",
       "    </tr>\n",
       "    <tr>\n",
       "      <th>15</th>\n",
       "      <td>15.0</td>\n",
       "      <td>0.165022</td>\n",
       "      <td>0.000000</td>\n",
       "      <td>0.000000</td>\n",
       "      <td>0.000000</td>\n",
       "      <td>0.000000</td>\n",
       "      <td>0.000000</td>\n",
       "      <td>0.000000</td>\n",
       "    </tr>\n",
       "    <tr>\n",
       "      <th>16</th>\n",
       "      <td>16.0</td>\n",
       "      <td>0.000000</td>\n",
       "      <td>0.000000</td>\n",
       "      <td>0.000000</td>\n",
       "      <td>0.164272</td>\n",
       "      <td>0.000000</td>\n",
       "      <td>0.000000</td>\n",
       "      <td>0.000000</td>\n",
       "    </tr>\n",
       "    <tr>\n",
       "      <th>17</th>\n",
       "      <td>17.0</td>\n",
       "      <td>0.000000</td>\n",
       "      <td>0.000000</td>\n",
       "      <td>0.244651</td>\n",
       "      <td>0.179052</td>\n",
       "      <td>0.239812</td>\n",
       "      <td>0.200000</td>\n",
       "      <td>0.154423</td>\n",
       "    </tr>\n",
       "    <tr>\n",
       "      <th>18</th>\n",
       "      <td>18.0</td>\n",
       "      <td>0.162077</td>\n",
       "      <td>0.340562</td>\n",
       "      <td>0.174317</td>\n",
       "      <td>0.000000</td>\n",
       "      <td>0.000000</td>\n",
       "      <td>0.000000</td>\n",
       "      <td>0.000000</td>\n",
       "    </tr>\n",
       "    <tr>\n",
       "      <th>19</th>\n",
       "      <td>19.0</td>\n",
       "      <td>0.430677</td>\n",
       "      <td>0.278943</td>\n",
       "      <td>0.000000</td>\n",
       "      <td>0.170707</td>\n",
       "      <td>0.278943</td>\n",
       "      <td>0.000000</td>\n",
       "      <td>0.000000</td>\n",
       "    </tr>\n",
       "    <tr>\n",
       "      <th>20</th>\n",
       "      <td>20.0</td>\n",
       "      <td>0.223929</td>\n",
       "      <td>0.203262</td>\n",
       "      <td>0.225772</td>\n",
       "      <td>0.000000</td>\n",
       "      <td>0.179052</td>\n",
       "      <td>0.172737</td>\n",
       "      <td>0.223636</td>\n",
       "    </tr>\n",
       "    <tr>\n",
       "      <th>21</th>\n",
       "      <td>21.0</td>\n",
       "      <td>0.203127</td>\n",
       "      <td>0.156380</td>\n",
       "      <td>0.304844</td>\n",
       "      <td>0.000000</td>\n",
       "      <td>0.163151</td>\n",
       "      <td>0.156281</td>\n",
       "      <td>0.261009</td>\n",
       "    </tr>\n",
       "    <tr>\n",
       "      <th>22</th>\n",
       "      <td>22.0</td>\n",
       "      <td>0.174386</td>\n",
       "      <td>0.159571</td>\n",
       "      <td>0.171266</td>\n",
       "      <td>0.000000</td>\n",
       "      <td>0.000000</td>\n",
       "      <td>0.000000</td>\n",
       "      <td>0.000000</td>\n",
       "    </tr>\n",
       "    <tr>\n",
       "      <th>23</th>\n",
       "      <td>23.0</td>\n",
       "      <td>0.000000</td>\n",
       "      <td>0.152925</td>\n",
       "      <td>0.154812</td>\n",
       "      <td>0.272778</td>\n",
       "      <td>0.255292</td>\n",
       "      <td>0.259454</td>\n",
       "      <td>0.215461</td>\n",
       "    </tr>\n",
       "    <tr>\n",
       "      <th>24</th>\n",
       "      <td>24.0</td>\n",
       "      <td>0.193359</td>\n",
       "      <td>0.500000</td>\n",
       "      <td>0.177656</td>\n",
       "      <td>0.158997</td>\n",
       "      <td>0.152565</td>\n",
       "      <td>0.157293</td>\n",
       "      <td>0.000000</td>\n",
       "    </tr>\n",
       "    <tr>\n",
       "      <th>25</th>\n",
       "      <td>25.0</td>\n",
       "      <td>0.292791</td>\n",
       "      <td>0.218979</td>\n",
       "      <td>0.312962</td>\n",
       "      <td>0.156536</td>\n",
       "      <td>0.280009</td>\n",
       "      <td>0.294436</td>\n",
       "      <td>0.223358</td>\n",
       "    </tr>\n",
       "    <tr>\n",
       "      <th>26</th>\n",
       "      <td>26.0</td>\n",
       "      <td>0.000000</td>\n",
       "      <td>0.180031</td>\n",
       "      <td>0.000000</td>\n",
       "      <td>0.000000</td>\n",
       "      <td>0.000000</td>\n",
       "      <td>0.000000</td>\n",
       "      <td>0.000000</td>\n",
       "    </tr>\n",
       "    <tr>\n",
       "      <th>27</th>\n",
       "      <td>27.0</td>\n",
       "      <td>0.000000</td>\n",
       "      <td>0.000000</td>\n",
       "      <td>0.000000</td>\n",
       "      <td>0.000000</td>\n",
       "      <td>0.000000</td>\n",
       "      <td>0.000000</td>\n",
       "      <td>0.160481</td>\n",
       "    </tr>\n",
       "    <tr>\n",
       "      <th>28</th>\n",
       "      <td>28.0</td>\n",
       "      <td>0.275981</td>\n",
       "      <td>0.395524</td>\n",
       "      <td>0.322305</td>\n",
       "      <td>0.000000</td>\n",
       "      <td>0.391443</td>\n",
       "      <td>0.411406</td>\n",
       "      <td>0.404926</td>\n",
       "    </tr>\n",
       "    <tr>\n",
       "      <th>29</th>\n",
       "      <td>29.0</td>\n",
       "      <td>0.193426</td>\n",
       "      <td>0.000000</td>\n",
       "      <td>0.168613</td>\n",
       "      <td>0.169294</td>\n",
       "      <td>0.180031</td>\n",
       "      <td>0.179052</td>\n",
       "      <td>0.000000</td>\n",
       "    </tr>\n",
       "    <tr>\n",
       "      <th>30</th>\n",
       "      <td>30.0</td>\n",
       "      <td>0.000000</td>\n",
       "      <td>0.000000</td>\n",
       "      <td>0.000000</td>\n",
       "      <td>0.000000</td>\n",
       "      <td>0.000000</td>\n",
       "      <td>0.000000</td>\n",
       "      <td>0.191959</td>\n",
       "    </tr>\n",
       "    <tr>\n",
       "      <th>31</th>\n",
       "      <td>31.0</td>\n",
       "      <td>0.216721</td>\n",
       "      <td>0.182251</td>\n",
       "      <td>0.390642</td>\n",
       "      <td>0.218171</td>\n",
       "      <td>0.295110</td>\n",
       "      <td>0.304600</td>\n",
       "      <td>0.245144</td>\n",
       "    </tr>\n",
       "    <tr>\n",
       "      <th>32</th>\n",
       "      <td>32.0</td>\n",
       "      <td>0.203910</td>\n",
       "      <td>0.233621</td>\n",
       "      <td>0.417377</td>\n",
       "      <td>0.000000</td>\n",
       "      <td>0.178104</td>\n",
       "      <td>0.186652</td>\n",
       "      <td>0.266667</td>\n",
       "    </tr>\n",
       "    <tr>\n",
       "      <th>33</th>\n",
       "      <td>33.0</td>\n",
       "      <td>0.158635</td>\n",
       "      <td>0.000000</td>\n",
       "      <td>0.000000</td>\n",
       "      <td>0.000000</td>\n",
       "      <td>0.000000</td>\n",
       "      <td>0.000000</td>\n",
       "      <td>0.000000</td>\n",
       "    </tr>\n",
       "    <tr>\n",
       "      <th>34</th>\n",
       "      <td>34.0</td>\n",
       "      <td>0.210310</td>\n",
       "      <td>0.213848</td>\n",
       "      <td>0.000000</td>\n",
       "      <td>0.181043</td>\n",
       "      <td>0.333333</td>\n",
       "      <td>0.356207</td>\n",
       "      <td>0.173765</td>\n",
       "    </tr>\n",
       "    <tr>\n",
       "      <th>35</th>\n",
       "      <td>35.0</td>\n",
       "      <td>0.227670</td>\n",
       "      <td>0.239133</td>\n",
       "      <td>0.000000</td>\n",
       "      <td>0.430677</td>\n",
       "      <td>0.500000</td>\n",
       "      <td>1.000000</td>\n",
       "      <td>0.500000</td>\n",
       "    </tr>\n",
       "    <tr>\n",
       "      <th>36</th>\n",
       "      <td>36.0</td>\n",
       "      <td>0.158635</td>\n",
       "      <td>0.000000</td>\n",
       "      <td>0.000000</td>\n",
       "      <td>0.190551</td>\n",
       "      <td>0.183169</td>\n",
       "      <td>0.186652</td>\n",
       "      <td>0.000000</td>\n",
       "    </tr>\n",
       "    <tr>\n",
       "      <th>37</th>\n",
       "      <td>37.0</td>\n",
       "      <td>0.172970</td>\n",
       "      <td>0.150515</td>\n",
       "      <td>0.182088</td>\n",
       "      <td>0.171442</td>\n",
       "      <td>0.151520</td>\n",
       "      <td>0.150844</td>\n",
       "      <td>0.175425</td>\n",
       "    </tr>\n",
       "    <tr>\n",
       "      <th>38</th>\n",
       "      <td>38.0</td>\n",
       "      <td>0.509431</td>\n",
       "      <td>0.182097</td>\n",
       "      <td>0.201576</td>\n",
       "      <td>0.217019</td>\n",
       "      <td>0.477937</td>\n",
       "      <td>0.509957</td>\n",
       "      <td>0.500000</td>\n",
       "    </tr>\n",
       "    <tr>\n",
       "      <th>39</th>\n",
       "      <td>39.0</td>\n",
       "      <td>0.246494</td>\n",
       "      <td>0.230155</td>\n",
       "      <td>0.693426</td>\n",
       "      <td>0.330778</td>\n",
       "      <td>0.513543</td>\n",
       "      <td>0.513708</td>\n",
       "      <td>0.235409</td>\n",
       "    </tr>\n",
       "    <tr>\n",
       "      <th>40</th>\n",
       "      <td>40.0</td>\n",
       "      <td>0.151517</td>\n",
       "      <td>0.000000</td>\n",
       "      <td>0.000000</td>\n",
       "      <td>0.161667</td>\n",
       "      <td>0.185697</td>\n",
       "      <td>0.183952</td>\n",
       "      <td>0.000000</td>\n",
       "    </tr>\n",
       "    <tr>\n",
       "      <th>41</th>\n",
       "      <td>41.0</td>\n",
       "      <td>0.000000</td>\n",
       "      <td>0.000000</td>\n",
       "      <td>0.000000</td>\n",
       "      <td>0.000000</td>\n",
       "      <td>0.000000</td>\n",
       "      <td>0.000000</td>\n",
       "      <td>0.000000</td>\n",
       "    </tr>\n",
       "    <tr>\n",
       "      <th>42</th>\n",
       "      <td>42.0</td>\n",
       "      <td>0.162993</td>\n",
       "      <td>0.176291</td>\n",
       "      <td>0.500000</td>\n",
       "      <td>0.168613</td>\n",
       "      <td>0.208015</td>\n",
       "      <td>0.200000</td>\n",
       "      <td>0.315465</td>\n",
       "    </tr>\n",
       "    <tr>\n",
       "      <th>43</th>\n",
       "      <td>43.0</td>\n",
       "      <td>0.589052</td>\n",
       "      <td>1.000000</td>\n",
       "      <td>0.000000</td>\n",
       "      <td>0.221504</td>\n",
       "      <td>0.333333</td>\n",
       "      <td>0.315465</td>\n",
       "      <td>0.244651</td>\n",
       "    </tr>\n",
       "    <tr>\n",
       "      <th>44</th>\n",
       "      <td>44.0</td>\n",
       "      <td>0.220451</td>\n",
       "      <td>0.258457</td>\n",
       "      <td>0.210845</td>\n",
       "      <td>0.000000</td>\n",
       "      <td>0.000000</td>\n",
       "      <td>0.000000</td>\n",
       "      <td>0.168838</td>\n",
       "    </tr>\n",
       "    <tr>\n",
       "      <th>45</th>\n",
       "      <td>45.0</td>\n",
       "      <td>0.300429</td>\n",
       "      <td>0.221065</td>\n",
       "      <td>0.000000</td>\n",
       "      <td>0.195848</td>\n",
       "      <td>0.171442</td>\n",
       "      <td>0.171442</td>\n",
       "      <td>0.000000</td>\n",
       "    </tr>\n",
       "    <tr>\n",
       "      <th>46</th>\n",
       "      <td>46.0</td>\n",
       "      <td>0.196894</td>\n",
       "      <td>0.386853</td>\n",
       "      <td>0.167927</td>\n",
       "      <td>0.219951</td>\n",
       "      <td>0.244073</td>\n",
       "      <td>0.291443</td>\n",
       "      <td>0.000000</td>\n",
       "    </tr>\n",
       "    <tr>\n",
       "      <th>47</th>\n",
       "      <td>47.0</td>\n",
       "      <td>0.270023</td>\n",
       "      <td>0.000000</td>\n",
       "      <td>0.000000</td>\n",
       "      <td>0.314395</td>\n",
       "      <td>0.433517</td>\n",
       "      <td>0.598679</td>\n",
       "      <td>0.000000</td>\n",
       "    </tr>\n",
       "    <tr>\n",
       "      <th>48</th>\n",
       "      <td>48.0</td>\n",
       "      <td>0.217936</td>\n",
       "      <td>0.324135</td>\n",
       "      <td>0.277728</td>\n",
       "      <td>0.233283</td>\n",
       "      <td>0.348672</td>\n",
       "      <td>0.270364</td>\n",
       "      <td>0.298010</td>\n",
       "    </tr>\n",
       "    <tr>\n",
       "      <th>49</th>\n",
       "      <td>49.0</td>\n",
       "      <td>0.273692</td>\n",
       "      <td>0.196737</td>\n",
       "      <td>0.214052</td>\n",
       "      <td>0.154423</td>\n",
       "      <td>0.189173</td>\n",
       "      <td>0.170282</td>\n",
       "      <td>0.195349</td>\n",
       "    </tr>\n",
       "  </tbody>\n",
       "</table>\n",
       "</div>"
      ],
      "text/plain": [
       "     uid  als_ndcg  bpr_ndcg  lmf_ndcg  most_popular_ndcg  knn_cos_ndcg  \\\n",
       "0    0.0  0.000000  0.162077  0.168613           0.000000      0.000000   \n",
       "1    1.0  0.193301  0.000000  0.171442           0.279852      0.578241   \n",
       "2    2.0  0.177284  0.327735  0.208015           0.000000      0.000000   \n",
       "3    3.0  0.244651  0.161555  0.000000           0.000000      0.221065   \n",
       "4    4.0  0.170304  0.000000  0.172019           0.396485      0.433540   \n",
       "5    5.0  0.229007  0.500000  0.203853           0.000000      0.183169   \n",
       "6    6.0  0.203237  0.000000  0.151178           0.280122      0.306138   \n",
       "7    7.0  0.515585  0.279541  0.160412           0.166909      0.263099   \n",
       "8    8.0  0.630930  0.297191  0.000000           0.235409      0.198240   \n",
       "9    9.0  0.000000  0.000000  0.203795           0.227670      0.000000   \n",
       "10  10.0  0.378780  0.331815  0.163151           0.608581      0.697064   \n",
       "11  11.0  0.000000  0.000000  0.000000           0.337713      0.210289   \n",
       "12  12.0  0.302769  0.229610  0.258811           0.301030      0.000000   \n",
       "13  13.0  0.338607  1.000000  0.191959           0.296282      0.394360   \n",
       "14  14.0  0.182378  0.212746  0.000000           0.000000      0.000000   \n",
       "15  15.0  0.165022  0.000000  0.000000           0.000000      0.000000   \n",
       "16  16.0  0.000000  0.000000  0.000000           0.164272      0.000000   \n",
       "17  17.0  0.000000  0.000000  0.244651           0.179052      0.239812   \n",
       "18  18.0  0.162077  0.340562  0.174317           0.000000      0.000000   \n",
       "19  19.0  0.430677  0.278943  0.000000           0.170707      0.278943   \n",
       "20  20.0  0.223929  0.203262  0.225772           0.000000      0.179052   \n",
       "21  21.0  0.203127  0.156380  0.304844           0.000000      0.163151   \n",
       "22  22.0  0.174386  0.159571  0.171266           0.000000      0.000000   \n",
       "23  23.0  0.000000  0.152925  0.154812           0.272778      0.255292   \n",
       "24  24.0  0.193359  0.500000  0.177656           0.158997      0.152565   \n",
       "25  25.0  0.292791  0.218979  0.312962           0.156536      0.280009   \n",
       "26  26.0  0.000000  0.180031  0.000000           0.000000      0.000000   \n",
       "27  27.0  0.000000  0.000000  0.000000           0.000000      0.000000   \n",
       "28  28.0  0.275981  0.395524  0.322305           0.000000      0.391443   \n",
       "29  29.0  0.193426  0.000000  0.168613           0.169294      0.180031   \n",
       "30  30.0  0.000000  0.000000  0.000000           0.000000      0.000000   \n",
       "31  31.0  0.216721  0.182251  0.390642           0.218171      0.295110   \n",
       "32  32.0  0.203910  0.233621  0.417377           0.000000      0.178104   \n",
       "33  33.0  0.158635  0.000000  0.000000           0.000000      0.000000   \n",
       "34  34.0  0.210310  0.213848  0.000000           0.181043      0.333333   \n",
       "35  35.0  0.227670  0.239133  0.000000           0.430677      0.500000   \n",
       "36  36.0  0.158635  0.000000  0.000000           0.190551      0.183169   \n",
       "37  37.0  0.172970  0.150515  0.182088           0.171442      0.151520   \n",
       "38  38.0  0.509431  0.182097  0.201576           0.217019      0.477937   \n",
       "39  39.0  0.246494  0.230155  0.693426           0.330778      0.513543   \n",
       "40  40.0  0.151517  0.000000  0.000000           0.161667      0.185697   \n",
       "41  41.0  0.000000  0.000000  0.000000           0.000000      0.000000   \n",
       "42  42.0  0.162993  0.176291  0.500000           0.168613      0.208015   \n",
       "43  43.0  0.589052  1.000000  0.000000           0.221504      0.333333   \n",
       "44  44.0  0.220451  0.258457  0.210845           0.000000      0.000000   \n",
       "45  45.0  0.300429  0.221065  0.000000           0.195848      0.171442   \n",
       "46  46.0  0.196894  0.386853  0.167927           0.219951      0.244073   \n",
       "47  47.0  0.270023  0.000000  0.000000           0.314395      0.433517   \n",
       "48  48.0  0.217936  0.324135  0.277728           0.233283      0.348672   \n",
       "49  49.0  0.273692  0.196737  0.214052           0.154423      0.189173   \n",
       "\n",
       "    knn_tfidf_ndcg  knn_bm25_ndcg  \n",
       "0         0.000000       0.000000  \n",
       "1         0.385303       0.000000  \n",
       "2         0.000000       0.160053  \n",
       "3         0.224244       0.235409  \n",
       "4         0.379225       0.165443  \n",
       "5         0.250000       0.333333  \n",
       "6         0.266729       0.158635  \n",
       "7         0.281139       0.630930  \n",
       "8         0.239812       0.193426  \n",
       "9         0.000000       0.000000  \n",
       "10        0.655584       0.249317  \n",
       "11        0.180870       0.178104  \n",
       "12        0.203795       0.172970  \n",
       "13        0.389099       0.162608  \n",
       "14        0.000000       0.172970  \n",
       "15        0.000000       0.000000  \n",
       "16        0.000000       0.000000  \n",
       "17        0.200000       0.154423  \n",
       "18        0.000000       0.000000  \n",
       "19        0.000000       0.000000  \n",
       "20        0.172737       0.223636  \n",
       "21        0.156281       0.261009  \n",
       "22        0.000000       0.000000  \n",
       "23        0.259454       0.215461  \n",
       "24        0.157293       0.000000  \n",
       "25        0.294436       0.223358  \n",
       "26        0.000000       0.000000  \n",
       "27        0.000000       0.160481  \n",
       "28        0.411406       0.404926  \n",
       "29        0.179052       0.000000  \n",
       "30        0.000000       0.191959  \n",
       "31        0.304600       0.245144  \n",
       "32        0.186652       0.266667  \n",
       "33        0.000000       0.000000  \n",
       "34        0.356207       0.173765  \n",
       "35        1.000000       0.500000  \n",
       "36        0.186652       0.000000  \n",
       "37        0.150844       0.175425  \n",
       "38        0.509957       0.500000  \n",
       "39        0.513708       0.235409  \n",
       "40        0.183952       0.000000  \n",
       "41        0.000000       0.000000  \n",
       "42        0.200000       0.315465  \n",
       "43        0.315465       0.244651  \n",
       "44        0.000000       0.168838  \n",
       "45        0.171442       0.000000  \n",
       "46        0.291443       0.000000  \n",
       "47        0.598679       0.000000  \n",
       "48        0.270364       0.298010  \n",
       "49        0.170282       0.195349  "
      ]
     },
     "execution_count": 298,
     "metadata": {},
     "output_type": "execute_result"
    }
   ],
   "source": [
    "total_results.head(50)"
   ]
  },
  {
   "cell_type": "markdown",
   "metadata": {},
   "source": [
    "# Analyze data "
   ]
  },
  {
   "cell_type": "code",
   "execution_count": 263,
   "metadata": {},
   "outputs": [],
   "source": [
    "#this is a file in each columns has the evaluation ndcg for each algorithm\n",
    "total_results.to_csv(os.path.join(PARSE_DATA_DIR, 'total_results.csv'), index=False)"
   ]
  },
  {
   "cell_type": "code",
   "execution_count": 53,
   "metadata": {},
   "outputs": [],
   "source": [
    "pre_meta_data_df = total_results.copy()"
   ]
  },
  {
   "cell_type": "code",
   "execution_count": 54,
   "metadata": {},
   "outputs": [],
   "source": [
    "pre_meta_data_df = pre_meta_data_df.drop('uid', 1)"
   ]
  },
  {
   "cell_type": "code",
   "execution_count": 56,
   "metadata": {
    "scrolled": true
   },
   "outputs": [],
   "source": [
    "pre_meta_data_dict = dict([(r[0], list(pre_meta_data_df.columns[np.argsort(list(r)[1: ])])) \\\n",
    "    for r in list(pre_meta_data_df.to_records())])"
   ]
  },
  {
   "cell_type": "code",
   "execution_count": 57,
   "metadata": {},
   "outputs": [],
   "source": [
    "pre_meta_data = pd.DataFrame.from_dict(pre_meta_data_dict,orient = 'index',columns=['first_place', 'second_place', 'third_place', 'fourth_place', 'fifth_place', 'sixth_place','seventh_place'])"
   ]
  },
  {
   "cell_type": "markdown",
   "metadata": {
    "heading_collapsed": true
   },
   "source": [
    "### Create top2"
   ]
  },
  {
   "cell_type": "code",
   "execution_count": 58,
   "metadata": {
    "hidden": true
   },
   "outputs": [],
   "source": [
    "duplas = pre_meta_data.groupby([\"first_place\", \"second_place\"]).size().sort_values(ascending=False).reset_index(name='count').head(10)"
   ]
  },
  {
   "cell_type": "code",
   "execution_count": 59,
   "metadata": {
    "hidden": true
   },
   "outputs": [],
   "source": [
    "duplas_dict = dict( (\"(1:\" + duplas.loc[i, \"first_place\"] + \",2:\" + duplas.loc[i,\"second_place\"] + \")\", duplas.loc[i, \"count\"]) for i in range(len(duplas)))"
   ]
  },
  {
   "cell_type": "code",
   "execution_count": 62,
   "metadata": {
    "hidden": true
   },
   "outputs": [
    {
     "data": {
      "image/png": "[encoded data removed]",
      "text/plain": [
       "<Figure size 432x288 with 1 Axes>"
      ]
     },
     "metadata": {
      "needs_background": "light"
     },
     "output_type": "display_data"
    },
    {
     "data": {
      "image/png": "[encoded data removed]",
      "text/plain": [
       "<Figure size 432x288 with 1 Axes>"
      ]
     },
     "metadata": {},
     "output_type": "display_data"
    }
   ],
   "source": [
    "plot_stats(duplas_dict.keys(), duplas_dict.values(), \"top pairs\")"
   ]
  },
  {
   "cell_type": "markdown",
   "metadata": {
    "heading_collapsed": true
   },
   "source": [
    "### Create top3"
   ]
  },
  {
   "cell_type": "code",
   "execution_count": 63,
   "metadata": {
    "hidden": true
   },
   "outputs": [],
   "source": [
    "triplos = pre_meta_data.groupby([\"first_place\", \"second_place\", \"third_place\"]).size().sort_values(ascending=False).reset_index(name='count').head(10)"
   ]
  },
  {
   "cell_type": "code",
   "execution_count": 64,
   "metadata": {
    "hidden": true
   },
   "outputs": [],
   "source": [
    "triplets_dict = dict( (\"(1:\" + triplos.loc[i, \"first_place\"] + \",2:\" + triplos.loc[i,\"second_place\"] + \",3:\" + triplos.loc[i,\"third_place\"] + \")\", triplos.loc[i, \"count\"]) for i in range(len(duplas)))"
   ]
  },
  {
   "cell_type": "code",
   "execution_count": 65,
   "metadata": {
    "hidden": true
   },
   "outputs": [
    {
     "name": "stderr",
     "output_type": "stream",
     "text": [
      "/usr/local/lib/python3.7/site-packages/ipykernel_launcher.py:24: UserWarning: Tight layout not applied. The bottom and top margins cannot be made large enough to accommodate all axes decorations. \n"
     ]
    },
    {
     "data": {
      "image/png": "[encoded data removed]",
      "text/plain": [
       "<Figure size 432x288 with 1 Axes>"
      ]
     },
     "metadata": {
      "needs_background": "light"
     },
     "output_type": "display_data"
    },
    {
     "data": {
      "image/png": "[encoded data removed]",
      "text/plain": [
       "<Figure size 432x288 with 1 Axes>"
      ]
     },
     "metadata": {},
     "output_type": "display_data"
    }
   ],
   "source": [
    "plot_stats(triplets_dict.keys(), triplets_dict.values(), \"top triplets\")"
   ]
  },
  {
   "cell_type": "markdown",
   "metadata": {},
   "source": [
    "### Top of each place "
   ]
  },
  {
   "cell_type": "code",
   "execution_count": 66,
   "metadata": {},
   "outputs": [
    {
     "name": "stdout",
     "output_type": "stream",
     "text": [
      "--- plots of first_place  ---\n"
     ]
    },
    {
     "data": {
      "image/png": "[encoded data removed]",
      "text/plain": [
       "<Figure size 432x288 with 1 Axes>"
      ]
     },
     "metadata": {
      "needs_background": "light"
     },
     "output_type": "display_data"
    },
    {
     "data": {
      "image/png": "[encoded data removed]",
      "text/plain": [
       "<Figure size 432x288 with 1 Axes>"
      ]
     },
     "metadata": {},
     "output_type": "display_data"
    },
    {
     "name": "stdout",
     "output_type": "stream",
     "text": [
      "--- plots of second_place  ---\n"
     ]
    },
    {
     "data": {
      "image/png": "[encoded data removed]",
      "text/plain": [
       "<Figure size 432x288 with 1 Axes>"
      ]
     },
     "metadata": {
      "needs_background": "light"
     },
     "output_type": "display_data"
    },
    {
     "data": {
      "image/png": "[encoded data removed]",
      "text/plain": [
       "<Figure size 432x288 with 1 Axes>"
      ]
     },
     "metadata": {},
     "output_type": "display_data"
    },
    {
     "name": "stdout",
     "output_type": "stream",
     "text": [
      "--- plots of third_place  ---\n"
     ]
    },
    {
     "data": {
      "image/png": "[encoded data removed]",
      "text/plain": [
       "<Figure size 432x288 with 1 Axes>"
      ]
     },
     "metadata": {
      "needs_background": "light"
     },
     "output_type": "display_data"
    },
    {
     "data": {
      "image/png": "[encoded data removed]",
      "text/plain": [
       "<Figure size 432x288 with 1 Axes>"
      ]
     },
     "metadata": {},
     "output_type": "display_data"
    },
    {
     "name": "stdout",
     "output_type": "stream",
     "text": [
      "--- plots of fourth_place  ---\n"
     ]
    },
    {
     "data": {
      "image/png": "[encoded data removed]",
      "text/plain": [
       "<Figure size 432x288 with 1 Axes>"
      ]
     },
     "metadata": {
      "needs_background": "light"
     },
     "output_type": "display_data"
    },
    {
     "data": {
      "image/png": "[encoded data removed]",
      "text/plain": [
       "<Figure size 432x288 with 1 Axes>"
      ]
     },
     "metadata": {},
     "output_type": "display_data"
    },
    {
     "name": "stdout",
     "output_type": "stream",
     "text": [
      "--- plots of fifth_place  ---\n"
     ]
    },
    {
     "data": {
      "image/png": "[encoded data removed]",
      "text/plain": [
       "<Figure size 432x288 with 1 Axes>"
      ]
     },
     "metadata": {
      "needs_background": "light"
     },
     "output_type": "display_data"
    },
    {
     "data": {
      "image/png": "[encoded data removed]",
      "text/plain": [
       "<Figure size 432x288 with 1 Axes>"
      ]
     },
     "metadata": {},
     "output_type": "display_data"
    },
    {
     "name": "stdout",
     "output_type": "stream",
     "text": [
      "--- plots of sixth_place  ---\n"
     ]
    },
    {
     "data": {
      "image/png": "[encoded data removed]",
      "text/plain": [
       "<Figure size 432x288 with 1 Axes>"
      ]
     },
     "metadata": {
      "needs_background": "light"
     },
     "output_type": "display_data"
    },
    {
     "data": {
      "image/png": "[encoded data removed]",
      "text/plain": [
       "<Figure size 432x288 with 1 Axes>"
      ]
     },
     "metadata": {},
     "output_type": "display_data"
    },
    {
     "name": "stdout",
     "output_type": "stream",
     "text": [
      "--- plots of seventh_place  ---\n"
     ]
    },
    {
     "data": {
      "image/png": "[encoded data removed]",
      "text/plain": [
       "<Figure size 432x288 with 1 Axes>"
      ]
     },
     "metadata": {
      "needs_background": "light"
     },
     "output_type": "display_data"
    },
    {
     "data": {
      "image/png": "[encoded data removed]",
      "text/plain": [
       "<Figure size 432x288 with 1 Axes>"
      ]
     },
     "metadata": {},
     "output_type": "display_data"
    }
   ],
   "source": [
    "for col in pre_meta_data.columns:\n",
    "    print('--- plots of', col , ' ---')\n",
    "    x_place = pre_meta_data[col].value_counts().to_dict()\n",
    "    plot_stats(x_place.keys(), x_place.values(), 'plots of '+ col)"
   ]
  },
  {
   "cell_type": "code",
   "execution_count": 61,
   "metadata": {},
   "outputs": [],
   "source": [
    "def plot_stats(labels, values, title):\n",
    "    \"\"\"Plot histogram and pie chart  \n",
    "        Args:\n",
    "            labels: labels to be used in the plots \n",
    "            values: values to be ploted\n",
    "            title: title of the plots\n",
    "\n",
    "        Returns:\n",
    "        two plots\n",
    "    \"\"\"\n",
    "    # Create arrays for the plot\n",
    "    x_pos = np.arange(len(labels))\n",
    "    \n",
    "    # Build the plot\n",
    "    fig, ax = plt.subplots()\n",
    "    ax.bar(x_pos, values, align='center', alpha=0.8)\n",
    "    ax.set_ylabel('count')\n",
    "    ax.set_xticks(x_pos)\n",
    "    ax.set_xticklabels(labels, rotation=90)\n",
    "    ax.set_title(title)\n",
    "    ax.yaxis.grid(True)\n",
    "\n",
    "    # Save the figure and show\n",
    "    plt.tight_layout()\n",
    "    plt.show()\n",
    "    \n",
    "    fig_pie, ax_pie = plt.subplots()\n",
    "    ax_pie.pie(values, labels=labels, autopct='%1.1f%%')\n",
    "    ax_pie.axis('equal')  # Equal aspect ratio ensures the pie chart is circular.\n",
    "    ax_pie.set_title(title)\n",
    "\n",
    "\n",
    "    plt.show()\n",
    "    \n",
    "    \n",
    "    \n",
    "    return"
   ]
  },
  {
   "cell_type": "code",
   "execution_count": 307,
   "metadata": {},
   "outputs": [
    {
     "data": {
      "image/png": "[encoded data removed]",
      "text/plain": [
       "<Figure size 432x288 with 1 Axes>"
      ]
     },
     "metadata": {},
     "output_type": "display_data"
    },
    {
     "data": {
      "image/png": "[encoded data removed]",
      "text/plain": [
       "<Figure size 432x288 with 1 Axes>"
      ]
     },
     "metadata": {},
     "output_type": "display_data"
    }
   ],
   "source": [
    "\n"
   ]
  },
  {
   "cell_type": "markdown",
   "metadata": {},
   "source": [
    "fig, ax = plt.subplots()\n",
    "ax.pie(first_place.values(), labels=first_place.keys(), autopct='%1.1f%%')\n",
    "ax.axis('equal')  # Equal aspect ratio ensures the pie chart is circular.\n",
    "ax.set_title('First Place')\n",
    "\n",
    "\n",
    "plt.show()"
   ]
  },
  {
   "cell_type": "code",
   "execution_count": 272,
   "metadata": {},
   "outputs": [
    {
     "data": {
      "text/plain": [
       "lmf_ndcg             33254\n",
       "bpr_ndcg             29145\n",
       "most_popular_ndcg    22623\n",
       "knn_bm25_ndcg        16407\n",
       "knn_cos_ndcg         13321\n",
       "knn_tfidf_ndcg        7753\n",
       "als_ndcg              7254\n",
       "Name: 1, dtype: int64"
      ]
     },
     "execution_count": 272,
     "metadata": {},
     "output_type": "execute_result"
    }
   ],
   "source": [
    "pre_meta_data[1].value_counts()"
   ]
  },
  {
   "cell_type": "code",
   "execution_count": 273,
   "metadata": {},
   "outputs": [
    {
     "data": {
      "text/plain": [
       "knn_cos_ndcg         27475\n",
       "knn_tfidf_ndcg       26317\n",
       "most_popular_ndcg    19405\n",
       "knn_bm25_ndcg        18351\n",
       "als_ndcg             16496\n",
       "bpr_ndcg             11695\n",
       "lmf_ndcg             10018\n",
       "Name: 3, dtype: int64"
      ]
     },
     "execution_count": 273,
     "metadata": {},
     "output_type": "execute_result"
    }
   ],
   "source": [
    "pre_meta_data[3].value_counts()"
   ]
  },
  {
   "cell_type": "markdown",
   "metadata": {
    "heading_collapsed": true
   },
   "source": [
    "### Test data "
   ]
  },
  {
   "cell_type": "code",
   "execution_count": 79,
   "metadata": {
    "hidden": true
   },
   "outputs": [],
   "source": [
    "amount = test_data.groupby('uid').count()"
   ]
  },
  {
   "cell_type": "code",
   "execution_count": 107,
   "metadata": {
    "hidden": true
   },
   "outputs": [],
   "source": [
    "test_group_by_user = test_data.groupby('uid').size().reset_index(name='count')"
   ]
  },
  {
   "cell_type": "code",
   "execution_count": 110,
   "metadata": {
    "hidden": true
   },
   "outputs": [],
   "source": [
    "test_group_by_user  = test_group_by_user.drop('uid', 1)"
   ]
  },
  {
   "cell_type": "code",
   "execution_count": 162,
   "metadata": {
    "hidden": true
   },
   "outputs": [],
   "source": [
    "#dataframe first column count_of_clicks,second column where('count',count_clicks_1col)->count()\n",
    "count_count_of_count_df = test_group_by_user.groupby('count').size().reset_index(name='c_of_c')"
   ]
  },
  {
   "cell_type": "code",
   "execution_count": 163,
   "metadata": {
    "hidden": true
   },
   "outputs": [],
   "source": [
    "count_count_of_count_df = count_count_of_count_df.sort_values(by=['count'])"
   ]
  },
  {
   "cell_type": "code",
   "execution_count": 234,
   "metadata": {
    "hidden": true
   },
   "outputs": [
    {
     "data": {
      "text/html": [
       "<div>\n",
       "<style scoped>\n",
       "    .dataframe tbody tr th:only-of-type {\n",
       "        vertical-align: middle;\n",
       "    }\n",
       "\n",
       "    .dataframe tbody tr th {\n",
       "        vertical-align: top;\n",
       "    }\n",
       "\n",
       "    .dataframe thead th {\n",
       "        text-align: right;\n",
       "    }\n",
       "</style>\n",
       "<table border=\"1\" class=\"dataframe\">\n",
       "  <thead>\n",
       "    <tr style=\"text-align: right;\">\n",
       "      <th></th>\n",
       "      <th>count</th>\n",
       "      <th>c_of_c</th>\n",
       "    </tr>\n",
       "  </thead>\n",
       "  <tbody>\n",
       "    <tr>\n",
       "      <th>0</th>\n",
       "      <td>1</td>\n",
       "      <td>2293</td>\n",
       "    </tr>\n",
       "    <tr>\n",
       "      <th>1</th>\n",
       "      <td>2</td>\n",
       "      <td>28295</td>\n",
       "    </tr>\n",
       "    <tr>\n",
       "      <th>2</th>\n",
       "      <td>3</td>\n",
       "      <td>20167</td>\n",
       "    </tr>\n",
       "    <tr>\n",
       "      <th>3</th>\n",
       "      <td>4</td>\n",
       "      <td>13661</td>\n",
       "    </tr>\n",
       "    <tr>\n",
       "      <th>4</th>\n",
       "      <td>5</td>\n",
       "      <td>10292</td>\n",
       "    </tr>\n",
       "  </tbody>\n",
       "</table>\n",
       "</div>"
      ],
      "text/plain": [
       "   count  c_of_c\n",
       "0      1    2293\n",
       "1      2   28295\n",
       "2      3   20167\n",
       "3      4   13661\n",
       "4      5   10292"
      ]
     },
     "execution_count": 234,
     "metadata": {},
     "output_type": "execute_result"
    }
   ],
   "source": [
    "count_count_of_count_df.head()"
   ]
  },
  {
   "cell_type": "code",
   "execution_count": 164,
   "metadata": {
    "hidden": true
   },
   "outputs": [],
   "source": [
    "c_c_of_c_dict = dict( (count_count_of_count_df.loc[i,'count'], count_count_of_count_df.loc[i,'c_of_c']) for i in range(len(count_count_of_count_df)))"
   ]
  },
  {
   "cell_type": "code",
   "execution_count": 292,
   "metadata": {
    "hidden": true
   },
   "outputs": [],
   "source": [
    "top_20_dict = {k: c_c_of_c_dict[k] for k in list(c_c_of_c_dict)[:20]}"
   ]
  },
  {
   "cell_type": "code",
   "execution_count": 294,
   "metadata": {
    "hidden": true
   },
   "outputs": [
    {
     "data": {
      "image/png": "[encoded data removed]",
      "text/plain": [
       "<Figure size 432x288 with 1 Axes>"
      ]
     },
     "metadata": {
      "needs_background": "light"
     },
     "output_type": "display_data"
    },
    {
     "data": {
      "image/png": "[encoded data removed]",
      "text/plain": [
       "<Figure size 432x288 with 1 Axes>"
      ]
     },
     "metadata": {},
     "output_type": "display_data"
    }
   ],
   "source": [
    "plot_stats(top_20_dict.keys(), top_20_dict.values(), \"count of count\")"
   ]
  },
  {
   "cell_type": "code",
   "execution_count": 272,
   "metadata": {
    "hidden": true
   },
   "outputs": [],
   "source": [
    "def plot_bins(dic,total,label, percentage_bin=0.1): \n",
    "    \"\"\"Plot histogram in bins.   \n",
    "    Args:\n",
    "        dic: dict with keys the count and value the count of the count. e.g. user 2,3,4\n",
    "        have 2 clicks, so --> 2, 3: why? the amount of times that a user has 2 clicks is 3\n",
    "        percentage_bin: what is the percentage of data in each bin\n",
    "        label: what to present in the label\n",
    "        total: what is the total of clicks, this will be used to get the % of clicls\n",
    "\n",
    "    Returns:\n",
    "    Prints histogram and pie chart\n",
    "    \"\"\"\n",
    "    actual_bin = 1\n",
    "    value = 0\n",
    "    past = 0\n",
    "    bins = dict()\n",
    "    for key in dic:\n",
    "        value += dic[key]\n",
    "        if value >= total*percentage_bin*actual_bin:\n",
    "            print(\"did\", percentage_bin * actual_bin * 100, \" %\" )\n",
    "            k = \"<_\" + str(key)\n",
    "            bins[k] = value\n",
    "            actual_bin += 1 \n",
    "            #past += value\n",
    "            #value = 0\n",
    "    plot_stats(bins.keys(), bins.values(), label)\n",
    "    return"
   ]
  },
  {
   "cell_type": "code",
   "execution_count": 273,
   "metadata": {
    "hidden": true
   },
   "outputs": [
    {
     "name": "stdout",
     "output_type": "stream",
     "text": [
      "did 10.0  %\n",
      "did 20.0  %\n",
      "did 30.000000000000004  %\n",
      "did 40.0  %\n",
      "did 50.0  %\n",
      "did 60.00000000000001  %\n",
      "did 70.0  %\n",
      "did 80.0  %\n",
      "did 90.0  %\n",
      "did 100.0  %\n"
     ]
    },
    {
     "data": {
      "image/png": "[encoded data removed]",
      "text/plain": [
       "<Figure size 432x288 with 1 Axes>"
      ]
     },
     "metadata": {
      "needs_background": "light"
     },
     "output_type": "display_data"
    },
    {
     "data": {
      "image/png": "[encoded data removed]",
      "text/plain": [
       "<Figure size 432x288 with 1 Axes>"
      ]
     },
     "metadata": {},
     "output_type": "display_data"
    }
   ],
   "source": [
    "plot_bins(c_c_of_c_dict,count_count_of_count_df['c_of_c'].sum(),\"click tests\", percentage_bin=0.1)"
   ]
  },
  {
   "cell_type": "markdown",
   "metadata": {},
   "source": [
    "### Test and Validation data"
   ]
  },
  {
   "cell_type": "markdown",
   "metadata": {},
   "source": [
    "Here we are going to try to use the the test and validation data set, to build big test set"
   ]
  },
  {
   "cell_type": "code",
   "execution_count": 211,
   "metadata": {},
   "outputs": [],
   "source": [
    "test_val_data = pd.concat([validation_data, test_data])"
   ]
  },
  {
   "cell_type": "code",
   "execution_count": 213,
   "metadata": {},
   "outputs": [],
   "source": [
    "test_val_data = test_val_data.sort_values(by=['uid'])"
   ]
  },
  {
   "cell_type": "code",
   "execution_count": 215,
   "metadata": {},
   "outputs": [],
   "source": [
    "test_val_data = test_val_data.reset_index(drop=True)"
   ]
  },
  {
   "cell_type": "code",
   "execution_count": 226,
   "metadata": {},
   "outputs": [],
   "source": [
    "test_val_group_by_user = test_val_data.groupby('uid').size().reset_index(name='count')"
   ]
  },
  {
   "cell_type": "code",
   "execution_count": 229,
   "metadata": {},
   "outputs": [
    {
     "data": {
      "text/html": [
       "<div>\n",
       "<style scoped>\n",
       "    .dataframe tbody tr th:only-of-type {\n",
       "        vertical-align: middle;\n",
       "    }\n",
       "\n",
       "    .dataframe tbody tr th {\n",
       "        vertical-align: top;\n",
       "    }\n",
       "\n",
       "    .dataframe thead th {\n",
       "        text-align: right;\n",
       "    }\n",
       "</style>\n",
       "<table border=\"1\" class=\"dataframe\">\n",
       "  <thead>\n",
       "    <tr style=\"text-align: right;\">\n",
       "      <th></th>\n",
       "      <th>count</th>\n",
       "    </tr>\n",
       "  </thead>\n",
       "  <tbody>\n",
       "    <tr>\n",
       "      <th>0</th>\n",
       "      <td>18</td>\n",
       "    </tr>\n",
       "    <tr>\n",
       "      <th>1</th>\n",
       "      <td>9</td>\n",
       "    </tr>\n",
       "    <tr>\n",
       "      <th>2</th>\n",
       "      <td>29</td>\n",
       "    </tr>\n",
       "    <tr>\n",
       "      <th>3</th>\n",
       "      <td>4</td>\n",
       "    </tr>\n",
       "    <tr>\n",
       "      <th>4</th>\n",
       "      <td>10</td>\n",
       "    </tr>\n",
       "  </tbody>\n",
       "</table>\n",
       "</div>"
      ],
      "text/plain": [
       "   count\n",
       "0     18\n",
       "1      9\n",
       "2     29\n",
       "3      4\n",
       "4     10"
      ]
     },
     "execution_count": 229,
     "metadata": {},
     "output_type": "execute_result"
    }
   ],
   "source": [
    "test_val_group_by_user.head()"
   ]
  },
  {
   "cell_type": "code",
   "execution_count": 228,
   "metadata": {},
   "outputs": [],
   "source": [
    "test_val_group_by_user  = test_val_group_by_user.drop('uid', 1)"
   ]
  },
  {
   "cell_type": "code",
   "execution_count": 230,
   "metadata": {},
   "outputs": [],
   "source": [
    "#dataframe first column count_of_clicks,second column where('count',count_clicks_1col)->count()\n",
    "coc_df = test_val_group_by_user.groupby('count').size().reset_index(name='c_of_c')"
   ]
  },
  {
   "cell_type": "code",
   "execution_count": 233,
   "metadata": {},
   "outputs": [
    {
     "data": {
      "text/html": [
       "<div>\n",
       "<style scoped>\n",
       "    .dataframe tbody tr th:only-of-type {\n",
       "        vertical-align: middle;\n",
       "    }\n",
       "\n",
       "    .dataframe tbody tr th {\n",
       "        vertical-align: top;\n",
       "    }\n",
       "\n",
       "    .dataframe thead th {\n",
       "        text-align: right;\n",
       "    }\n",
       "</style>\n",
       "<table border=\"1\" class=\"dataframe\">\n",
       "  <thead>\n",
       "    <tr style=\"text-align: right;\">\n",
       "      <th></th>\n",
       "      <th>count</th>\n",
       "      <th>c_of_c</th>\n",
       "    </tr>\n",
       "  </thead>\n",
       "  <tbody>\n",
       "    <tr>\n",
       "      <th>0</th>\n",
       "      <td>2</td>\n",
       "      <td>2293</td>\n",
       "    </tr>\n",
       "    <tr>\n",
       "      <th>1</th>\n",
       "      <td>3</td>\n",
       "      <td>14225</td>\n",
       "    </tr>\n",
       "    <tr>\n",
       "      <th>2</th>\n",
       "      <td>4</td>\n",
       "      <td>14070</td>\n",
       "    </tr>\n",
       "    <tr>\n",
       "      <th>3</th>\n",
       "      <td>5</td>\n",
       "      <td>11246</td>\n",
       "    </tr>\n",
       "    <tr>\n",
       "      <th>4</th>\n",
       "      <td>6</td>\n",
       "      <td>8921</td>\n",
       "    </tr>\n",
       "  </tbody>\n",
       "</table>\n",
       "</div>"
      ],
      "text/plain": [
       "   count  c_of_c\n",
       "0      2    2293\n",
       "1      3   14225\n",
       "2      4   14070\n",
       "3      5   11246\n",
       "4      6    8921"
      ]
     },
     "execution_count": 233,
     "metadata": {},
     "output_type": "execute_result"
    }
   ],
   "source": [
    "coc_df.head()"
   ]
  },
  {
   "cell_type": "code",
   "execution_count": 232,
   "metadata": {},
   "outputs": [],
   "source": [
    "coc_df = coc_df.sort_values(by=['count'])"
   ]
  },
  {
   "cell_type": "code",
   "execution_count": 288,
   "metadata": {},
   "outputs": [
    {
     "data": {
      "text/html": [
       "<div>\n",
       "<style scoped>\n",
       "    .dataframe tbody tr th:only-of-type {\n",
       "        vertical-align: middle;\n",
       "    }\n",
       "\n",
       "    .dataframe tbody tr th {\n",
       "        vertical-align: top;\n",
       "    }\n",
       "\n",
       "    .dataframe thead th {\n",
       "        text-align: right;\n",
       "    }\n",
       "</style>\n",
       "<table border=\"1\" class=\"dataframe\">\n",
       "  <thead>\n",
       "    <tr style=\"text-align: right;\">\n",
       "      <th></th>\n",
       "      <th>count</th>\n",
       "      <th>c_of_c</th>\n",
       "    </tr>\n",
       "  </thead>\n",
       "  <tbody>\n",
       "    <tr>\n",
       "      <th>0</th>\n",
       "      <td>2</td>\n",
       "      <td>2293</td>\n",
       "    </tr>\n",
       "    <tr>\n",
       "      <th>1</th>\n",
       "      <td>3</td>\n",
       "      <td>14225</td>\n",
       "    </tr>\n",
       "    <tr>\n",
       "      <th>2</th>\n",
       "      <td>4</td>\n",
       "      <td>14070</td>\n",
       "    </tr>\n",
       "    <tr>\n",
       "      <th>3</th>\n",
       "      <td>5</td>\n",
       "      <td>11246</td>\n",
       "    </tr>\n",
       "    <tr>\n",
       "      <th>4</th>\n",
       "      <td>6</td>\n",
       "      <td>8921</td>\n",
       "    </tr>\n",
       "  </tbody>\n",
       "</table>\n",
       "</div>"
      ],
      "text/plain": [
       "   count  c_of_c\n",
       "0      2    2293\n",
       "1      3   14225\n",
       "2      4   14070\n",
       "3      5   11246\n",
       "4      6    8921"
      ]
     },
     "execution_count": 288,
     "metadata": {},
     "output_type": "execute_result"
    }
   ],
   "source": [
    "coc_df.head()"
   ]
  },
  {
   "cell_type": "code",
   "execution_count": 235,
   "metadata": {},
   "outputs": [],
   "source": [
    "coc_dict = dict( (coc_df.loc[i,'count'], coc_df.loc[i,'c_of_c']) for i in range(len(coc_df)))"
   ]
  },
  {
   "cell_type": "code",
   "execution_count": 295,
   "metadata": {},
   "outputs": [],
   "source": [
    "top_20_dict_t_v = {k: coc_dict[k] for k in list(coc_dict)[:20]}"
   ]
  },
  {
   "cell_type": "code",
   "execution_count": 296,
   "metadata": {},
   "outputs": [
    {
     "data": {
      "image/png": "[encoded data removed]",
      "text/plain": [
       "<Figure size 432x288 with 1 Axes>"
      ]
     },
     "metadata": {
      "needs_background": "light"
     },
     "output_type": "display_data"
    },
    {
     "data": {
      "image/png": "[encoded data removed]",
      "text/plain": [
       "<Figure size 432x288 with 1 Axes>"
      ]
     },
     "metadata": {},
     "output_type": "display_data"
    }
   ],
   "source": [
    "plot_stats(top_20_dict_t_v.keys(), top_20_dict_t_v.values(), \"count of count\")"
   ]
  },
  {
   "cell_type": "code",
   "execution_count": 237,
   "metadata": {},
   "outputs": [
    {
     "name": "stdout",
     "output_type": "stream",
     "text": [
      "did 10.0  %\n",
      "did 20.0  %\n",
      "did 30.000000000000004  %\n",
      "did 40.0  %\n",
      "did 50.0  %\n",
      "did 60.00000000000001  %\n",
      "did 70.0  %\n",
      "did 80.0  %\n",
      "did 90.0  %\n",
      "did 100.0  %\n"
     ]
    },
    {
     "data": {
      "image/png": "[encoded data removed]",
      "text/plain": [
       "<Figure size 432x288 with 1 Axes>"
      ]
     },
     "metadata": {
      "needs_background": "light"
     },
     "output_type": "display_data"
    },
    {
     "data": {
      "image/png": "[encoded data removed]",
      "text/plain": [
       "<Figure size 432x288 with 1 Axes>"
      ]
     },
     "metadata": {},
     "output_type": "display_data"
    }
   ],
   "source": [
    "plot_bins(coc_dict,coc_df['c_of_c'].sum(), \"click val test\")"
   ]
  },
  {
   "cell_type": "code",
   "execution_count": null,
   "metadata": {},
   "outputs": [],
   "source": []
  },
  {
   "cell_type": "markdown",
   "metadata": {
    "heading_collapsed": true
   },
   "source": [
    "### re-analyze data"
   ]
  },
  {
   "cell_type": "markdown",
   "metadata": {
    "hidden": true
   },
   "source": [
    "Because in the first place of we have less than 10% in knn algorithms we will remove all the columns with knn, and re-evaluate the first position"
   ]
  },
  {
   "cell_type": "code",
   "execution_count": 243,
   "metadata": {
    "hidden": true
   },
   "outputs": [
    {
     "data": {
      "text/html": [
       "<div>\n",
       "<style scoped>\n",
       "    .dataframe tbody tr th:only-of-type {\n",
       "        vertical-align: middle;\n",
       "    }\n",
       "\n",
       "    .dataframe tbody tr th {\n",
       "        vertical-align: top;\n",
       "    }\n",
       "\n",
       "    .dataframe thead th {\n",
       "        text-align: right;\n",
       "    }\n",
       "</style>\n",
       "<table border=\"1\" class=\"dataframe\">\n",
       "  <thead>\n",
       "    <tr style=\"text-align: right;\">\n",
       "      <th></th>\n",
       "      <th>als_ndcg</th>\n",
       "      <th>bpr_ndcg</th>\n",
       "      <th>lmf_ndcg</th>\n",
       "      <th>most_popular_ndcg</th>\n",
       "      <th>knn_cos_ndcg</th>\n",
       "      <th>knn_tfidf_ndcg</th>\n",
       "      <th>knn_bm25_ndcg</th>\n",
       "    </tr>\n",
       "  </thead>\n",
       "  <tbody>\n",
       "    <tr>\n",
       "      <th>0</th>\n",
       "      <td>0.000000</td>\n",
       "      <td>0.162077</td>\n",
       "      <td>0.168613</td>\n",
       "      <td>0.000000</td>\n",
       "      <td>0.000000</td>\n",
       "      <td>0.000000</td>\n",
       "      <td>0.000000</td>\n",
       "    </tr>\n",
       "    <tr>\n",
       "      <th>1</th>\n",
       "      <td>0.193301</td>\n",
       "      <td>0.000000</td>\n",
       "      <td>0.171442</td>\n",
       "      <td>0.279852</td>\n",
       "      <td>0.578241</td>\n",
       "      <td>0.385303</td>\n",
       "      <td>0.000000</td>\n",
       "    </tr>\n",
       "    <tr>\n",
       "      <th>2</th>\n",
       "      <td>0.177284</td>\n",
       "      <td>0.327735</td>\n",
       "      <td>0.208015</td>\n",
       "      <td>0.000000</td>\n",
       "      <td>0.000000</td>\n",
       "      <td>0.000000</td>\n",
       "      <td>0.160053</td>\n",
       "    </tr>\n",
       "    <tr>\n",
       "      <th>3</th>\n",
       "      <td>0.244651</td>\n",
       "      <td>0.161555</td>\n",
       "      <td>0.000000</td>\n",
       "      <td>0.000000</td>\n",
       "      <td>0.221065</td>\n",
       "      <td>0.224244</td>\n",
       "      <td>0.235409</td>\n",
       "    </tr>\n",
       "    <tr>\n",
       "      <th>4</th>\n",
       "      <td>0.170304</td>\n",
       "      <td>0.000000</td>\n",
       "      <td>0.172019</td>\n",
       "      <td>0.396485</td>\n",
       "      <td>0.433540</td>\n",
       "      <td>0.379225</td>\n",
       "      <td>0.165443</td>\n",
       "    </tr>\n",
       "  </tbody>\n",
       "</table>\n",
       "</div>"
      ],
      "text/plain": [
       "   als_ndcg  bpr_ndcg  lmf_ndcg  most_popular_ndcg  knn_cos_ndcg  \\\n",
       "0  0.000000  0.162077  0.168613           0.000000      0.000000   \n",
       "1  0.193301  0.000000  0.171442           0.279852      0.578241   \n",
       "2  0.177284  0.327735  0.208015           0.000000      0.000000   \n",
       "3  0.244651  0.161555  0.000000           0.000000      0.221065   \n",
       "4  0.170304  0.000000  0.172019           0.396485      0.433540   \n",
       "\n",
       "   knn_tfidf_ndcg  knn_bm25_ndcg  \n",
       "0        0.000000       0.000000  \n",
       "1        0.385303       0.000000  \n",
       "2        0.000000       0.160053  \n",
       "3        0.224244       0.235409  \n",
       "4        0.379225       0.165443  "
      ]
     },
     "execution_count": 243,
     "metadata": {},
     "output_type": "execute_result"
    }
   ],
   "source": [
    "pre_meta_data_df.head()"
   ]
  },
  {
   "cell_type": "code",
   "execution_count": 244,
   "metadata": {
    "hidden": true
   },
   "outputs": [],
   "source": [
    "# remove all the knn\n",
    "new_pre_meta_data_df = pre_meta_data_df.drop('knn_cos_ndcg', 1)\n",
    "new_pre_meta_data_df = new_pre_meta_data_df.drop('knn_tfidf_ndcg', 1)\n",
    "new_pre_meta_data_df = new_pre_meta_data_df.drop('knn_bm25_ndcg', 1)"
   ]
  },
  {
   "cell_type": "code",
   "execution_count": 245,
   "metadata": {
    "hidden": true
   },
   "outputs": [
    {
     "data": {
      "text/html": [
       "<div>\n",
       "<style scoped>\n",
       "    .dataframe tbody tr th:only-of-type {\n",
       "        vertical-align: middle;\n",
       "    }\n",
       "\n",
       "    .dataframe tbody tr th {\n",
       "        vertical-align: top;\n",
       "    }\n",
       "\n",
       "    .dataframe thead th {\n",
       "        text-align: right;\n",
       "    }\n",
       "</style>\n",
       "<table border=\"1\" class=\"dataframe\">\n",
       "  <thead>\n",
       "    <tr style=\"text-align: right;\">\n",
       "      <th></th>\n",
       "      <th>als_ndcg</th>\n",
       "      <th>bpr_ndcg</th>\n",
       "      <th>lmf_ndcg</th>\n",
       "      <th>most_popular_ndcg</th>\n",
       "    </tr>\n",
       "  </thead>\n",
       "  <tbody>\n",
       "    <tr>\n",
       "      <th>0</th>\n",
       "      <td>0.000000</td>\n",
       "      <td>0.162077</td>\n",
       "      <td>0.168613</td>\n",
       "      <td>0.000000</td>\n",
       "    </tr>\n",
       "    <tr>\n",
       "      <th>1</th>\n",
       "      <td>0.193301</td>\n",
       "      <td>0.000000</td>\n",
       "      <td>0.171442</td>\n",
       "      <td>0.279852</td>\n",
       "    </tr>\n",
       "    <tr>\n",
       "      <th>2</th>\n",
       "      <td>0.177284</td>\n",
       "      <td>0.327735</td>\n",
       "      <td>0.208015</td>\n",
       "      <td>0.000000</td>\n",
       "    </tr>\n",
       "    <tr>\n",
       "      <th>3</th>\n",
       "      <td>0.244651</td>\n",
       "      <td>0.161555</td>\n",
       "      <td>0.000000</td>\n",
       "      <td>0.000000</td>\n",
       "    </tr>\n",
       "    <tr>\n",
       "      <th>4</th>\n",
       "      <td>0.170304</td>\n",
       "      <td>0.000000</td>\n",
       "      <td>0.172019</td>\n",
       "      <td>0.396485</td>\n",
       "    </tr>\n",
       "  </tbody>\n",
       "</table>\n",
       "</div>"
      ],
      "text/plain": [
       "   als_ndcg  bpr_ndcg  lmf_ndcg  most_popular_ndcg\n",
       "0  0.000000  0.162077  0.168613           0.000000\n",
       "1  0.193301  0.000000  0.171442           0.279852\n",
       "2  0.177284  0.327735  0.208015           0.000000\n",
       "3  0.244651  0.161555  0.000000           0.000000\n",
       "4  0.170304  0.000000  0.172019           0.396485"
      ]
     },
     "execution_count": 245,
     "metadata": {},
     "output_type": "execute_result"
    }
   ],
   "source": [
    "new_pre_meta_data_df.head()"
   ]
  },
  {
   "cell_type": "code",
   "execution_count": 246,
   "metadata": {
    "hidden": true
   },
   "outputs": [],
   "source": [
    "new_pre_meta_data_dict = dict([(r[0], list(new_pre_meta_data_df.columns[np.argsort(list(r)[1: ])])) \\\n",
    "    for r in list(new_pre_meta_data_df.to_records())])"
   ]
  },
  {
   "cell_type": "code",
   "execution_count": 247,
   "metadata": {
    "hidden": true
   },
   "outputs": [],
   "source": [
    "new_pre_meta_data = pd.DataFrame.from_dict(new_pre_meta_data_dict,orient = 'index',columns=['first_place', 'second_place', 'third_place', 'fourth_place'])"
   ]
  },
  {
   "cell_type": "code",
   "execution_count": 248,
   "metadata": {
    "hidden": true
   },
   "outputs": [
    {
     "data": {
      "text/html": [
       "<div>\n",
       "<style scoped>\n",
       "    .dataframe tbody tr th:only-of-type {\n",
       "        vertical-align: middle;\n",
       "    }\n",
       "\n",
       "    .dataframe tbody tr th {\n",
       "        vertical-align: top;\n",
       "    }\n",
       "\n",
       "    .dataframe thead th {\n",
       "        text-align: right;\n",
       "    }\n",
       "</style>\n",
       "<table border=\"1\" class=\"dataframe\">\n",
       "  <thead>\n",
       "    <tr style=\"text-align: right;\">\n",
       "      <th></th>\n",
       "      <th>first_place</th>\n",
       "      <th>second_place</th>\n",
       "      <th>third_place</th>\n",
       "      <th>fourth_place</th>\n",
       "    </tr>\n",
       "  </thead>\n",
       "  <tbody>\n",
       "    <tr>\n",
       "      <th>0</th>\n",
       "      <td>als_ndcg</td>\n",
       "      <td>most_popular_ndcg</td>\n",
       "      <td>bpr_ndcg</td>\n",
       "      <td>lmf_ndcg</td>\n",
       "    </tr>\n",
       "    <tr>\n",
       "      <th>1</th>\n",
       "      <td>bpr_ndcg</td>\n",
       "      <td>lmf_ndcg</td>\n",
       "      <td>als_ndcg</td>\n",
       "      <td>most_popular_ndcg</td>\n",
       "    </tr>\n",
       "    <tr>\n",
       "      <th>2</th>\n",
       "      <td>most_popular_ndcg</td>\n",
       "      <td>als_ndcg</td>\n",
       "      <td>lmf_ndcg</td>\n",
       "      <td>bpr_ndcg</td>\n",
       "    </tr>\n",
       "    <tr>\n",
       "      <th>3</th>\n",
       "      <td>lmf_ndcg</td>\n",
       "      <td>most_popular_ndcg</td>\n",
       "      <td>bpr_ndcg</td>\n",
       "      <td>als_ndcg</td>\n",
       "    </tr>\n",
       "    <tr>\n",
       "      <th>4</th>\n",
       "      <td>bpr_ndcg</td>\n",
       "      <td>als_ndcg</td>\n",
       "      <td>lmf_ndcg</td>\n",
       "      <td>most_popular_ndcg</td>\n",
       "    </tr>\n",
       "  </tbody>\n",
       "</table>\n",
       "</div>"
      ],
      "text/plain": [
       "         first_place       second_place third_place       fourth_place\n",
       "0           als_ndcg  most_popular_ndcg    bpr_ndcg           lmf_ndcg\n",
       "1           bpr_ndcg           lmf_ndcg    als_ndcg  most_popular_ndcg\n",
       "2  most_popular_ndcg           als_ndcg    lmf_ndcg           bpr_ndcg\n",
       "3           lmf_ndcg  most_popular_ndcg    bpr_ndcg           als_ndcg\n",
       "4           bpr_ndcg           als_ndcg    lmf_ndcg  most_popular_ndcg"
      ]
     },
     "execution_count": 248,
     "metadata": {},
     "output_type": "execute_result"
    }
   ],
   "source": [
    "new_pre_meta_data.head()"
   ]
  },
  {
   "cell_type": "code",
   "execution_count": 250,
   "metadata": {
    "hidden": true
   },
   "outputs": [
    {
     "data": {
      "image/png": "[encoded data removed]",
      "text/plain": [
       "<Figure size 432x288 with 1 Axes>"
      ]
     },
     "metadata": {
      "needs_background": "light"
     },
     "output_type": "display_data"
    },
    {
     "data": {
      "image/png": "[encoded data removed]",
      "text/plain": [
       "<Figure size 432x288 with 1 Axes>"
      ]
     },
     "metadata": {},
     "output_type": "display_data"
    }
   ],
   "source": [
    "new_pre_meta_data_dict = new_pre_meta_data[\"first_place\"].value_counts().to_dict()\n",
    "plot_stats(new_pre_meta_data_dict.keys(), new_pre_meta_data_dict.values(), 'plots of first place without knn')"
   ]
  }
 ],
 "metadata": {
  "kernelspec": {
   "display_name": "Python 3",
   "language": "python",
   "name": "python3"
  },
  "language_info": {
   "codemirror_mode": {
    "name": "ipython",
    "version": 3
   },
   "file_extension": ".py",
   "mimetype": "text/x-python",
   "name": "python",
   "nbconvert_exporter": "python",
   "pygments_lexer": "ipython3",
   "version": "3.7.6"
  }
 },
 "nbformat": 4,
 "nbformat_minor": 2
}
