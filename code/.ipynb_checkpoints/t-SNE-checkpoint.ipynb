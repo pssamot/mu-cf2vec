{
 "cells": [
  {
   "cell_type": "code",
   "execution_count": 25,
   "metadata": {},
   "outputs": [],
   "source": [
    "import numpy as np\n",
    "import time\n",
    "import pandas as pd\n",
    "\n",
    "import matplotlib.pyplot as plt\n",
    "import matplotlib.patheffects as PathEffects\n",
    "%matplotlib inline\n",
    "\n",
    "import seaborn as sns\n",
    "sns.set_style('darkgrid')\n",
    "sns.set_palette('muted')\n",
    "sns.set_context(\"notebook\", font_scale=1.5,\n",
    "                rc={\"lines.linewidth\": 2.5})\n",
    "RS = 123"
   ]
  },
  {
   "cell_type": "code",
   "execution_count": 2,
   "metadata": {},
   "outputs": [],
   "source": [
    "is_vae = False"
   ]
  },
  {
   "cell_type": "code",
   "execution_count": 3,
   "metadata": {},
   "outputs": [],
   "source": [
    "# Just choose the name of the dataset directory\n",
    "DATA_DIR = '/Users/tomas/Documents/FEUP/Tese/data/ml-20m/processed_70_10_20'\n",
    "if is_vae:\n",
    "    PARSE_DATA_DIR = os.path.join(DATA_DIR, 'embeddings/vae')\n",
    "else:\n",
    "    PARSE_DATA_DIR = os.path.join(DATA_DIR, 'embeddings/cdae')"
   ]
  },
  {
   "cell_type": "code",
   "execution_count": 4,
   "metadata": {},
   "outputs": [],
   "source": [
    "file = 'metadataset_k_20.csv'"
   ]
  },
  {
   "cell_type": "code",
   "execution_count": 10,
   "metadata": {},
   "outputs": [
    {
     "data": {
      "text/html": [
       "<div>\n",
       "<style scoped>\n",
       "    .dataframe tbody tr th:only-of-type {\n",
       "        vertical-align: middle;\n",
       "    }\n",
       "\n",
       "    .dataframe tbody tr th {\n",
       "        vertical-align: top;\n",
       "    }\n",
       "\n",
       "    .dataframe thead th {\n",
       "        text-align: right;\n",
       "    }\n",
       "</style>\n",
       "<table border=\"1\" class=\"dataframe\">\n",
       "  <thead>\n",
       "    <tr style=\"text-align: right;\">\n",
       "      <th></th>\n",
       "      <th>original_id</th>\n",
       "      <th>f0</th>\n",
       "      <th>f1</th>\n",
       "      <th>f2</th>\n",
       "      <th>f3</th>\n",
       "      <th>f4</th>\n",
       "      <th>f5</th>\n",
       "      <th>f6</th>\n",
       "      <th>f7</th>\n",
       "      <th>f8</th>\n",
       "      <th>...</th>\n",
       "      <th>f41</th>\n",
       "      <th>f42</th>\n",
       "      <th>f43</th>\n",
       "      <th>f44</th>\n",
       "      <th>f45</th>\n",
       "      <th>f46</th>\n",
       "      <th>f47</th>\n",
       "      <th>f48</th>\n",
       "      <th>f49</th>\n",
       "      <th>first_place</th>\n",
       "    </tr>\n",
       "    <tr>\n",
       "      <th>first_place</th>\n",
       "      <th></th>\n",
       "      <th></th>\n",
       "      <th></th>\n",
       "      <th></th>\n",
       "      <th></th>\n",
       "      <th></th>\n",
       "      <th></th>\n",
       "      <th></th>\n",
       "      <th></th>\n",
       "      <th></th>\n",
       "      <th></th>\n",
       "      <th></th>\n",
       "      <th></th>\n",
       "      <th></th>\n",
       "      <th></th>\n",
       "      <th></th>\n",
       "      <th></th>\n",
       "      <th></th>\n",
       "      <th></th>\n",
       "      <th></th>\n",
       "      <th></th>\n",
       "    </tr>\n",
       "  </thead>\n",
       "  <tbody>\n",
       "    <tr>\n",
       "      <th>als_ndcg</th>\n",
       "      <td>34215</td>\n",
       "      <td>34117</td>\n",
       "      <td>34114</td>\n",
       "      <td>34098</td>\n",
       "      <td>34101</td>\n",
       "      <td>34106</td>\n",
       "      <td>34114</td>\n",
       "      <td>34125</td>\n",
       "      <td>34120</td>\n",
       "      <td>34091</td>\n",
       "      <td>...</td>\n",
       "      <td>34101</td>\n",
       "      <td>34115</td>\n",
       "      <td>34127</td>\n",
       "      <td>34120</td>\n",
       "      <td>34108</td>\n",
       "      <td>34106</td>\n",
       "      <td>34123</td>\n",
       "      <td>34108</td>\n",
       "      <td>34109</td>\n",
       "      <td>1</td>\n",
       "    </tr>\n",
       "    <tr>\n",
       "      <th>bpr_ndcg</th>\n",
       "      <td>25925</td>\n",
       "      <td>25876</td>\n",
       "      <td>25867</td>\n",
       "      <td>25854</td>\n",
       "      <td>25855</td>\n",
       "      <td>25864</td>\n",
       "      <td>25870</td>\n",
       "      <td>25850</td>\n",
       "      <td>25867</td>\n",
       "      <td>25866</td>\n",
       "      <td>...</td>\n",
       "      <td>25862</td>\n",
       "      <td>25869</td>\n",
       "      <td>25853</td>\n",
       "      <td>25884</td>\n",
       "      <td>25860</td>\n",
       "      <td>25866</td>\n",
       "      <td>25860</td>\n",
       "      <td>25857</td>\n",
       "      <td>25848</td>\n",
       "      <td>1</td>\n",
       "    </tr>\n",
       "    <tr>\n",
       "      <th>lmf_ndcg</th>\n",
       "      <td>19252</td>\n",
       "      <td>19224</td>\n",
       "      <td>19210</td>\n",
       "      <td>19210</td>\n",
       "      <td>19216</td>\n",
       "      <td>19221</td>\n",
       "      <td>19215</td>\n",
       "      <td>19217</td>\n",
       "      <td>19221</td>\n",
       "      <td>19218</td>\n",
       "      <td>...</td>\n",
       "      <td>19214</td>\n",
       "      <td>19221</td>\n",
       "      <td>19222</td>\n",
       "      <td>19216</td>\n",
       "      <td>19217</td>\n",
       "      <td>19216</td>\n",
       "      <td>19202</td>\n",
       "      <td>19223</td>\n",
       "      <td>19221</td>\n",
       "      <td>1</td>\n",
       "    </tr>\n",
       "    <tr>\n",
       "      <th>most_popular_ndcg</th>\n",
       "      <td>29088</td>\n",
       "      <td>29004</td>\n",
       "      <td>29021</td>\n",
       "      <td>29018</td>\n",
       "      <td>29010</td>\n",
       "      <td>29002</td>\n",
       "      <td>29005</td>\n",
       "      <td>29011</td>\n",
       "      <td>29007</td>\n",
       "      <td>29001</td>\n",
       "      <td>...</td>\n",
       "      <td>28996</td>\n",
       "      <td>29013</td>\n",
       "      <td>29011</td>\n",
       "      <td>29011</td>\n",
       "      <td>29008</td>\n",
       "      <td>29007</td>\n",
       "      <td>28998</td>\n",
       "      <td>29004</td>\n",
       "      <td>28999</td>\n",
       "      <td>1</td>\n",
       "    </tr>\n",
       "    <tr>\n",
       "      <th>zeroes</th>\n",
       "      <td>21277</td>\n",
       "      <td>21242</td>\n",
       "      <td>21244</td>\n",
       "      <td>21243</td>\n",
       "      <td>21233</td>\n",
       "      <td>21243</td>\n",
       "      <td>21232</td>\n",
       "      <td>21233</td>\n",
       "      <td>21239</td>\n",
       "      <td>21238</td>\n",
       "      <td>...</td>\n",
       "      <td>21240</td>\n",
       "      <td>21244</td>\n",
       "      <td>21234</td>\n",
       "      <td>21229</td>\n",
       "      <td>21236</td>\n",
       "      <td>21234</td>\n",
       "      <td>21234</td>\n",
       "      <td>21238</td>\n",
       "      <td>21226</td>\n",
       "      <td>1</td>\n",
       "    </tr>\n",
       "  </tbody>\n",
       "</table>\n",
       "<p>5 rows × 52 columns</p>\n",
       "</div>"
      ],
      "text/plain": [
       "                   original_id     f0     f1     f2     f3     f4     f5  \\\n",
       "first_place                                                                \n",
       "als_ndcg                 34215  34117  34114  34098  34101  34106  34114   \n",
       "bpr_ndcg                 25925  25876  25867  25854  25855  25864  25870   \n",
       "lmf_ndcg                 19252  19224  19210  19210  19216  19221  19215   \n",
       "most_popular_ndcg        29088  29004  29021  29018  29010  29002  29005   \n",
       "zeroes                   21277  21242  21244  21243  21233  21243  21232   \n",
       "\n",
       "                      f6     f7     f8  ...    f41    f42    f43    f44  \\\n",
       "first_place                             ...                               \n",
       "als_ndcg           34125  34120  34091  ...  34101  34115  34127  34120   \n",
       "bpr_ndcg           25850  25867  25866  ...  25862  25869  25853  25884   \n",
       "lmf_ndcg           19217  19221  19218  ...  19214  19221  19222  19216   \n",
       "most_popular_ndcg  29011  29007  29001  ...  28996  29013  29011  29011   \n",
       "zeroes             21233  21239  21238  ...  21240  21244  21234  21229   \n",
       "\n",
       "                     f45    f46    f47    f48    f49  first_place  \n",
       "first_place                                                        \n",
       "als_ndcg           34108  34106  34123  34108  34109            1  \n",
       "bpr_ndcg           25860  25866  25860  25857  25848            1  \n",
       "lmf_ndcg           19217  19216  19202  19223  19221            1  \n",
       "most_popular_ndcg  29008  29007  28998  29004  28999            1  \n",
       "zeroes             21236  21234  21234  21238  21226            1  \n",
       "\n",
       "[5 rows x 52 columns]"
      ]
     },
     "execution_count": 10,
     "metadata": {},
     "output_type": "execute_result"
    }
   ],
   "source": [
    "#read in the data using pandas\n",
    "metadataset = pd.read_csv(os.path.join(PARSE_DATA_DIR, file ))\n",
    "metadataset.groupby('first_place').nunique()"
   ]
  },
  {
   "cell_type": "code",
   "execution_count": 19,
   "metadata": {},
   "outputs": [
    {
     "name": "stdout",
     "output_type": "stream",
     "text": [
      "als:  26.36851961743875 bpr:  19.979654276840556 most_popular_ndcg:  22.417287699314873 lmf_ndcg:  14.836964479758317 zeros:  16.397573926647503\n"
     ]
    }
   ],
   "source": [
    "print(\"als: \", 34215/129757 * 100,\"bpr: \", 25925/129757 * 100,\"most_popular_ndcg: \", 29088/129757 * 100,\"lmf_ndcg: \", 19252/129757 * 100,\"zeros: \", 21277/129757 * 100 )"
   ]
  },
  {
   "cell_type": "code",
   "execution_count": 16,
   "metadata": {},
   "outputs": [],
   "source": [
    "inputs = metadataset.drop(columns=['first_place','original_id'])\n",
    "target = metadataset['first_place'].values"
   ]
  },
  {
   "cell_type": "code",
   "execution_count": 31,
   "metadata": {},
   "outputs": [
    {
     "name": "stdout",
     "output_type": "stream",
     "text": [
      "['als_ndcg' 'bpr_ndcg' 'lmf_ndcg' 'most_popular_ndcg' 'zeroes']\n"
     ]
    }
   ],
   "source": [
    "# Subset first 20k data points to visualize\n",
    "x_subset = inputs[0:20000]\n",
    "y_subset = target[0:20000]\n",
    "#als 1\n",
    "y_subset = np.where(y_subset=='als_ndcg', 1, y_subset)\n",
    "#bpr 2\n",
    "y_subset = np.where(y_subset=='bpr_ndcg', 2, y_subset)\n",
    "#lmf 3\n",
    "y_subset = np.where(y_subset=='lmf_ndcg', 3, y_subset)\n",
    "#most_popular 4\n",
    "y_subset = np.where(y_subset=='most_popular_ndcg', 4, y_subset)\n",
    "#zeroes 5\n",
    "y_subset = np.where(y_subset=='zeroes', 5, y_subset)\n",
    "print(np.unique(y_subset))"
   ]
  },
  {
   "cell_type": "code",
   "execution_count": 21,
   "metadata": {},
   "outputs": [
    {
     "name": "stdout",
     "output_type": "stream",
     "text": [
      "PCA done! Time elapsed: 0.14743494987487793 seconds\n"
     ]
    }
   ],
   "source": [
    "from sklearn.decomposition import PCA\n",
    "\n",
    "time_start = time.time()\n",
    "\n",
    "pca = PCA(n_components=4)\n",
    "pca_result = pca.fit_transform(x_subset)\n",
    "\n",
    "print('PCA done! Time elapsed: {} seconds'.format(time.time()-time_start))"
   ]
  },
  {
   "cell_type": "code",
   "execution_count": 22,
   "metadata": {},
   "outputs": [
    {
     "name": "stdout",
     "output_type": "stream",
     "text": [
      "Variance explained per principal component: [9.99858897e-01 1.32831529e-04 2.64893348e-06 1.78198259e-06]\n"
     ]
    }
   ],
   "source": [
    "pca_df = pd.DataFrame(columns = ['pca1','pca2','pca3','pca4'])\n",
    "\n",
    "pca_df['pca1'] = pca_result[:,0]\n",
    "pca_df['pca2'] = pca_result[:,1]\n",
    "pca_df['pca3'] = pca_result[:,2]\n",
    "pca_df['pca4'] = pca_result[:,3]\n",
    "\n",
    "print('Variance explained per principal component: {}'.format(pca.explained_variance_ratio_))"
   ]
  },
  {
   "cell_type": "code",
   "execution_count": 23,
   "metadata": {},
   "outputs": [],
   "source": [
    "def fashion_scatter(x, colors):\n",
    "    # choose a color palette with seaborn.\n",
    "    num_classes = len(np.unique(colors))\n",
    "    palette = np.array(sns.color_palette(\"hls\", num_classes))\n",
    "\n",
    "    # create a scatter plot.\n",
    "    f = plt.figure(figsize=(8, 8))\n",
    "    ax = plt.subplot(aspect='equal')\n",
    "    sc = ax.scatter(x[:,0], x[:,1], lw=0, s=40, c=palette[colors.astype(np.int)])\n",
    "    plt.xlim(-25, 25)\n",
    "    plt.ylim(-25, 25)\n",
    "    ax.axis('off')\n",
    "    ax.axis('tight')\n",
    "\n",
    "    # add the labels for each digit corresponding to the label\n",
    "    txts = []\n",
    "\n",
    "    for i in range(num_classes):\n",
    "\n",
    "        # Position of each label at median of data points.\n",
    "\n",
    "        xtext, ytext = np.median(x[colors == i, :], axis=0)\n",
    "        txt = ax.text(xtext, ytext, str(i), fontsize=24)\n",
    "        txt.set_path_effects([\n",
    "            PathEffects.Stroke(linewidth=5, foreground=\"w\"),\n",
    "            PathEffects.Normal()])\n",
    "        txts.append(txt)\n",
    "\n",
    "    return f, ax, sc, txts"
   ]
  },
  {
   "cell_type": "code",
   "execution_count": 32,
   "metadata": {},
   "outputs": [
    {
     "ename": "ValueError",
     "evalue": "invalid literal for int() with base 10: 'zeroes'",
     "output_type": "error",
     "traceback": [
      "\u001b[0;31m---------------------------------------------------------------------------\u001b[0m",
      "\u001b[0;31mValueError\u001b[0m                                Traceback (most recent call last)",
      "\u001b[0;32m<ipython-input-32-b99297a6e9be>\u001b[0m in \u001b[0;36m<module>\u001b[0;34m\u001b[0m\n\u001b[1;32m      1\u001b[0m \u001b[0mtop_two_comp\u001b[0m \u001b[0;34m=\u001b[0m \u001b[0mpca_df\u001b[0m\u001b[0;34m[\u001b[0m\u001b[0;34m[\u001b[0m\u001b[0;34m'pca1'\u001b[0m\u001b[0;34m,\u001b[0m\u001b[0;34m'pca2'\u001b[0m\u001b[0;34m]\u001b[0m\u001b[0;34m]\u001b[0m \u001b[0;31m# taking first and second principal component\u001b[0m\u001b[0;34m\u001b[0m\u001b[0;34m\u001b[0m\u001b[0m\n\u001b[0;32m----> 2\u001b[0;31m \u001b[0mfashion_scatter\u001b[0m\u001b[0;34m(\u001b[0m\u001b[0mtop_two_comp\u001b[0m\u001b[0;34m.\u001b[0m\u001b[0mvalues\u001b[0m\u001b[0;34m,\u001b[0m\u001b[0my_subset\u001b[0m\u001b[0;34m)\u001b[0m \u001b[0;31m# Visualizing the PCA output\u001b[0m\u001b[0;34m\u001b[0m\u001b[0;34m\u001b[0m\u001b[0m\n\u001b[0m",
      "\u001b[0;32m<ipython-input-23-06ae684fbde5>\u001b[0m in \u001b[0;36mfashion_scatter\u001b[0;34m(x, colors)\u001b[0m\n\u001b[1;32m      7\u001b[0m     \u001b[0mf\u001b[0m \u001b[0;34m=\u001b[0m \u001b[0mplt\u001b[0m\u001b[0;34m.\u001b[0m\u001b[0mfigure\u001b[0m\u001b[0;34m(\u001b[0m\u001b[0mfigsize\u001b[0m\u001b[0;34m=\u001b[0m\u001b[0;34m(\u001b[0m\u001b[0;36m8\u001b[0m\u001b[0;34m,\u001b[0m \u001b[0;36m8\u001b[0m\u001b[0;34m)\u001b[0m\u001b[0;34m)\u001b[0m\u001b[0;34m\u001b[0m\u001b[0;34m\u001b[0m\u001b[0m\n\u001b[1;32m      8\u001b[0m     \u001b[0max\u001b[0m \u001b[0;34m=\u001b[0m \u001b[0mplt\u001b[0m\u001b[0;34m.\u001b[0m\u001b[0msubplot\u001b[0m\u001b[0;34m(\u001b[0m\u001b[0maspect\u001b[0m\u001b[0;34m=\u001b[0m\u001b[0;34m'equal'\u001b[0m\u001b[0;34m)\u001b[0m\u001b[0;34m\u001b[0m\u001b[0;34m\u001b[0m\u001b[0m\n\u001b[0;32m----> 9\u001b[0;31m     \u001b[0msc\u001b[0m \u001b[0;34m=\u001b[0m \u001b[0max\u001b[0m\u001b[0;34m.\u001b[0m\u001b[0mscatter\u001b[0m\u001b[0;34m(\u001b[0m\u001b[0mx\u001b[0m\u001b[0;34m[\u001b[0m\u001b[0;34m:\u001b[0m\u001b[0;34m,\u001b[0m\u001b[0;36m0\u001b[0m\u001b[0;34m]\u001b[0m\u001b[0;34m,\u001b[0m \u001b[0mx\u001b[0m\u001b[0;34m[\u001b[0m\u001b[0;34m:\u001b[0m\u001b[0;34m,\u001b[0m\u001b[0;36m1\u001b[0m\u001b[0;34m]\u001b[0m\u001b[0;34m,\u001b[0m \u001b[0mlw\u001b[0m\u001b[0;34m=\u001b[0m\u001b[0;36m0\u001b[0m\u001b[0;34m,\u001b[0m \u001b[0ms\u001b[0m\u001b[0;34m=\u001b[0m\u001b[0;36m40\u001b[0m\u001b[0;34m,\u001b[0m \u001b[0mc\u001b[0m\u001b[0;34m=\u001b[0m\u001b[0mpalette\u001b[0m\u001b[0;34m[\u001b[0m\u001b[0mcolors\u001b[0m\u001b[0;34m.\u001b[0m\u001b[0mastype\u001b[0m\u001b[0;34m(\u001b[0m\u001b[0mnp\u001b[0m\u001b[0;34m.\u001b[0m\u001b[0mint\u001b[0m\u001b[0;34m)\u001b[0m\u001b[0;34m]\u001b[0m\u001b[0;34m)\u001b[0m\u001b[0;34m\u001b[0m\u001b[0;34m\u001b[0m\u001b[0m\n\u001b[0m\u001b[1;32m     10\u001b[0m     \u001b[0mplt\u001b[0m\u001b[0;34m.\u001b[0m\u001b[0mxlim\u001b[0m\u001b[0;34m(\u001b[0m\u001b[0;34m-\u001b[0m\u001b[0;36m25\u001b[0m\u001b[0;34m,\u001b[0m \u001b[0;36m25\u001b[0m\u001b[0;34m)\u001b[0m\u001b[0;34m\u001b[0m\u001b[0;34m\u001b[0m\u001b[0m\n\u001b[1;32m     11\u001b[0m     \u001b[0mplt\u001b[0m\u001b[0;34m.\u001b[0m\u001b[0mylim\u001b[0m\u001b[0;34m(\u001b[0m\u001b[0;34m-\u001b[0m\u001b[0;36m25\u001b[0m\u001b[0;34m,\u001b[0m \u001b[0;36m25\u001b[0m\u001b[0;34m)\u001b[0m\u001b[0;34m\u001b[0m\u001b[0;34m\u001b[0m\u001b[0m\n",
      "\u001b[0;31mValueError\u001b[0m: invalid literal for int() with base 10: 'zeroes'"
     ]
    },
    {
     "data": {
      "image/png": "[encoded data removed]",
      "text/plain": [
       "<Figure size 576x576 with 1 Axes>"
      ]
     },
     "metadata": {
      "needs_background": "light"
     },
     "output_type": "display_data"
    }
   ],
   "source": [
    "top_two_comp = pca_df[['pca1','pca2']] # taking first and second principal component\n",
    "fashion_scatter(top_two_comp.values,y_subset) # Visualizing the PCA output"
   ]
  },
  {
   "cell_type": "code",
   "execution_count": null,
   "metadata": {},
   "outputs": [],
   "source": []
  }
 ],
 "metadata": {
  "kernelspec": {
   "display_name": "Python 3",
   "language": "python",
   "name": "python3"
  },
  "language_info": {
   "codemirror_mode": {
    "name": "ipython",
    "version": 3
   },
   "file_extension": ".py",
   "mimetype": "text/x-python",
   "name": "python",
   "nbconvert_exporter": "python",
   "pygments_lexer": "ipython3",
   "version": "3.7.6"
  }
 },
 "nbformat": 4,
 "nbformat_minor": 2
}
