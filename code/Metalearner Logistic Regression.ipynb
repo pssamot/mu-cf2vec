{
 "cells": [
  {
   "cell_type": "code",
   "execution_count": 25,
   "metadata": {},
   "outputs": [],
   "source": [
    "from sklearn.linear_model import LogisticRegression\n",
    "from sklearn.metrics import classification_report\n",
    "from sklearn.model_selection import GridSearchCV\n",
    "from sklearn.preprocessing import StandardScaler\n",
    "from sklearn.preprocessing import LabelEncoder\n",
    "from sklearn.model_selection import KFold\n",
    "from sklearn import metrics\n",
    "from sklearn import svm\n",
    "import pandas as pd\n",
    "import numpy as np\n",
    "import sys\n",
    "import os"
   ]
  },
  {
   "cell_type": "code",
   "execution_count": 97,
   "metadata": {},
   "outputs": [],
   "source": [
    "is_vae = False\n",
    "# Just choose the name of the dataset directory\n",
    "DATA_DIR = '/Users/tomas/Documents/FEUP/Tese/data/ml-20m/processed_70_10_20'\n",
    "if is_vae:\n",
    "    PARSE_DATA_DIR = os.path.join(DATA_DIR, 'embeddings/vae')\n",
    "else:\n",
    "    PARSE_DATA_DIR = os.path.join(DATA_DIR, 'embeddings/cdae')\n",
    "file = 'metadataset_k_20.csv'"
   ]
  },
  {
   "cell_type": "code",
   "execution_count": 98,
   "metadata": {},
   "outputs": [
    {
     "data": {
      "text/html": [
       "<div>\n",
       "<style scoped>\n",
       "    .dataframe tbody tr th:only-of-type {\n",
       "        vertical-align: middle;\n",
       "    }\n",
       "\n",
       "    .dataframe tbody tr th {\n",
       "        vertical-align: top;\n",
       "    }\n",
       "\n",
       "    .dataframe thead th {\n",
       "        text-align: right;\n",
       "    }\n",
       "</style>\n",
       "<table border=\"1\" class=\"dataframe\">\n",
       "  <thead>\n",
       "    <tr style=\"text-align: right;\">\n",
       "      <th></th>\n",
       "      <th>original_id</th>\n",
       "      <th>f0</th>\n",
       "      <th>f1</th>\n",
       "      <th>f2</th>\n",
       "      <th>f3</th>\n",
       "      <th>f4</th>\n",
       "      <th>f5</th>\n",
       "      <th>f6</th>\n",
       "      <th>f7</th>\n",
       "      <th>f8</th>\n",
       "      <th>...</th>\n",
       "      <th>f41</th>\n",
       "      <th>f42</th>\n",
       "      <th>f43</th>\n",
       "      <th>f44</th>\n",
       "      <th>f45</th>\n",
       "      <th>f46</th>\n",
       "      <th>f47</th>\n",
       "      <th>f48</th>\n",
       "      <th>f49</th>\n",
       "      <th>first_place</th>\n",
       "    </tr>\n",
       "  </thead>\n",
       "  <tbody>\n",
       "    <tr>\n",
       "      <th>0</th>\n",
       "      <td>1</td>\n",
       "      <td>2.092112e-32</td>\n",
       "      <td>6.249415e-32</td>\n",
       "      <td>-6.000611e-33</td>\n",
       "      <td>5.893090e-32</td>\n",
       "      <td>4.020546e-32</td>\n",
       "      <td>2.152657e-32</td>\n",
       "      <td>-5.836300e-32</td>\n",
       "      <td>2.339763e-32</td>\n",
       "      <td>4.832709e-32</td>\n",
       "      <td>...</td>\n",
       "      <td>1.450966e-33</td>\n",
       "      <td>-2.433296e-32</td>\n",
       "      <td>-1.128275e-33</td>\n",
       "      <td>-1.185880e-33</td>\n",
       "      <td>1.241357e-32</td>\n",
       "      <td>-6.068290e-33</td>\n",
       "      <td>3.252277e-32</td>\n",
       "      <td>2.221478e-32</td>\n",
       "      <td>9.671203e-34</td>\n",
       "      <td>zeroes</td>\n",
       "    </tr>\n",
       "    <tr>\n",
       "      <th>1</th>\n",
       "      <td>2</td>\n",
       "      <td>-1.855838e-32</td>\n",
       "      <td>-2.090192e-32</td>\n",
       "      <td>-1.898156e-32</td>\n",
       "      <td>2.504322e-32</td>\n",
       "      <td>-2.451386e-32</td>\n",
       "      <td>-6.685095e-34</td>\n",
       "      <td>-3.221332e-32</td>\n",
       "      <td>-4.198181e-32</td>\n",
       "      <td>-6.362588e-32</td>\n",
       "      <td>...</td>\n",
       "      <td>1.600629e-32</td>\n",
       "      <td>3.991929e-32</td>\n",
       "      <td>-1.531876e-32</td>\n",
       "      <td>-4.649628e-32</td>\n",
       "      <td>-4.278011e-32</td>\n",
       "      <td>2.160474e-32</td>\n",
       "      <td>-3.867348e-32</td>\n",
       "      <td>2.380331e-32</td>\n",
       "      <td>-2.335757e-32</td>\n",
       "      <td>als_ndcg</td>\n",
       "    </tr>\n",
       "    <tr>\n",
       "      <th>2</th>\n",
       "      <td>3</td>\n",
       "      <td>-1.169303e-32</td>\n",
       "      <td>-6.049711e-32</td>\n",
       "      <td>4.136449e-32</td>\n",
       "      <td>-9.663286e-33</td>\n",
       "      <td>-1.924273e-32</td>\n",
       "      <td>3.455974e-32</td>\n",
       "      <td>1.667681e-32</td>\n",
       "      <td>5.966751e-34</td>\n",
       "      <td>-2.579415e-32</td>\n",
       "      <td>...</td>\n",
       "      <td>5.994075e-33</td>\n",
       "      <td>-1.462464e-32</td>\n",
       "      <td>-1.664031e-32</td>\n",
       "      <td>2.628347e-33</td>\n",
       "      <td>-1.029011e-32</td>\n",
       "      <td>1.240914e-32</td>\n",
       "      <td>-1.170141e-32</td>\n",
       "      <td>-2.649629e-32</td>\n",
       "      <td>2.516531e-32</td>\n",
       "      <td>most_popular_ndcg</td>\n",
       "    </tr>\n",
       "    <tr>\n",
       "      <th>3</th>\n",
       "      <td>4</td>\n",
       "      <td>-2.586232e-32</td>\n",
       "      <td>-3.247477e-32</td>\n",
       "      <td>6.048788e-33</td>\n",
       "      <td>1.627761e-32</td>\n",
       "      <td>5.529978e-32</td>\n",
       "      <td>-1.838027e-33</td>\n",
       "      <td>1.555958e-32</td>\n",
       "      <td>5.057206e-32</td>\n",
       "      <td>-2.870304e-33</td>\n",
       "      <td>...</td>\n",
       "      <td>1.395353e-32</td>\n",
       "      <td>-2.553700e-32</td>\n",
       "      <td>1.501834e-32</td>\n",
       "      <td>4.594490e-32</td>\n",
       "      <td>1.732268e-32</td>\n",
       "      <td>1.482250e-32</td>\n",
       "      <td>-7.583220e-33</td>\n",
       "      <td>4.964787e-32</td>\n",
       "      <td>1.042384e-32</td>\n",
       "      <td>zeroes</td>\n",
       "    </tr>\n",
       "    <tr>\n",
       "      <th>4</th>\n",
       "      <td>5</td>\n",
       "      <td>-1.429949e-32</td>\n",
       "      <td>-1.369787e-32</td>\n",
       "      <td>-2.009418e-32</td>\n",
       "      <td>4.561260e-32</td>\n",
       "      <td>1.526659e-32</td>\n",
       "      <td>-2.487647e-32</td>\n",
       "      <td>5.173627e-33</td>\n",
       "      <td>-3.500297e-32</td>\n",
       "      <td>4.993383e-32</td>\n",
       "      <td>...</td>\n",
       "      <td>6.116732e-33</td>\n",
       "      <td>-1.546610e-32</td>\n",
       "      <td>-1.768405e-32</td>\n",
       "      <td>1.836809e-32</td>\n",
       "      <td>2.371812e-32</td>\n",
       "      <td>-1.883063e-32</td>\n",
       "      <td>5.819227e-32</td>\n",
       "      <td>4.135692e-32</td>\n",
       "      <td>-4.840399e-32</td>\n",
       "      <td>most_popular_ndcg</td>\n",
       "    </tr>\n",
       "  </tbody>\n",
       "</table>\n",
       "<p>5 rows × 52 columns</p>\n",
       "</div>"
      ],
      "text/plain": [
       "   original_id            f0            f1            f2            f3  \\\n",
       "0            1  2.092112e-32  6.249415e-32 -6.000611e-33  5.893090e-32   \n",
       "1            2 -1.855838e-32 -2.090192e-32 -1.898156e-32  2.504322e-32   \n",
       "2            3 -1.169303e-32 -6.049711e-32  4.136449e-32 -9.663286e-33   \n",
       "3            4 -2.586232e-32 -3.247477e-32  6.048788e-33  1.627761e-32   \n",
       "4            5 -1.429949e-32 -1.369787e-32 -2.009418e-32  4.561260e-32   \n",
       "\n",
       "             f4            f5            f6            f7            f8  ...  \\\n",
       "0  4.020546e-32  2.152657e-32 -5.836300e-32  2.339763e-32  4.832709e-32  ...   \n",
       "1 -2.451386e-32 -6.685095e-34 -3.221332e-32 -4.198181e-32 -6.362588e-32  ...   \n",
       "2 -1.924273e-32  3.455974e-32  1.667681e-32  5.966751e-34 -2.579415e-32  ...   \n",
       "3  5.529978e-32 -1.838027e-33  1.555958e-32  5.057206e-32 -2.870304e-33  ...   \n",
       "4  1.526659e-32 -2.487647e-32  5.173627e-33 -3.500297e-32  4.993383e-32  ...   \n",
       "\n",
       "            f41           f42           f43           f44           f45  \\\n",
       "0  1.450966e-33 -2.433296e-32 -1.128275e-33 -1.185880e-33  1.241357e-32   \n",
       "1  1.600629e-32  3.991929e-32 -1.531876e-32 -4.649628e-32 -4.278011e-32   \n",
       "2  5.994075e-33 -1.462464e-32 -1.664031e-32  2.628347e-33 -1.029011e-32   \n",
       "3  1.395353e-32 -2.553700e-32  1.501834e-32  4.594490e-32  1.732268e-32   \n",
       "4  6.116732e-33 -1.546610e-32 -1.768405e-32  1.836809e-32  2.371812e-32   \n",
       "\n",
       "            f46           f47           f48           f49        first_place  \n",
       "0 -6.068290e-33  3.252277e-32  2.221478e-32  9.671203e-34             zeroes  \n",
       "1  2.160474e-32 -3.867348e-32  2.380331e-32 -2.335757e-32           als_ndcg  \n",
       "2  1.240914e-32 -1.170141e-32 -2.649629e-32  2.516531e-32  most_popular_ndcg  \n",
       "3  1.482250e-32 -7.583220e-33  4.964787e-32  1.042384e-32             zeroes  \n",
       "4 -1.883063e-32  5.819227e-32  4.135692e-32 -4.840399e-32  most_popular_ndcg  \n",
       "\n",
       "[5 rows x 52 columns]"
      ]
     },
     "execution_count": 98,
     "metadata": {},
     "output_type": "execute_result"
    }
   ],
   "source": [
    "#read in the data using pandas\n",
    "metadataset = pd.read_csv(os.path.join(PARSE_DATA_DIR, file ))\n",
    "metadataset.head()"
   ]
  },
  {
   "cell_type": "markdown",
   "metadata": {},
   "source": [
    "### Encoder"
   ]
  },
  {
   "cell_type": "code",
   "execution_count": 108,
   "metadata": {},
   "outputs": [],
   "source": [
    "#als:0\n",
    "#bpr:1\n",
    "#lmf:2\n",
    "#most_pop_3\n",
    "#zeros:4\n",
    "target_pre = metadataset['first_place'].values \n",
    "label_encoder = LabelEncoder()\n",
    "target = label_encoder.fit_transform(target_pre)"
   ]
  },
  {
   "cell_type": "markdown",
   "metadata": {},
   "source": [
    "### Normalization inputs"
   ]
  },
  {
   "cell_type": "code",
   "execution_count": 109,
   "metadata": {},
   "outputs": [],
   "source": [
    "normalize = False"
   ]
  },
  {
   "cell_type": "code",
   "execution_count": 110,
   "metadata": {},
   "outputs": [],
   "source": [
    "if normalize:\n",
    "  #---- SET INPUTS -----\n",
    "  scaler = StandardScaler()\n",
    "  #Compute the mean and std to be used for later scaling.\n",
    "  scaler.fit(metadataset.drop(columns=['first_place','original_id']))\n",
    "  # Perform standardization by centering and scaling\n",
    "  inputs_transform = scaler.transform(metadataset.drop(columns=['first_place','original_id']))\n",
    "  inputs = pd.DataFrame(inputs_transform)\n",
    "  inputs.head()\n",
    "else:\n",
    "  inputs = metadataset.drop(columns=['first_place','original_id'])"
   ]
  },
  {
   "cell_type": "markdown",
   "metadata": {},
   "source": [
    "### Model"
   ]
  },
  {
   "cell_type": "code",
   "execution_count": 16,
   "metadata": {},
   "outputs": [
    {
     "name": "stdout",
     "output_type": "stream",
     "text": [
      "KFold(n_splits=5, random_state=None, shuffle=False)\n"
     ]
    }
   ],
   "source": [
    "kf = KFold(n_splits=5)\n",
    "kf.get_n_splits()\n",
    "print(kf)"
   ]
  },
  {
   "cell_type": "code",
   "execution_count": 129,
   "metadata": {},
   "outputs": [],
   "source": [
    "params = {\n",
    "    'C': 316.22776601683796, \n",
    "    'penalty': 'l2', \n",
    "    'solver': 'newton-cg',\n",
    "    'random_state':0}"
   ]
  },
  {
   "cell_type": "code",
   "execution_count": 130,
   "metadata": {
    "scrolled": true
   },
   "outputs": [
    {
     "name": "stdout",
     "output_type": "stream",
     "text": [
      "iteration:  1\n",
      "fit\n"
     ]
    },
    {
     "name": "stderr",
     "output_type": "stream",
     "text": [
      "/usr/local/lib/python3.7/site-packages/sklearn/linear_model/logistic.py:469: FutureWarning: Default multi_class will be changed to 'auto' in 0.22. Specify the multi_class option to silence this warning.\n",
      "  \"this warning.\", FutureWarning)\n",
      "[Parallel(n_jobs=1)]: Using backend SequentialBackend with 1 concurrent workers.\n",
      "[Parallel(n_jobs=1)]: Done   1 out of   1 | elapsed:    0.7s remaining:    0.0s\n",
      "[Parallel(n_jobs=1)]: Done   2 out of   2 | elapsed:    1.2s remaining:    0.0s\n",
      "[Parallel(n_jobs=1)]: Done   3 out of   3 | elapsed:    1.8s remaining:    0.0s\n",
      "[Parallel(n_jobs=1)]: Done   4 out of   4 | elapsed:    2.2s remaining:    0.0s\n",
      "[Parallel(n_jobs=1)]: Done   5 out of   5 | elapsed:    2.8s finished\n",
      "/usr/local/lib/python3.7/site-packages/sklearn/metrics/classification.py:1437: UndefinedMetricWarning: Precision and F-score are ill-defined and being set to 0.0 in labels with no predicted samples.\n",
      "  'precision', 'predicted', average, warn_for)\n",
      "/usr/local/lib/python3.7/site-packages/sklearn/linear_model/logistic.py:469: FutureWarning: Default multi_class will be changed to 'auto' in 0.22. Specify the multi_class option to silence this warning.\n",
      "  \"this warning.\", FutureWarning)\n",
      "[Parallel(n_jobs=1)]: Using backend SequentialBackend with 1 concurrent workers.\n"
     ]
    },
    {
     "name": "stdout",
     "output_type": "stream",
     "text": [
      "predict\n",
      "end:  1\n",
      "iteration:  2\n",
      "fit\n"
     ]
    },
    {
     "name": "stderr",
     "output_type": "stream",
     "text": [
      "[Parallel(n_jobs=1)]: Done   1 out of   1 | elapsed:    0.4s remaining:    0.0s\n",
      "[Parallel(n_jobs=1)]: Done   2 out of   2 | elapsed:    0.9s remaining:    0.0s\n",
      "[Parallel(n_jobs=1)]: Done   3 out of   3 | elapsed:    1.4s remaining:    0.0s\n",
      "[Parallel(n_jobs=1)]: Done   4 out of   4 | elapsed:    2.0s remaining:    0.0s\n",
      "[Parallel(n_jobs=1)]: Done   5 out of   5 | elapsed:    2.6s finished\n",
      "/usr/local/lib/python3.7/site-packages/sklearn/metrics/classification.py:1437: UndefinedMetricWarning: Precision and F-score are ill-defined and being set to 0.0 in labels with no predicted samples.\n",
      "  'precision', 'predicted', average, warn_for)\n",
      "/usr/local/lib/python3.7/site-packages/sklearn/linear_model/logistic.py:469: FutureWarning: Default multi_class will be changed to 'auto' in 0.22. Specify the multi_class option to silence this warning.\n",
      "  \"this warning.\", FutureWarning)\n",
      "[Parallel(n_jobs=1)]: Using backend SequentialBackend with 1 concurrent workers.\n"
     ]
    },
    {
     "name": "stdout",
     "output_type": "stream",
     "text": [
      "predict\n",
      "end:  2\n",
      "iteration:  3\n",
      "fit\n"
     ]
    },
    {
     "name": "stderr",
     "output_type": "stream",
     "text": [
      "[Parallel(n_jobs=1)]: Done   1 out of   1 | elapsed:    0.5s remaining:    0.0s\n",
      "[Parallel(n_jobs=1)]: Done   2 out of   2 | elapsed:    1.1s remaining:    0.0s\n",
      "[Parallel(n_jobs=1)]: Done   3 out of   3 | elapsed:    1.6s remaining:    0.0s\n",
      "[Parallel(n_jobs=1)]: Done   4 out of   4 | elapsed:    1.9s remaining:    0.0s\n",
      "[Parallel(n_jobs=1)]: Done   5 out of   5 | elapsed:    2.5s finished\n",
      "/usr/local/lib/python3.7/site-packages/sklearn/metrics/classification.py:1437: UndefinedMetricWarning: Precision and F-score are ill-defined and being set to 0.0 in labels with no predicted samples.\n",
      "  'precision', 'predicted', average, warn_for)\n",
      "/usr/local/lib/python3.7/site-packages/sklearn/linear_model/logistic.py:469: FutureWarning: Default multi_class will be changed to 'auto' in 0.22. Specify the multi_class option to silence this warning.\n",
      "  \"this warning.\", FutureWarning)\n",
      "[Parallel(n_jobs=1)]: Using backend SequentialBackend with 1 concurrent workers.\n"
     ]
    },
    {
     "name": "stdout",
     "output_type": "stream",
     "text": [
      "predict\n",
      "end:  3\n",
      "iteration:  4\n",
      "fit\n"
     ]
    },
    {
     "name": "stderr",
     "output_type": "stream",
     "text": [
      "[Parallel(n_jobs=1)]: Done   1 out of   1 | elapsed:    0.5s remaining:    0.0s\n",
      "[Parallel(n_jobs=1)]: Done   2 out of   2 | elapsed:    1.0s remaining:    0.0s\n",
      "[Parallel(n_jobs=1)]: Done   3 out of   3 | elapsed:    1.5s remaining:    0.0s\n",
      "[Parallel(n_jobs=1)]: Done   4 out of   4 | elapsed:    2.0s remaining:    0.0s\n",
      "[Parallel(n_jobs=1)]: Done   5 out of   5 | elapsed:    2.5s finished\n",
      "/usr/local/lib/python3.7/site-packages/sklearn/metrics/classification.py:1437: UndefinedMetricWarning: Precision and F-score are ill-defined and being set to 0.0 in labels with no predicted samples.\n",
      "  'precision', 'predicted', average, warn_for)\n",
      "/usr/local/lib/python3.7/site-packages/sklearn/linear_model/logistic.py:469: FutureWarning: Default multi_class will be changed to 'auto' in 0.22. Specify the multi_class option to silence this warning.\n",
      "  \"this warning.\", FutureWarning)\n",
      "[Parallel(n_jobs=1)]: Using backend SequentialBackend with 1 concurrent workers.\n"
     ]
    },
    {
     "name": "stdout",
     "output_type": "stream",
     "text": [
      "predict\n",
      "end:  4\n",
      "iteration:  5\n",
      "fit\n"
     ]
    },
    {
     "name": "stderr",
     "output_type": "stream",
     "text": [
      "[Parallel(n_jobs=1)]: Done   1 out of   1 | elapsed:    0.5s remaining:    0.0s\n",
      "[Parallel(n_jobs=1)]: Done   2 out of   2 | elapsed:    1.0s remaining:    0.0s\n",
      "[Parallel(n_jobs=1)]: Done   3 out of   3 | elapsed:    1.5s remaining:    0.0s\n",
      "[Parallel(n_jobs=1)]: Done   4 out of   4 | elapsed:    1.8s remaining:    0.0s\n"
     ]
    },
    {
     "name": "stdout",
     "output_type": "stream",
     "text": [
      "predict\n",
      "end:  5\n"
     ]
    },
    {
     "name": "stderr",
     "output_type": "stream",
     "text": [
      "[Parallel(n_jobs=1)]: Done   5 out of   5 | elapsed:    2.4s finished\n",
      "/usr/local/lib/python3.7/site-packages/sklearn/metrics/classification.py:1437: UndefinedMetricWarning: Precision and F-score are ill-defined and being set to 0.0 in labels with no predicted samples.\n",
      "  'precision', 'predicted', average, warn_for)\n"
     ]
    }
   ],
   "source": [
    "i = 1 \n",
    "reports = []\n",
    "for train_index, test_index in kf.split(inputs):\n",
    "    print('iteration: ', i)\n",
    "    #get data fold\n",
    "    X_train, X_test = inputs.iloc[train_index], inputs.iloc[test_index]\n",
    "    y_train, y_test = target[train_index], target[test_index]\n",
    "    \n",
    "    #start model \n",
    "    print('fit')\n",
    "    clf = LogisticRegression(\n",
    "        penalty=params['penalty'], \n",
    "        C=params['C'],\n",
    "        solver=params['solver'],\n",
    "        random_state=params['random_state'],\n",
    "        verbose=5)\n",
    "    \n",
    "    clf.fit(X_train, y_train)\n",
    "    print('predict')\n",
    "    y_pred = clf.predict(X_test)\n",
    "    \n",
    "    report = classification_report(y_test, \n",
    "                                   y_pred, \n",
    "                                   target_names=np.unique(metadataset['first_place'].values),\n",
    "                                  output_dict=True)\n",
    "    reports.append(report)\n",
    "    print('end: ', i)\n",
    "    i+=1"
   ]
  },
  {
   "cell_type": "code",
   "execution_count": 131,
   "metadata": {},
   "outputs": [
    {
     "name": "stdout",
     "output_type": "stream",
     "text": [
      "+-------------------+---------------------+------------------------+-----------------------+\n",
      "|     Algorithm     |      Precision      |         Recall         |           F1          |\n",
      "+-------------------+---------------------+------------------------+-----------------------+\n",
      "|      als_ndcg     |  0.2637136520921216 |   0.9995597287287195   |   0.4173148570509939  |\n",
      "|      bpr_ndcg     |         0.0         |          0.0           |          0.0          |\n",
      "|      lmf_ndcg     |         0.0         |          0.0           |          0.0          |\n",
      "| most_popular_ndcg | 0.19864801864801865 | 0.0004129702916770963  | 0.0008241814064936374 |\n",
      "|       zeroes      | 0.13714285714285715 | 0.00023536678365085475 | 0.0004698765415583628 |\n",
      "|        ---        |         ---         |          ---           |          ---          |\n",
      "|     macro avg     | 0.11990090557659946 |  0.20004161316080946   |  0.08372178299980917  |\n",
      "|    weighted avg   | 0.13638207553330087 |   0.2637006526955073   |  0.11031389562486874  |\n",
      "+-------------------+---------------------+------------------------+-----------------------+\n",
      "Accuracy:  0.2637006526955073\n"
     ]
    }
   ],
   "source": [
    "avg_reports = report_average(reports)\n",
    "print_report(avg_reports)\n",
    "#0.26368523962522367"
   ]
  },
  {
   "cell_type": "markdown",
   "metadata": {
    "heading_collapsed": true
   },
   "source": [
    "#### Prints function"
   ]
  },
  {
   "cell_type": "code",
   "execution_count": 23,
   "metadata": {
    "hidden": true
   },
   "outputs": [],
   "source": [
    "def report_average(reports):\n",
    "    mean_dict = dict()\n",
    "    for label in reports[0].keys():\n",
    "        dictionary = dict()\n",
    "\n",
    "        if label in 'accuracy':\n",
    "            mean_dict[label] = sum(d[label] for d in reports) / len(reports)\n",
    "            continue\n",
    "\n",
    "        for key in reports[0][label].keys():\n",
    "            dictionary[key] = sum(d[label][key] for d in reports) / len(reports)\n",
    "        mean_dict[label] = dictionary\n",
    "\n",
    "    return mean_dict"
   ]
  },
  {
   "cell_type": "code",
   "execution_count": 93,
   "metadata": {
    "hidden": true
   },
   "outputs": [],
   "source": [
    "def print_report(avg_reports):\n",
    "    from prettytable import PrettyTable\n",
    "    x = PrettyTable()\n",
    "\n",
    "    x.field_names = [\"Algorithm\", \"Precision\", \"Recall\", \"F1\"]\n",
    "\n",
    "    for label in avg_reports.keys():\n",
    "        if label in 'accuracy':\n",
    "            x.add_row(['---','---','---','---'])\n",
    "            continue\n",
    "        x.add_row([label, \n",
    "                   avg_reports[label]['precision'], \n",
    "                   avg_reports[label]['recall'], \n",
    "                   avg_reports[label]['f1-score']])\n",
    "\n",
    "\n",
    "    print(x)\n",
    "    print('Accuracy: ', avg_reports['accuracy'])"
   ]
  },
  {
   "cell_type": "markdown",
   "metadata": {
    "heading_collapsed": true
   },
   "source": [
    "## Gridsearch"
   ]
  },
  {
   "cell_type": "code",
   "execution_count": 111,
   "metadata": {
    "hidden": true
   },
   "outputs": [
    {
     "name": "stdout",
     "output_type": "stream",
     "text": [
      "Fitting 5 folds for each of 45 candidates, totalling 225 fits\n"
     ]
    },
    {
     "name": "stderr",
     "output_type": "stream",
     "text": [
      "[Parallel(n_jobs=-1)]: Using backend LokyBackend with 4 concurrent workers.\n",
      "[Parallel(n_jobs=-1)]: Done  10 tasks      | elapsed:   13.4s\n",
      "[Parallel(n_jobs=-1)]: Done  64 tasks      | elapsed:  1.7min\n",
      "[Parallel(n_jobs=-1)]: Done 154 tasks      | elapsed:  5.5min\n",
      "[Parallel(n_jobs=-1)]: Done 225 out of 225 | elapsed: 15.4min finished\n",
      "/usr/local/lib/python3.7/site-packages/sklearn/linear_model/logistic.py:469: FutureWarning: Default multi_class will be changed to 'auto' in 0.22. Specify the multi_class option to silence this warning.\n",
      "  \"this warning.\", FutureWarning)\n"
     ]
    },
    {
     "data": {
      "text/plain": [
       "GridSearchCV(cv=5, error_score='raise-deprecating',\n",
       "             estimator=LogisticRegression(C=1.0, class_weight=None, dual=False,\n",
       "                                          fit_intercept=True,\n",
       "                                          intercept_scaling=1, l1_ratio=None,\n",
       "                                          max_iter=100, multi_class='warn',\n",
       "                                          n_jobs=None, penalty='l2',\n",
       "                                          random_state=None, solver='warn',\n",
       "                                          tol=0.0001, verbose=0,\n",
       "                                          warm_start=False),\n",
       "             iid='warn', n_jobs=-1,\n",
       "             param_grid={'C': array([1.00000000e-05, 1.77827941e-04, 3.16227766e-03, 5.62341325e-02,\n",
       "       1.00000000e+00, 1.77827941e+01, 3.16227766e+02, 5.62341325e+03,\n",
       "       1.00000000e+05]),\n",
       "                         'penalty': ['l2'],\n",
       "                         'solver': ['newton-cg', 'lbfgs', 'liblinear', 'sag',\n",
       "                                    'saga']},\n",
       "             pre_dispatch='2*n_jobs', refit=True, return_train_score=False,\n",
       "             scoring=None, verbose=5)"
      ]
     },
     "execution_count": 111,
     "metadata": {},
     "output_type": "execute_result"
    }
   ],
   "source": [
    "grid={\n",
    "    \"C\":np.logspace(-5,5,9), \n",
    "    \"penalty\":[\"l2\"],\n",
    "    \"solver\":[\"newton-cg\", \"lbfgs\", \"liblinear\", \"sag\", \"saga\"]\n",
    "}# l1 lasso l2 ridge\n",
    "\n",
    "logreg=LogisticRegression()\n",
    "logreg_cv=GridSearchCV(logreg,grid,cv=5, verbose=5, n_jobs=-1)\n",
    "logreg_cv.fit(inputs,target)"
   ]
  },
  {
   "cell_type": "code",
   "execution_count": 113,
   "metadata": {
    "hidden": true
   },
   "outputs": [
    {
     "data": {
      "text/plain": [
       "{'C': 316.22776601683796, 'penalty': 'l2', 'solver': 'newton-cg'}"
      ]
     },
     "execution_count": 113,
     "metadata": {},
     "output_type": "execute_result"
    }
   ],
   "source": [
    "logreg_cv.best_params_"
   ]
  },
  {
   "cell_type": "code",
   "execution_count": 104,
   "metadata": {
    "hidden": true
   },
   "outputs": [
    {
     "data": {
      "text/plain": [
       "{'C': 1.0, 'penalty': 'l2', 'solver': 'liblinear'}"
      ]
     },
     "execution_count": 104,
     "metadata": {},
     "output_type": "execute_result"
    }
   ],
   "source": [
    "logreg_cv.best_params_"
   ]
  },
  {
   "cell_type": "code",
   "execution_count": 25,
   "metadata": {
    "hidden": true
   },
   "outputs": [
    {
     "data": {
      "text/plain": [
       "{'C': array([1.e-03, 1.e-02, 1.e-01, 1.e+00, 1.e+01, 1.e+02, 1.e+03]),\n",
       " 'penalty': ['l2'],\n",
       " 'solver': ['newton-cg', 'lbfgs', 'liblinear', 'sag', 'saga']}"
      ]
     },
     "execution_count": 25,
     "metadata": {},
     "output_type": "execute_result"
    }
   ],
   "source": [
    "grid"
   ]
  },
  {
   "cell_type": "code",
   "execution_count": null,
   "metadata": {
    "hidden": true
   },
   "outputs": [],
   "source": []
  },
  {
   "cell_type": "code",
   "execution_count": null,
   "metadata": {
    "hidden": true
   },
   "outputs": [],
   "source": []
  },
  {
   "cell_type": "code",
   "execution_count": null,
   "metadata": {
    "hidden": true
   },
   "outputs": [],
   "source": []
  },
  {
   "cell_type": "code",
   "execution_count": null,
   "metadata": {
    "hidden": true
   },
   "outputs": [],
   "source": []
  }
 ],
 "metadata": {
  "kernelspec": {
   "display_name": "Python 3",
   "language": "python",
   "name": "python3"
  },
  "language_info": {
   "codemirror_mode": {
    "name": "ipython",
    "version": 3
   },
   "file_extension": ".py",
   "mimetype": "text/x-python",
   "name": "python",
   "nbconvert_exporter": "python",
   "pygments_lexer": "ipython3",
   "version": "3.7.6"
  }
 },
 "nbformat": 4,
 "nbformat_minor": 2
}
