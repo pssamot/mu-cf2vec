{
 "cells": [
  {
   "cell_type": "code",
   "execution_count": 1,
   "metadata": {},
   "outputs": [],
   "source": [
    "import os\n",
    "import shutil\n",
    "import sys\n",
    "\n",
    "import json\n",
    "\n",
    "import numpy as np\n",
    "from scipy import sparse\n",
    "from sklearn.model_selection import train_test_split\n",
    "\n",
    "import matplotlib.pyplot as plt\n",
    "%matplotlib inline\n",
    "\n",
    "import seaborn as sn\n",
    "sn.set()\n",
    "\n",
    "import pandas as pd\n",
    "import implicit\n",
    "\n",
    "from tqdm.notebook import tqdm"
   ]
  },
  {
   "cell_type": "markdown",
   "metadata": {},
   "source": [
    "### Load data"
   ]
  },
  {
   "cell_type": "code",
   "execution_count": 2,
   "metadata": {},
   "outputs": [],
   "source": [
    "# Just choose the name of the dataset directory\n",
    "dataset  = 'ml-20m'\n",
    "DATA_DIR = '/Users/tomas/Documents/FEUP/Tese/data/' + dataset\n",
    "PARSE_DATA_DIR = os.path.join(DATA_DIR, 'processed_70_10_20')"
   ]
  },
  {
   "cell_type": "code",
   "execution_count": 3,
   "metadata": {},
   "outputs": [],
   "source": [
    "unique_sid = list()\n",
    "with open(os.path.join(PARSE_DATA_DIR, 'unique_sid.txt'), 'r') as f:\n",
    "    for line in f:\n",
    "        unique_sid.append(line.strip())\n",
    "\n",
    "n_items = len(unique_sid)"
   ]
  },
  {
   "cell_type": "code",
   "execution_count": 4,
   "metadata": {},
   "outputs": [],
   "source": [
    "def load_csv_data_to_sparse(csv_file):\n",
    "    tp = pd.read_csv(csv_file)\n",
    "    n_users = tp['uid'].max() + 1\n",
    "    rows, cols = tp['uid'], tp['sid']\n",
    "    data = sparse.csr_matrix((np.ones_like(rows),\n",
    "                             (rows, cols)), dtype='float64',\n",
    "                             shape=(n_users, n_items))\n",
    "    return data, n_users"
   ]
  },
  {
   "cell_type": "code",
   "execution_count": 5,
   "metadata": {},
   "outputs": [],
   "source": [
    "#TRAIN\n",
    "#user - items\n",
    "train_data, n_users = load_csv_data_to_sparse(os.path.join(PARSE_DATA_DIR, 'train.csv'))"
   ]
  },
  {
   "cell_type": "code",
   "execution_count": 6,
   "metadata": {},
   "outputs": [
    {
     "data": {
      "text/plain": [
       "(129757, 11518)"
      ]
     },
     "execution_count": 6,
     "metadata": {},
     "output_type": "execute_result"
    }
   ],
   "source": [
    "train_data.shape"
   ]
  },
  {
   "cell_type": "code",
   "execution_count": 7,
   "metadata": {},
   "outputs": [],
   "source": [
    "#VALIDATION\n",
    "#user - items\n",
    "validation_data = pd.read_csv(os.path.join(PARSE_DATA_DIR, 'validation.csv'))"
   ]
  },
  {
   "cell_type": "code",
   "execution_count": 8,
   "metadata": {},
   "outputs": [],
   "source": [
    "#TEST\n",
    "#user - items\n",
    "test_data = pd.read_csv(os.path.join(PARSE_DATA_DIR, 'test.csv'))"
   ]
  },
  {
   "cell_type": "code",
   "execution_count": 285,
   "metadata": {},
   "outputs": [
    {
     "data": {
      "text/html": [
       "<div>\n",
       "<style scoped>\n",
       "    .dataframe tbody tr th:only-of-type {\n",
       "        vertical-align: middle;\n",
       "    }\n",
       "\n",
       "    .dataframe tbody tr th {\n",
       "        vertical-align: top;\n",
       "    }\n",
       "\n",
       "    .dataframe thead th {\n",
       "        text-align: right;\n",
       "    }\n",
       "</style>\n",
       "<table border=\"1\" class=\"dataframe\">\n",
       "  <thead>\n",
       "    <tr style=\"text-align: right;\">\n",
       "      <th></th>\n",
       "      <th>cont</th>\n",
       "      <th>colFromIndex</th>\n",
       "    </tr>\n",
       "  </thead>\n",
       "  <tbody>\n",
       "    <tr>\n",
       "      <th>33</th>\n",
       "      <td>6</td>\n",
       "      <td>33</td>\n",
       "    </tr>\n",
       "    <tr>\n",
       "      <th>140</th>\n",
       "      <td>6</td>\n",
       "      <td>140</td>\n",
       "    </tr>\n",
       "    <tr>\n",
       "      <th>219</th>\n",
       "      <td>6</td>\n",
       "      <td>219</td>\n",
       "    </tr>\n",
       "    <tr>\n",
       "      <th>257</th>\n",
       "      <td>6</td>\n",
       "      <td>257</td>\n",
       "    </tr>\n",
       "    <tr>\n",
       "      <th>276</th>\n",
       "      <td>6</td>\n",
       "      <td>276</td>\n",
       "    </tr>\n",
       "  </tbody>\n",
       "</table>\n",
       "</div>"
      ],
      "text/plain": [
       "     cont  colFromIndex\n",
       "33      6            33\n",
       "140     6           140\n",
       "219     6           219\n",
       "257     6           257\n",
       "276     6           276"
      ]
     },
     "execution_count": 285,
     "metadata": {},
     "output_type": "execute_result"
    }
   ],
   "source": [
    "t = pd.read_csv(os.path.join(PARSE_DATA_DIR, 'train.csv'))\n",
    "df = t.groupby('uid').size().reset_index(name='cont')\n",
    "df = df.drop('uid', 1)\n",
    "df['colFromIndex'] = df.index\n",
    "df = df.sort_values(by=['cont', 'colFromIndex'], ascending=True)\n",
    "df.head()"
   ]
  },
  {
   "cell_type": "code",
   "execution_count": 286,
   "metadata": {},
   "outputs": [
    {
     "data": {
      "text/html": [
       "<div>\n",
       "<style scoped>\n",
       "    .dataframe tbody tr th:only-of-type {\n",
       "        vertical-align: middle;\n",
       "    }\n",
       "\n",
       "    .dataframe tbody tr th {\n",
       "        vertical-align: top;\n",
       "    }\n",
       "\n",
       "    .dataframe thead th {\n",
       "        text-align: right;\n",
       "    }\n",
       "</style>\n",
       "<table border=\"1\" class=\"dataframe\">\n",
       "  <thead>\n",
       "    <tr style=\"text-align: right;\">\n",
       "      <th></th>\n",
       "      <th>uid</th>\n",
       "      <th>sid</th>\n",
       "    </tr>\n",
       "  </thead>\n",
       "  <tbody>\n",
       "    <tr>\n",
       "      <th>0</th>\n",
       "      <td>0</td>\n",
       "      <td>997</td>\n",
       "    </tr>\n",
       "    <tr>\n",
       "      <th>1</th>\n",
       "      <td>0</td>\n",
       "      <td>2700</td>\n",
       "    </tr>\n",
       "    <tr>\n",
       "      <th>2</th>\n",
       "      <td>0</td>\n",
       "      <td>3619</td>\n",
       "    </tr>\n",
       "    <tr>\n",
       "      <th>3</th>\n",
       "      <td>0</td>\n",
       "      <td>144</td>\n",
       "    </tr>\n",
       "    <tr>\n",
       "      <th>4</th>\n",
       "      <td>0</td>\n",
       "      <td>1273</td>\n",
       "    </tr>\n",
       "  </tbody>\n",
       "</table>\n",
       "</div>"
      ],
      "text/plain": [
       "   uid   sid\n",
       "0    0   997\n",
       "1    0  2700\n",
       "2    0  3619\n",
       "3    0   144\n",
       "4    0  1273"
      ]
     },
     "execution_count": 286,
     "metadata": {},
     "output_type": "execute_result"
    }
   ],
   "source": [
    "t.head()"
   ]
  },
  {
   "cell_type": "markdown",
   "metadata": {
    "heading_collapsed": true
   },
   "source": [
    "### Evaluation"
   ]
  },
  {
   "cell_type": "code",
   "execution_count": 9,
   "metadata": {
    "hidden": true
   },
   "outputs": [],
   "source": [
    "def get_score(eval_df, pred, k, algo):\n",
    "    \"\"\"Compute the metrics for all the users in pred and compares it with the eval_df. \n",
    "    Args:\n",
    "        eval_df: pandas df with interaction format (uid,sid). It will be used to compare the with the prediction  \n",
    "        pred: numpy array with the predicions for each user\n",
    "        k: Number of results to consider\n",
    "        algo: Name of the algorithm\n",
    "        \n",
    "    Returns:\n",
    "        Discounted cumulative gain\n",
    "    \"\"\"\n",
    "    \n",
    "    algo = algo + \"_ndcg\"\n",
    "    n_users = eval_df['uid'].max() + 1\n",
    "    grouped = eval_df.groupby('uid')\n",
    "\n",
    "    pbar = tqdm()\n",
    "    pbar.reset(total=n_users)\n",
    "    \n",
    "\n",
    "\n",
    "    df = pd.DataFrame(columns=['uid', algo]) \n",
    "\n",
    "    for i, (_, group) in enumerate(grouped):\n",
    "\n",
    "        relevance = 1*np.isin(pred[i],group['sid'])\n",
    "        ndcg = ndcg_at_k(relevance, k)\n",
    "        df = df.append({'uid': i,algo: ndcg }, ignore_index=True)\n",
    "        pbar.update()\n",
    "\n",
    "\n",
    "    pbar.refresh()\n",
    "    print(\"--- \", algo, \" STATS ---\")\n",
    "    print(\"mean: \", df[algo].mean())\n",
    "    print(\"max: \", df[algo].max())\n",
    "    print(\"min: \", df[algo].min())\n",
    "    return df"
   ]
  },
  {
   "cell_type": "code",
   "execution_count": 10,
   "metadata": {
    "hidden": true
   },
   "outputs": [],
   "source": [
    "def dcg_at_k(r, k, method=0):\n",
    "    \"\"\"Score is discounted cumulative gain (dcg)\n",
    "    Relevance is positive real values.  Can use binary\n",
    "    as the previous methods.\n",
    "    Example from\n",
    "    http://www.stanford.edu/class/cs276/handouts/EvaluationNew-handout-6-per.pdf\n",
    "    >>> r = [3, 2, 3, 0, 0, 1, 2, 2, 3, 0]\n",
    "    >>> dcg_at_k(r, 1)\n",
    "    3.0\n",
    "    >>> dcg_at_k(r, 1, method=1)\n",
    "    3.0\n",
    "    >>> dcg_at_k(r, 2)\n",
    "    5.0\n",
    "    >>> dcg_at_k(r, 2, method=1)\n",
    "    4.2618595071429155\n",
    "    >>> dcg_at_k(r, 10)\n",
    "    9.6051177391888114\n",
    "    >>> dcg_at_k(r, 11)\n",
    "    9.6051177391888114\n",
    "    Args:\n",
    "        r: Relevance scores (list or numpy) in rank order\n",
    "            (first element is the first item)\n",
    "        k: Number of results to consider\n",
    "        method: If 0 then weights are [1.0, 1.0, 0.6309, 0.5, 0.4307, ...]\n",
    "                If 1 then weights are [1.0, 0.6309, 0.5, 0.4307, ...]\n",
    "    Returns:\n",
    "        Discounted cumulative gain\n",
    "    \"\"\"\n",
    "    r = np.asfarray(r)[:k]\n",
    "    if r.size:\n",
    "        if method == 0:\n",
    "            return r[0] + np.sum(r[1:] / np.log2(np.arange(2, r.size + 1)))\n",
    "        elif method == 1:\n",
    "            return np.sum(r / np.log2(np.arange(2, r.size + 2)))\n",
    "        else:\n",
    "            raise ValueError('method must be 0 or 1.')\n",
    "    return 0.\n",
    " "
   ]
  },
  {
   "cell_type": "code",
   "execution_count": 11,
   "metadata": {
    "hidden": true
   },
   "outputs": [],
   "source": [
    "def ndcg_at_k(r, k=100, method=0):\n",
    "    \"\"\"Score is normalized discounted cumulative gain (ndcg)\n",
    "    Relevance is positive real values.  Can use binary\n",
    "    as the previous methods.\n",
    "    Example from\n",
    "    http://www.stanford.edu/class/cs276/handouts/EvaluationNew-handout-6-per.pdf\n",
    "    >>> r = [3, 2, 3, 0, 0, 1, 2, 2, 3, 0]\n",
    "    >>> ndcg_at_k(r, 1)\n",
    "    1.0\n",
    "    >>> r = [2, 1, 2, 0]\n",
    "    >>> ndcg_at_k(r, 4)\n",
    "    0.9203032077642922\n",
    "    >>> ndcg_at_k(r, 4, method=1)\n",
    "    0.96519546960144276\n",
    "    >>> ndcg_at_k([0], 1)\n",
    "    0.0\n",
    "    >>> ndcg_at_k([1], 2)\n",
    "    1.0\n",
    "    Args:\n",
    "        r: Relevance scores (list or numpy) in rank order\n",
    "            (first element is the first item)\n",
    "        k: Number of results to consider\n",
    "        method: If 0 then weights are [1.0, 1.0, 0.6309, 0.5, 0.4307, ...]\n",
    "                If 1 then weights are [1.0, 0.6309, 0.5, 0.4307, ...]\n",
    "    Returns:\n",
    "        Normalized discounted cumulative gain\n",
    "    \"\"\"\n",
    "    dcg_max = dcg_at_k(sorted(r, reverse=True), k, method)\n",
    "    if not dcg_max or dcg_max == 0:\n",
    "        return 0.\n",
    "    return dcg_at_k(r, k, method) / dcg_max"
   ]
  },
  {
   "cell_type": "markdown",
   "metadata": {},
   "source": [
    "## Modelling"
   ]
  },
  {
   "cell_type": "markdown",
   "metadata": {},
   "source": [
    "### ALS"
   ]
  },
  {
   "cell_type": "code",
   "execution_count": 12,
   "metadata": {},
   "outputs": [],
   "source": [
    "NUM_THREADS = 0\n",
    "ALS_TOP_N = 20\n",
    "ALS_Factors = 200"
   ]
  },
  {
   "cell_type": "code",
   "execution_count": 13,
   "metadata": {},
   "outputs": [
    {
     "name": "stderr",
     "output_type": "stream",
     "text": [
      "WARNING:root:OpenBLAS detected. Its highly recommend to set the environment variable 'export OPENBLAS_NUM_THREADS=1' to disable its internal multithreading\n"
     ]
    }
   ],
   "source": [
    "als_model = implicit.als.AlternatingLeastSquares(factors=ALS_Factors,calculate_training_loss=True)"
   ]
  },
  {
   "cell_type": "code",
   "execution_count": 14,
   "metadata": {},
   "outputs": [
    {
     "data": {
      "application/vnd.jupyter.widget-view+json": {
       "model_id": "e3603347828f456e9c2c0cb1deb0a76f",
       "version_major": 2,
       "version_minor": 0
      },
      "text/plain": [
       "HBox(children=(IntProgress(value=0, max=15), HTML(value='')))"
      ]
     },
     "metadata": {},
     "output_type": "display_data"
    },
    {
     "name": "stdout",
     "output_type": "stream",
     "text": [
      "\n"
     ]
    }
   ],
   "source": [
    "als_model.fit(train_data.T)"
   ]
  },
  {
   "cell_type": "code",
   "execution_count": 31,
   "metadata": {},
   "outputs": [],
   "source": [
    "als_factors = pd.DataFrame.from_records(als_model.user_factors)\n",
    "als_factors['uid'] = validation_data.uid.unique()\n",
    "als_factors.to_csv(os.path.join(PARSE_DATA_DIR, 'als_factors.csv'), index=False)"
   ]
  },
  {
   "cell_type": "code",
   "execution_count": 44,
   "metadata": {},
   "outputs": [
    {
     "data": {
      "text/html": [
       "<div>\n",
       "<style scoped>\n",
       "    .dataframe tbody tr th:only-of-type {\n",
       "        vertical-align: middle;\n",
       "    }\n",
       "\n",
       "    .dataframe tbody tr th {\n",
       "        vertical-align: top;\n",
       "    }\n",
       "\n",
       "    .dataframe thead th {\n",
       "        text-align: right;\n",
       "    }\n",
       "</style>\n",
       "<table border=\"1\" class=\"dataframe\">\n",
       "  <thead>\n",
       "    <tr style=\"text-align: right;\">\n",
       "      <th></th>\n",
       "      <th>0</th>\n",
       "      <th>1</th>\n",
       "      <th>2</th>\n",
       "      <th>3</th>\n",
       "      <th>4</th>\n",
       "      <th>5</th>\n",
       "      <th>6</th>\n",
       "      <th>7</th>\n",
       "      <th>8</th>\n",
       "      <th>9</th>\n",
       "      <th>...</th>\n",
       "      <th>191</th>\n",
       "      <th>192</th>\n",
       "      <th>193</th>\n",
       "      <th>194</th>\n",
       "      <th>195</th>\n",
       "      <th>196</th>\n",
       "      <th>197</th>\n",
       "      <th>198</th>\n",
       "      <th>199</th>\n",
       "      <th>uid</th>\n",
       "    </tr>\n",
       "  </thead>\n",
       "  <tbody>\n",
       "    <tr>\n",
       "      <th>0</th>\n",
       "      <td>-0.058967</td>\n",
       "      <td>0.229568</td>\n",
       "      <td>-0.707001</td>\n",
       "      <td>0.540223</td>\n",
       "      <td>-0.110984</td>\n",
       "      <td>0.219160</td>\n",
       "      <td>0.191912</td>\n",
       "      <td>0.397641</td>\n",
       "      <td>0.412974</td>\n",
       "      <td>0.055434</td>\n",
       "      <td>...</td>\n",
       "      <td>-0.166100</td>\n",
       "      <td>0.179952</td>\n",
       "      <td>0.182467</td>\n",
       "      <td>0.175274</td>\n",
       "      <td>-0.002350</td>\n",
       "      <td>0.520412</td>\n",
       "      <td>0.183931</td>\n",
       "      <td>-0.089415</td>\n",
       "      <td>0.294081</td>\n",
       "      <td>0</td>\n",
       "    </tr>\n",
       "    <tr>\n",
       "      <th>1</th>\n",
       "      <td>0.053650</td>\n",
       "      <td>0.003824</td>\n",
       "      <td>-0.151874</td>\n",
       "      <td>0.223005</td>\n",
       "      <td>-0.076169</td>\n",
       "      <td>0.024204</td>\n",
       "      <td>-0.226282</td>\n",
       "      <td>-0.275735</td>\n",
       "      <td>-0.287022</td>\n",
       "      <td>0.155725</td>\n",
       "      <td>...</td>\n",
       "      <td>0.015414</td>\n",
       "      <td>0.253139</td>\n",
       "      <td>0.023921</td>\n",
       "      <td>-0.157192</td>\n",
       "      <td>0.178530</td>\n",
       "      <td>0.095084</td>\n",
       "      <td>-0.079894</td>\n",
       "      <td>-0.121272</td>\n",
       "      <td>-0.002467</td>\n",
       "      <td>1</td>\n",
       "    </tr>\n",
       "    <tr>\n",
       "      <th>2</th>\n",
       "      <td>-0.202143</td>\n",
       "      <td>-0.226526</td>\n",
       "      <td>-0.648742</td>\n",
       "      <td>0.234206</td>\n",
       "      <td>0.170624</td>\n",
       "      <td>0.496507</td>\n",
       "      <td>-0.282112</td>\n",
       "      <td>0.455193</td>\n",
       "      <td>-0.109085</td>\n",
       "      <td>0.303810</td>\n",
       "      <td>...</td>\n",
       "      <td>-0.321206</td>\n",
       "      <td>0.287338</td>\n",
       "      <td>-0.166969</td>\n",
       "      <td>0.110853</td>\n",
       "      <td>0.312051</td>\n",
       "      <td>0.262411</td>\n",
       "      <td>0.061551</td>\n",
       "      <td>0.050908</td>\n",
       "      <td>-0.211964</td>\n",
       "      <td>2</td>\n",
       "    </tr>\n",
       "    <tr>\n",
       "      <th>3</th>\n",
       "      <td>-0.155596</td>\n",
       "      <td>0.016257</td>\n",
       "      <td>0.255050</td>\n",
       "      <td>0.119575</td>\n",
       "      <td>-0.315419</td>\n",
       "      <td>-0.087295</td>\n",
       "      <td>-0.286379</td>\n",
       "      <td>-0.054195</td>\n",
       "      <td>-0.147150</td>\n",
       "      <td>0.054961</td>\n",
       "      <td>...</td>\n",
       "      <td>-0.055110</td>\n",
       "      <td>-0.010709</td>\n",
       "      <td>0.287566</td>\n",
       "      <td>0.097178</td>\n",
       "      <td>0.251507</td>\n",
       "      <td>-0.101567</td>\n",
       "      <td>0.070255</td>\n",
       "      <td>0.004031</td>\n",
       "      <td>-0.131053</td>\n",
       "      <td>3</td>\n",
       "    </tr>\n",
       "    <tr>\n",
       "      <th>4</th>\n",
       "      <td>-0.017234</td>\n",
       "      <td>0.420561</td>\n",
       "      <td>-0.288330</td>\n",
       "      <td>0.445641</td>\n",
       "      <td>-0.164420</td>\n",
       "      <td>0.055104</td>\n",
       "      <td>-0.175972</td>\n",
       "      <td>-0.130913</td>\n",
       "      <td>-0.084127</td>\n",
       "      <td>0.221143</td>\n",
       "      <td>...</td>\n",
       "      <td>0.161235</td>\n",
       "      <td>0.038432</td>\n",
       "      <td>0.312712</td>\n",
       "      <td>-0.041273</td>\n",
       "      <td>0.328645</td>\n",
       "      <td>0.034584</td>\n",
       "      <td>0.055259</td>\n",
       "      <td>-0.273009</td>\n",
       "      <td>-0.147063</td>\n",
       "      <td>4</td>\n",
       "    </tr>\n",
       "  </tbody>\n",
       "</table>\n",
       "<p>5 rows × 201 columns</p>\n",
       "</div>"
      ],
      "text/plain": [
       "          0         1         2         3         4         5         6  \\\n",
       "0 -0.058967  0.229568 -0.707001  0.540223 -0.110984  0.219160  0.191912   \n",
       "1  0.053650  0.003824 -0.151874  0.223005 -0.076169  0.024204 -0.226282   \n",
       "2 -0.202143 -0.226526 -0.648742  0.234206  0.170624  0.496507 -0.282112   \n",
       "3 -0.155596  0.016257  0.255050  0.119575 -0.315419 -0.087295 -0.286379   \n",
       "4 -0.017234  0.420561 -0.288330  0.445641 -0.164420  0.055104 -0.175972   \n",
       "\n",
       "          7         8         9  ...       191       192       193       194  \\\n",
       "0  0.397641  0.412974  0.055434  ... -0.166100  0.179952  0.182467  0.175274   \n",
       "1 -0.275735 -0.287022  0.155725  ...  0.015414  0.253139  0.023921 -0.157192   \n",
       "2  0.455193 -0.109085  0.303810  ... -0.321206  0.287338 -0.166969  0.110853   \n",
       "3 -0.054195 -0.147150  0.054961  ... -0.055110 -0.010709  0.287566  0.097178   \n",
       "4 -0.130913 -0.084127  0.221143  ...  0.161235  0.038432  0.312712 -0.041273   \n",
       "\n",
       "        195       196       197       198       199  uid  \n",
       "0 -0.002350  0.520412  0.183931 -0.089415  0.294081    0  \n",
       "1  0.178530  0.095084 -0.079894 -0.121272 -0.002467    1  \n",
       "2  0.312051  0.262411  0.061551  0.050908 -0.211964    2  \n",
       "3  0.251507 -0.101567  0.070255  0.004031 -0.131053    3  \n",
       "4  0.328645  0.034584  0.055259 -0.273009 -0.147063    4  \n",
       "\n",
       "[5 rows x 201 columns]"
      ]
     },
     "execution_count": 44,
     "metadata": {},
     "output_type": "execute_result"
    }
   ],
   "source": [
    "als_factors.head()"
   ]
  },
  {
   "cell_type": "code",
   "execution_count": 35,
   "metadata": {},
   "outputs": [],
   "source": [
    "with open(os.path.join(PARSE_DATA_DIR, 'map_user.json')) as f:\n",
    "    map_user = json.load(f)\n",
    "    map_user_dict = {'original_id': list(map_user.keys()), 'mapped_id':list(map_user.values()) }\n",
    "    map_user_df = pd.DataFrame(map_user_dict)"
   ]
  },
  {
   "cell_type": "code",
   "execution_count": 36,
   "metadata": {},
   "outputs": [
    {
     "data": {
      "text/html": [
       "<div>\n",
       "<style scoped>\n",
       "    .dataframe tbody tr th:only-of-type {\n",
       "        vertical-align: middle;\n",
       "    }\n",
       "\n",
       "    .dataframe tbody tr th {\n",
       "        vertical-align: top;\n",
       "    }\n",
       "\n",
       "    .dataframe thead th {\n",
       "        text-align: right;\n",
       "    }\n",
       "</style>\n",
       "<table border=\"1\" class=\"dataframe\">\n",
       "  <thead>\n",
       "    <tr style=\"text-align: right;\">\n",
       "      <th></th>\n",
       "      <th>original_id</th>\n",
       "      <th>mapped_id</th>\n",
       "    </tr>\n",
       "  </thead>\n",
       "  <tbody>\n",
       "    <tr>\n",
       "      <th>0</th>\n",
       "      <td>1</td>\n",
       "      <td>0</td>\n",
       "    </tr>\n",
       "    <tr>\n",
       "      <th>1</th>\n",
       "      <td>2</td>\n",
       "      <td>1</td>\n",
       "    </tr>\n",
       "    <tr>\n",
       "      <th>2</th>\n",
       "      <td>3</td>\n",
       "      <td>2</td>\n",
       "    </tr>\n",
       "    <tr>\n",
       "      <th>3</th>\n",
       "      <td>4</td>\n",
       "      <td>3</td>\n",
       "    </tr>\n",
       "    <tr>\n",
       "      <th>4</th>\n",
       "      <td>5</td>\n",
       "      <td>4</td>\n",
       "    </tr>\n",
       "  </tbody>\n",
       "</table>\n",
       "</div>"
      ],
      "text/plain": [
       "  original_id  mapped_id\n",
       "0           1          0\n",
       "1           2          1\n",
       "2           3          2\n",
       "3           4          3\n",
       "4           5          4"
      ]
     },
     "execution_count": 36,
     "metadata": {},
     "output_type": "execute_result"
    }
   ],
   "source": [
    "map_user_df.head()"
   ]
  },
  {
   "cell_type": "code",
   "execution_count": 47,
   "metadata": {
    "scrolled": true
   },
   "outputs": [],
   "source": [
    "results_metadataset = pd.merge(left=map_user_df, right=als_factors, left_on='mapped_id', right_on='uid')\n",
    "results_metadataset = results_metadataset.drop('mapped_id', 1)"
   ]
  },
  {
   "cell_type": "code",
   "execution_count": 52,
   "metadata": {},
   "outputs": [],
   "source": [
    "ALS_DIR = os.path.join(PARSE_DATA_DIR, 'embeddings/als')\n",
    "results_metadataset.to_csv(os.path.join(ALS_DIR, 'metadataset.csv'), index=False)"
   ]
  },
  {
   "cell_type": "code",
   "execution_count": 305,
   "metadata": {
    "collapsed": true
   },
   "outputs": [
    {
     "data": {
      "application/vnd.jupyter.widget-view+json": {
       "model_id": "64401611c25f455d8abc208ac1c1f42a",
       "version_major": 2,
       "version_minor": 0
      },
      "text/plain": [
       "HBox(children=(IntProgress(value=0, max=129757), HTML(value='')))"
      ]
     },
     "metadata": {},
     "output_type": "display_data"
    },
    {
     "name": "stdout",
     "output_type": "stream",
     "text": [
      "\n"
     ]
    }
   ],
   "source": [
    "als_pred = als_model.recommend_all(user_items=train_data, N=ALS_TOP_N)"
   ]
  },
  {
   "cell_type": "code",
   "execution_count": 306,
   "metadata": {},
   "outputs": [
    {
     "data": {
      "application/vnd.jupyter.widget-view+json": {
       "model_id": "5c552d0ad44f41fcad4a5529d2c346eb",
       "version_major": 2,
       "version_minor": 0
      },
      "text/plain": [
       "HBox(children=(IntProgress(value=1, bar_style='info', max=1), HTML(value='')))"
      ]
     },
     "metadata": {},
     "output_type": "display_data"
    },
    {
     "name": "stdout",
     "output_type": "stream",
     "text": [
      "---  als_ndcg  STATS ---\n",
      "mean:  0.2054566410258193\n",
      "max:  1.0\n",
      "min:  0.0\n"
     ]
    }
   ],
   "source": [
    "als_results_test = get_score(validation_data,als_pred,ALS_TOP_N, 'als')"
   ]
  },
  {
   "cell_type": "code",
   "execution_count": 240,
   "metadata": {},
   "outputs": [
    {
     "data": {
      "application/vnd.jupyter.widget-view+json": {
       "model_id": "41cf11cd762542b09a925bdf7571a2a7",
       "version_major": 2,
       "version_minor": 0
      },
      "text/plain": [
       "HBox(children=(IntProgress(value=1, bar_style='info', max=1), HTML(value='')))"
      ]
     },
     "metadata": {},
     "output_type": "display_data"
    },
    {
     "name": "stdout",
     "output_type": "stream",
     "text": [
      "---  als_ndcg  STATS ---\n",
      "mean:  0.18506398346742625\n",
      "max:  1.0\n",
      "min:  0.0\n"
     ]
    }
   ],
   "source": [
    "als_results_test = get_score(test_data,als_pred,ALS_TOP_N, 'als')"
   ]
  },
  {
   "cell_type": "markdown",
   "metadata": {},
   "source": [
    "## Comparison\n",
    "\n",
    "| Algorithm | Parameters | NDCG TEST mean |\n",
    "| --- | --- | --- |\n",
    "| ALS | TOP_N = 20 Factors = 100 | 0.17689 |\n"
   ]
  },
  {
   "cell_type": "markdown",
   "metadata": {},
   "source": [
    "### Bayesian Personalized Ranking"
   ]
  },
  {
   "cell_type": "code",
   "execution_count": 322,
   "metadata": {},
   "outputs": [],
   "source": [
    "BPR_TOP_N = 20\n",
    "BPR_Factors = 50"
   ]
  },
  {
   "cell_type": "code",
   "execution_count": 323,
   "metadata": {},
   "outputs": [],
   "source": [
    "model_bpr = implicit.bpr.BayesianPersonalizedRanking(factors=BPR_Factors)"
   ]
  },
  {
   "cell_type": "code",
   "execution_count": 324,
   "metadata": {},
   "outputs": [
    {
     "data": {
      "application/vnd.jupyter.widget-view+json": {
       "model_id": "0aed584036b04618a62f94177868199f",
       "version_major": 2,
       "version_minor": 0
      },
      "text/plain": [
       "HBox(children=(IntProgress(value=0), HTML(value='')))"
      ]
     },
     "metadata": {},
     "output_type": "display_data"
    },
    {
     "name": "stdout",
     "output_type": "stream",
     "text": [
      "\n"
     ]
    }
   ],
   "source": [
    "model_bpr.fit(train_data.T)"
   ]
  },
  {
   "cell_type": "code",
   "execution_count": 325,
   "metadata": {},
   "outputs": [
    {
     "data": {
      "application/vnd.jupyter.widget-view+json": {
       "model_id": "2d477f74b2aa48ae9d45c1a9f605f4cd",
       "version_major": 2,
       "version_minor": 0
      },
      "text/plain": [
       "HBox(children=(IntProgress(value=0, max=129757), HTML(value='')))"
      ]
     },
     "metadata": {},
     "output_type": "display_data"
    },
    {
     "name": "stdout",
     "output_type": "stream",
     "text": [
      "\n"
     ]
    }
   ],
   "source": [
    "pred_bpr = model_bpr.recommend_all(user_items=train_data, N=BPR_TOP_N)"
   ]
  },
  {
   "cell_type": "code",
   "execution_count": 326,
   "metadata": {
    "collapsed": true
   },
   "outputs": [
    {
     "data": {
      "application/vnd.jupyter.widget-view+json": {
       "model_id": "105b406839d64844ba035b9c784fdb62",
       "version_major": 2,
       "version_minor": 0
      },
      "text/plain": [
       "HBox(children=(IntProgress(value=1, bar_style='info', max=1), HTML(value='')))"
      ]
     },
     "metadata": {},
     "output_type": "display_data"
    },
    {
     "name": "stdout",
     "output_type": "stream",
     "text": [
      "---  bpr_ndcg  STATS ---\n",
      "mean:  0.16877694415016598\n",
      "max:  1.0\n",
      "min:  0.0\n"
     ]
    },
    {
     "data": {
      "text/html": [
       "<div>\n",
       "<style scoped>\n",
       "    .dataframe tbody tr th:only-of-type {\n",
       "        vertical-align: middle;\n",
       "    }\n",
       "\n",
       "    .dataframe tbody tr th {\n",
       "        vertical-align: top;\n",
       "    }\n",
       "\n",
       "    .dataframe thead th {\n",
       "        text-align: right;\n",
       "    }\n",
       "</style>\n",
       "<table border=\"1\" class=\"dataframe\">\n",
       "  <thead>\n",
       "    <tr style=\"text-align: right;\">\n",
       "      <th></th>\n",
       "      <th>uid</th>\n",
       "      <th>bpr_ndcg</th>\n",
       "    </tr>\n",
       "  </thead>\n",
       "  <tbody>\n",
       "    <tr>\n",
       "      <th>0</th>\n",
       "      <td>0.0</td>\n",
       "      <td>1.000000</td>\n",
       "    </tr>\n",
       "    <tr>\n",
       "      <th>1</th>\n",
       "      <td>1.0</td>\n",
       "      <td>0.000000</td>\n",
       "    </tr>\n",
       "    <tr>\n",
       "      <th>2</th>\n",
       "      <td>2.0</td>\n",
       "      <td>0.270238</td>\n",
       "    </tr>\n",
       "    <tr>\n",
       "      <th>3</th>\n",
       "      <td>3.0</td>\n",
       "      <td>0.000000</td>\n",
       "    </tr>\n",
       "    <tr>\n",
       "      <th>4</th>\n",
       "      <td>4.0</td>\n",
       "      <td>0.306138</td>\n",
       "    </tr>\n",
       "    <tr>\n",
       "      <th>5</th>\n",
       "      <td>5.0</td>\n",
       "      <td>0.244651</td>\n",
       "    </tr>\n",
       "    <tr>\n",
       "      <th>6</th>\n",
       "      <td>6.0</td>\n",
       "      <td>0.000000</td>\n",
       "    </tr>\n",
       "    <tr>\n",
       "      <th>7</th>\n",
       "      <td>7.0</td>\n",
       "      <td>0.250000</td>\n",
       "    </tr>\n",
       "    <tr>\n",
       "      <th>8</th>\n",
       "      <td>8.0</td>\n",
       "      <td>0.000000</td>\n",
       "    </tr>\n",
       "    <tr>\n",
       "      <th>9</th>\n",
       "      <td>9.0</td>\n",
       "      <td>0.000000</td>\n",
       "    </tr>\n",
       "    <tr>\n",
       "      <th>10</th>\n",
       "      <td>10.0</td>\n",
       "      <td>0.000000</td>\n",
       "    </tr>\n",
       "    <tr>\n",
       "      <th>11</th>\n",
       "      <td>11.0</td>\n",
       "      <td>0.000000</td>\n",
       "    </tr>\n",
       "    <tr>\n",
       "      <th>12</th>\n",
       "      <td>12.0</td>\n",
       "      <td>0.255958</td>\n",
       "    </tr>\n",
       "    <tr>\n",
       "      <th>13</th>\n",
       "      <td>13.0</td>\n",
       "      <td>0.599782</td>\n",
       "    </tr>\n",
       "    <tr>\n",
       "      <th>14</th>\n",
       "      <td>14.0</td>\n",
       "      <td>0.000000</td>\n",
       "    </tr>\n",
       "    <tr>\n",
       "      <th>15</th>\n",
       "      <td>15.0</td>\n",
       "      <td>0.000000</td>\n",
       "    </tr>\n",
       "    <tr>\n",
       "      <th>16</th>\n",
       "      <td>16.0</td>\n",
       "      <td>0.343941</td>\n",
       "    </tr>\n",
       "    <tr>\n",
       "      <th>17</th>\n",
       "      <td>17.0</td>\n",
       "      <td>0.000000</td>\n",
       "    </tr>\n",
       "    <tr>\n",
       "      <th>18</th>\n",
       "      <td>18.0</td>\n",
       "      <td>0.278943</td>\n",
       "    </tr>\n",
       "    <tr>\n",
       "      <th>19</th>\n",
       "      <td>19.0</td>\n",
       "      <td>0.000000</td>\n",
       "    </tr>\n",
       "    <tr>\n",
       "      <th>20</th>\n",
       "      <td>20.0</td>\n",
       "      <td>0.000000</td>\n",
       "    </tr>\n",
       "    <tr>\n",
       "      <th>21</th>\n",
       "      <td>21.0</td>\n",
       "      <td>0.000000</td>\n",
       "    </tr>\n",
       "    <tr>\n",
       "      <th>22</th>\n",
       "      <td>22.0</td>\n",
       "      <td>1.000000</td>\n",
       "    </tr>\n",
       "    <tr>\n",
       "      <th>23</th>\n",
       "      <td>23.0</td>\n",
       "      <td>0.270238</td>\n",
       "    </tr>\n",
       "    <tr>\n",
       "      <th>24</th>\n",
       "      <td>24.0</td>\n",
       "      <td>0.815465</td>\n",
       "    </tr>\n",
       "    <tr>\n",
       "      <th>25</th>\n",
       "      <td>25.0</td>\n",
       "      <td>0.000000</td>\n",
       "    </tr>\n",
       "    <tr>\n",
       "      <th>26</th>\n",
       "      <td>26.0</td>\n",
       "      <td>0.000000</td>\n",
       "    </tr>\n",
       "    <tr>\n",
       "      <th>27</th>\n",
       "      <td>27.0</td>\n",
       "      <td>0.000000</td>\n",
       "    </tr>\n",
       "    <tr>\n",
       "      <th>28</th>\n",
       "      <td>28.0</td>\n",
       "      <td>0.000000</td>\n",
       "    </tr>\n",
       "    <tr>\n",
       "      <th>29</th>\n",
       "      <td>29.0</td>\n",
       "      <td>0.000000</td>\n",
       "    </tr>\n",
       "    <tr>\n",
       "      <th>...</th>\n",
       "      <td>...</td>\n",
       "      <td>...</td>\n",
       "    </tr>\n",
       "    <tr>\n",
       "      <th>129727</th>\n",
       "      <td>129727.0</td>\n",
       "      <td>0.430677</td>\n",
       "    </tr>\n",
       "    <tr>\n",
       "      <th>129728</th>\n",
       "      <td>129728.0</td>\n",
       "      <td>0.278943</td>\n",
       "    </tr>\n",
       "    <tr>\n",
       "      <th>129729</th>\n",
       "      <td>129729.0</td>\n",
       "      <td>0.500000</td>\n",
       "    </tr>\n",
       "    <tr>\n",
       "      <th>129730</th>\n",
       "      <td>129730.0</td>\n",
       "      <td>0.630930</td>\n",
       "    </tr>\n",
       "    <tr>\n",
       "      <th>129731</th>\n",
       "      <td>129731.0</td>\n",
       "      <td>0.000000</td>\n",
       "    </tr>\n",
       "    <tr>\n",
       "      <th>129732</th>\n",
       "      <td>129732.0</td>\n",
       "      <td>0.317182</td>\n",
       "    </tr>\n",
       "    <tr>\n",
       "      <th>129733</th>\n",
       "      <td>129733.0</td>\n",
       "      <td>0.289065</td>\n",
       "    </tr>\n",
       "    <tr>\n",
       "      <th>129734</th>\n",
       "      <td>129734.0</td>\n",
       "      <td>0.630930</td>\n",
       "    </tr>\n",
       "    <tr>\n",
       "      <th>129735</th>\n",
       "      <td>129735.0</td>\n",
       "      <td>0.000000</td>\n",
       "    </tr>\n",
       "    <tr>\n",
       "      <th>129736</th>\n",
       "      <td>129736.0</td>\n",
       "      <td>0.000000</td>\n",
       "    </tr>\n",
       "    <tr>\n",
       "      <th>129737</th>\n",
       "      <td>129737.0</td>\n",
       "      <td>0.000000</td>\n",
       "    </tr>\n",
       "    <tr>\n",
       "      <th>129738</th>\n",
       "      <td>129738.0</td>\n",
       "      <td>0.000000</td>\n",
       "    </tr>\n",
       "    <tr>\n",
       "      <th>129739</th>\n",
       "      <td>129739.0</td>\n",
       "      <td>0.508891</td>\n",
       "    </tr>\n",
       "    <tr>\n",
       "      <th>129740</th>\n",
       "      <td>129740.0</td>\n",
       "      <td>0.000000</td>\n",
       "    </tr>\n",
       "    <tr>\n",
       "      <th>129741</th>\n",
       "      <td>129741.0</td>\n",
       "      <td>0.000000</td>\n",
       "    </tr>\n",
       "    <tr>\n",
       "      <th>129742</th>\n",
       "      <td>129742.0</td>\n",
       "      <td>0.000000</td>\n",
       "    </tr>\n",
       "    <tr>\n",
       "      <th>129743</th>\n",
       "      <td>129743.0</td>\n",
       "      <td>0.000000</td>\n",
       "    </tr>\n",
       "    <tr>\n",
       "      <th>129744</th>\n",
       "      <td>129744.0</td>\n",
       "      <td>0.000000</td>\n",
       "    </tr>\n",
       "    <tr>\n",
       "      <th>129745</th>\n",
       "      <td>129745.0</td>\n",
       "      <td>0.630930</td>\n",
       "    </tr>\n",
       "    <tr>\n",
       "      <th>129746</th>\n",
       "      <td>129746.0</td>\n",
       "      <td>0.000000</td>\n",
       "    </tr>\n",
       "    <tr>\n",
       "      <th>129747</th>\n",
       "      <td>129747.0</td>\n",
       "      <td>0.000000</td>\n",
       "    </tr>\n",
       "    <tr>\n",
       "      <th>129748</th>\n",
       "      <td>129748.0</td>\n",
       "      <td>0.333333</td>\n",
       "    </tr>\n",
       "    <tr>\n",
       "      <th>129749</th>\n",
       "      <td>129749.0</td>\n",
       "      <td>0.000000</td>\n",
       "    </tr>\n",
       "    <tr>\n",
       "      <th>129750</th>\n",
       "      <td>129750.0</td>\n",
       "      <td>0.000000</td>\n",
       "    </tr>\n",
       "    <tr>\n",
       "      <th>129751</th>\n",
       "      <td>129751.0</td>\n",
       "      <td>0.000000</td>\n",
       "    </tr>\n",
       "    <tr>\n",
       "      <th>129752</th>\n",
       "      <td>129752.0</td>\n",
       "      <td>0.000000</td>\n",
       "    </tr>\n",
       "    <tr>\n",
       "      <th>129753</th>\n",
       "      <td>129753.0</td>\n",
       "      <td>0.000000</td>\n",
       "    </tr>\n",
       "    <tr>\n",
       "      <th>129754</th>\n",
       "      <td>129754.0</td>\n",
       "      <td>1.000000</td>\n",
       "    </tr>\n",
       "    <tr>\n",
       "      <th>129755</th>\n",
       "      <td>129755.0</td>\n",
       "      <td>0.000000</td>\n",
       "    </tr>\n",
       "    <tr>\n",
       "      <th>129756</th>\n",
       "      <td>129756.0</td>\n",
       "      <td>0.000000</td>\n",
       "    </tr>\n",
       "  </tbody>\n",
       "</table>\n",
       "<p>129757 rows × 2 columns</p>\n",
       "</div>"
      ],
      "text/plain": [
       "             uid  bpr_ndcg\n",
       "0            0.0  1.000000\n",
       "1            1.0  0.000000\n",
       "2            2.0  0.270238\n",
       "3            3.0  0.000000\n",
       "4            4.0  0.306138\n",
       "5            5.0  0.244651\n",
       "6            6.0  0.000000\n",
       "7            7.0  0.250000\n",
       "8            8.0  0.000000\n",
       "9            9.0  0.000000\n",
       "10          10.0  0.000000\n",
       "11          11.0  0.000000\n",
       "12          12.0  0.255958\n",
       "13          13.0  0.599782\n",
       "14          14.0  0.000000\n",
       "15          15.0  0.000000\n",
       "16          16.0  0.343941\n",
       "17          17.0  0.000000\n",
       "18          18.0  0.278943\n",
       "19          19.0  0.000000\n",
       "20          20.0  0.000000\n",
       "21          21.0  0.000000\n",
       "22          22.0  1.000000\n",
       "23          23.0  0.270238\n",
       "24          24.0  0.815465\n",
       "25          25.0  0.000000\n",
       "26          26.0  0.000000\n",
       "27          27.0  0.000000\n",
       "28          28.0  0.000000\n",
       "29          29.0  0.000000\n",
       "...          ...       ...\n",
       "129727  129727.0  0.430677\n",
       "129728  129728.0  0.278943\n",
       "129729  129729.0  0.500000\n",
       "129730  129730.0  0.630930\n",
       "129731  129731.0  0.000000\n",
       "129732  129732.0  0.317182\n",
       "129733  129733.0  0.289065\n",
       "129734  129734.0  0.630930\n",
       "129735  129735.0  0.000000\n",
       "129736  129736.0  0.000000\n",
       "129737  129737.0  0.000000\n",
       "129738  129738.0  0.000000\n",
       "129739  129739.0  0.508891\n",
       "129740  129740.0  0.000000\n",
       "129741  129741.0  0.000000\n",
       "129742  129742.0  0.000000\n",
       "129743  129743.0  0.000000\n",
       "129744  129744.0  0.000000\n",
       "129745  129745.0  0.630930\n",
       "129746  129746.0  0.000000\n",
       "129747  129747.0  0.000000\n",
       "129748  129748.0  0.333333\n",
       "129749  129749.0  0.000000\n",
       "129750  129750.0  0.000000\n",
       "129751  129751.0  0.000000\n",
       "129752  129752.0  0.000000\n",
       "129753  129753.0  0.000000\n",
       "129754  129754.0  1.000000\n",
       "129755  129755.0  0.000000\n",
       "129756  129756.0  0.000000\n",
       "\n",
       "[129757 rows x 2 columns]"
      ]
     },
     "execution_count": 326,
     "metadata": {},
     "output_type": "execute_result"
    }
   ],
   "source": [
    "get_score(validation_data, pred_bpr, BPR_TOP_N, 'bpr')"
   ]
  },
  {
   "cell_type": "code",
   "execution_count": 245,
   "metadata": {},
   "outputs": [
    {
     "data": {
      "application/vnd.jupyter.widget-view+json": {
       "model_id": "fe30d68da4b24829851df47987d79a3a",
       "version_major": 2,
       "version_minor": 0
      },
      "text/plain": [
       "HBox(children=(IntProgress(value=1, bar_style='info', max=1), HTML(value='')))"
      ]
     },
     "metadata": {},
     "output_type": "display_data"
    },
    {
     "name": "stdout",
     "output_type": "stream",
     "text": [
      "---  bpr_ndcg  STATS ---\n",
      "mean:  0.14272910280252418\n",
      "max:  1.0\n",
      "min:  0.0\n"
     ]
    }
   ],
   "source": [
    "results_test_bpr = get_score(test_data, pred_bpr, BPR_TOP_N, 'bpr')"
   ]
  },
  {
   "cell_type": "code",
   "execution_count": 246,
   "metadata": {},
   "outputs": [],
   "source": [
    "total_results =  pd.merge(als_results_test, results_test_bpr, on='uid')"
   ]
  },
  {
   "cell_type": "code",
   "execution_count": 247,
   "metadata": {},
   "outputs": [
    {
     "data": {
      "text/html": [
       "<div>\n",
       "<style scoped>\n",
       "    .dataframe tbody tr th:only-of-type {\n",
       "        vertical-align: middle;\n",
       "    }\n",
       "\n",
       "    .dataframe tbody tr th {\n",
       "        vertical-align: top;\n",
       "    }\n",
       "\n",
       "    .dataframe thead th {\n",
       "        text-align: right;\n",
       "    }\n",
       "</style>\n",
       "<table border=\"1\" class=\"dataframe\">\n",
       "  <thead>\n",
       "    <tr style=\"text-align: right;\">\n",
       "      <th></th>\n",
       "      <th>uid</th>\n",
       "      <th>als_ndcg</th>\n",
       "      <th>bpr_ndcg</th>\n",
       "    </tr>\n",
       "  </thead>\n",
       "  <tbody>\n",
       "    <tr>\n",
       "      <th>0</th>\n",
       "      <td>0.0</td>\n",
       "      <td>0.00000</td>\n",
       "      <td>0.0</td>\n",
       "    </tr>\n",
       "    <tr>\n",
       "      <th>1</th>\n",
       "      <td>1.0</td>\n",
       "      <td>0.63093</td>\n",
       "      <td>0.0</td>\n",
       "    </tr>\n",
       "    <tr>\n",
       "      <th>2</th>\n",
       "      <td>2.0</td>\n",
       "      <td>0.00000</td>\n",
       "      <td>0.0</td>\n",
       "    </tr>\n",
       "    <tr>\n",
       "      <th>3</th>\n",
       "      <td>3.0</td>\n",
       "      <td>0.00000</td>\n",
       "      <td>0.0</td>\n",
       "    </tr>\n",
       "    <tr>\n",
       "      <th>4</th>\n",
       "      <td>4.0</td>\n",
       "      <td>0.30103</td>\n",
       "      <td>0.0</td>\n",
       "    </tr>\n",
       "  </tbody>\n",
       "</table>\n",
       "</div>"
      ],
      "text/plain": [
       "   uid  als_ndcg  bpr_ndcg\n",
       "0  0.0   0.00000       0.0\n",
       "1  1.0   0.63093       0.0\n",
       "2  2.0   0.00000       0.0\n",
       "3  3.0   0.00000       0.0\n",
       "4  4.0   0.30103       0.0"
      ]
     },
     "execution_count": 247,
     "metadata": {},
     "output_type": "execute_result"
    }
   ],
   "source": [
    "total_results.head()"
   ]
  },
  {
   "cell_type": "markdown",
   "metadata": {},
   "source": [
    "### Logistic Matrix Factorization"
   ]
  },
  {
   "cell_type": "code",
   "execution_count": 347,
   "metadata": {},
   "outputs": [],
   "source": [
    "LMF_TOP_N = 20\n",
    "LMF_FACTORS = 75\n",
    "#we are going to use the standard factors"
   ]
  },
  {
   "cell_type": "code",
   "execution_count": 348,
   "metadata": {},
   "outputs": [],
   "source": [
    "model_LMF = implicit.lmf.LogisticMatrixFactorization(factors=LMF_FACTORS)"
   ]
  },
  {
   "cell_type": "code",
   "execution_count": 349,
   "metadata": {},
   "outputs": [
    {
     "data": {
      "application/vnd.jupyter.widget-view+json": {
       "model_id": "7a1df7c1d7d54a938f72902ba9fd11e0",
       "version_major": 2,
       "version_minor": 0
      },
      "text/plain": [
       "HBox(children=(IntProgress(value=0, max=30), HTML(value='')))"
      ]
     },
     "metadata": {},
     "output_type": "display_data"
    },
    {
     "name": "stdout",
     "output_type": "stream",
     "text": [
      "\n"
     ]
    }
   ],
   "source": [
    "model_LMF.fit(train_data.T)"
   ]
  },
  {
   "cell_type": "code",
   "execution_count": 350,
   "metadata": {},
   "outputs": [
    {
     "data": {
      "application/vnd.jupyter.widget-view+json": {
       "model_id": "c3e270ba36974a9fb77ccf269edf1de8",
       "version_major": 2,
       "version_minor": 0
      },
      "text/plain": [
       "HBox(children=(IntProgress(value=0, max=129757), HTML(value='')))"
      ]
     },
     "metadata": {},
     "output_type": "display_data"
    },
    {
     "name": "stdout",
     "output_type": "stream",
     "text": [
      "\n"
     ]
    }
   ],
   "source": [
    "pred_LMF = model_LMF.recommend_all(user_items=train_data, N=LMF_TOP_N)"
   ]
  },
  {
   "cell_type": "code",
   "execution_count": 351,
   "metadata": {},
   "outputs": [
    {
     "data": {
      "application/vnd.jupyter.widget-view+json": {
       "model_id": "e59a4108f7b64515b020218c0d1c1ca2",
       "version_major": 2,
       "version_minor": 0
      },
      "text/plain": [
       "HBox(children=(IntProgress(value=1, bar_style='info', max=1), HTML(value='')))"
      ]
     },
     "metadata": {},
     "output_type": "display_data"
    },
    {
     "name": "stdout",
     "output_type": "stream",
     "text": [
      "---  lmf_ndcg  STATS ---\n",
      "mean:  0.11152139707779593\n",
      "max:  1.0\n",
      "min:  0.0\n"
     ]
    }
   ],
   "source": [
    "results_val_lmf = get_score(validation_data, pred_LMF, LMF_TOP_N, 'lmf')"
   ]
  },
  {
   "cell_type": "code",
   "execution_count": 252,
   "metadata": {},
   "outputs": [
    {
     "data": {
      "application/vnd.jupyter.widget-view+json": {
       "model_id": "d25016ffed3e419388405a652bb768ab",
       "version_major": 2,
       "version_minor": 0
      },
      "text/plain": [
       "HBox(children=(IntProgress(value=1, bar_style='info', max=1), HTML(value='')))"
      ]
     },
     "metadata": {},
     "output_type": "display_data"
    },
    {
     "name": "stdout",
     "output_type": "stream",
     "text": [
      "---  lmf_ndcg  STATS ---\n",
      "mean:  0.11216736487728235\n",
      "max:  1.0\n",
      "min:  0.0\n"
     ]
    }
   ],
   "source": [
    "results_test_lmf = get_score(test_data, pred_LMF, LMF_TOP_N, 'lmf')"
   ]
  },
  {
   "cell_type": "code",
   "execution_count": 253,
   "metadata": {},
   "outputs": [],
   "source": [
    "total_results = pd.merge(total_results, results_test_lmf, on='uid')"
   ]
  },
  {
   "cell_type": "code",
   "execution_count": 254,
   "metadata": {},
   "outputs": [
    {
     "data": {
      "text/html": [
       "<div>\n",
       "<style scoped>\n",
       "    .dataframe tbody tr th:only-of-type {\n",
       "        vertical-align: middle;\n",
       "    }\n",
       "\n",
       "    .dataframe tbody tr th {\n",
       "        vertical-align: top;\n",
       "    }\n",
       "\n",
       "    .dataframe thead th {\n",
       "        text-align: right;\n",
       "    }\n",
       "</style>\n",
       "<table border=\"1\" class=\"dataframe\">\n",
       "  <thead>\n",
       "    <tr style=\"text-align: right;\">\n",
       "      <th></th>\n",
       "      <th>uid</th>\n",
       "      <th>als_ndcg</th>\n",
       "      <th>bpr_ndcg</th>\n",
       "      <th>lmf_ndcg</th>\n",
       "    </tr>\n",
       "  </thead>\n",
       "  <tbody>\n",
       "    <tr>\n",
       "      <th>0</th>\n",
       "      <td>0.0</td>\n",
       "      <td>0.00000</td>\n",
       "      <td>0.0</td>\n",
       "      <td>0.00000</td>\n",
       "    </tr>\n",
       "    <tr>\n",
       "      <th>1</th>\n",
       "      <td>1.0</td>\n",
       "      <td>0.63093</td>\n",
       "      <td>0.0</td>\n",
       "      <td>0.00000</td>\n",
       "    </tr>\n",
       "    <tr>\n",
       "      <th>2</th>\n",
       "      <td>2.0</td>\n",
       "      <td>0.00000</td>\n",
       "      <td>0.0</td>\n",
       "      <td>0.46598</td>\n",
       "    </tr>\n",
       "    <tr>\n",
       "      <th>3</th>\n",
       "      <td>3.0</td>\n",
       "      <td>0.00000</td>\n",
       "      <td>0.0</td>\n",
       "      <td>0.00000</td>\n",
       "    </tr>\n",
       "    <tr>\n",
       "      <th>4</th>\n",
       "      <td>4.0</td>\n",
       "      <td>0.30103</td>\n",
       "      <td>0.0</td>\n",
       "      <td>0.00000</td>\n",
       "    </tr>\n",
       "  </tbody>\n",
       "</table>\n",
       "</div>"
      ],
      "text/plain": [
       "   uid  als_ndcg  bpr_ndcg  lmf_ndcg\n",
       "0  0.0   0.00000       0.0   0.00000\n",
       "1  1.0   0.63093       0.0   0.00000\n",
       "2  2.0   0.00000       0.0   0.46598\n",
       "3  3.0   0.00000       0.0   0.00000\n",
       "4  4.0   0.30103       0.0   0.00000"
      ]
     },
     "execution_count": 254,
     "metadata": {},
     "output_type": "execute_result"
    }
   ],
   "source": [
    "total_results.head()"
   ]
  },
  {
   "cell_type": "markdown",
   "metadata": {
    "heading_collapsed": true
   },
   "source": [
    "### Baseline Most Popular"
   ]
  },
  {
   "cell_type": "code",
   "execution_count": 255,
   "metadata": {
    "hidden": true
   },
   "outputs": [],
   "source": [
    "most_popular_TOP_N = 10"
   ]
  },
  {
   "cell_type": "code",
   "execution_count": 256,
   "metadata": {
    "hidden": true
   },
   "outputs": [],
   "source": [
    "def get_most_popular(train_data, k=100):\n",
    "    \"\"\"Compute recommendations for all users based on the baseline most popular  \n",
    "        Args:\n",
    "            train_data: user_items matrix. it will be used to filter the items already clicked  \n",
    "            pred: numpy array with the predicions for each user\n",
    "            k: Number of results to consider\n",
    "\n",
    "        Returns:\n",
    "        np.array with the recommendations for all users\n",
    "    \"\"\"\n",
    "    print('-- Start --')\n",
    "    train_array = np.array(train_data.toarray())\n",
    "    print('-- converted train_data to np.array --')\n",
    "    \n",
    "    #get the item popularity saved in a json file\n",
    "    with open(os.path.join(PARSE_DATA_DIR, 'map_item_pop.json')) as f:\n",
    "        map_item_pop = json.load(f)\n",
    "    print('-- read json with item popularity --')\n",
    "    \n",
    "    #parse map_item_pop to dataframe may be useful, get the popularity as a np.array  \n",
    "    df_pop = pd.DataFrame(list(map_item_pop.items()),columns = ['sid','pop'])\n",
    "    item_popularity_np = np.array(df_pop['pop'])\n",
    "    print('-- created np.array with the item popularity --')\n",
    "\n",
    "    #invert the sparse matrix, in this way we can clean which items did a user already clicked\n",
    "    not_train_array = 1*np.logical_not(train_array)\n",
    "    print('-- inverted train_np_array --')\n",
    "\n",
    "    #Compute a np array per user with the amount of each item was clicked \n",
    "    #in this way we can sort and with the indices get the most popular for each user\n",
    "    clicks_item_per_user = np.multiply(not_train_array,item_popularity_np)\n",
    "    not_train_array = None\n",
    "    item_popularity_np = None\n",
    "    train_array = None    \n",
    "    print('-- multiplied inverted array * item popularity --')\n",
    "\n",
    "\n",
    "    #prepare variables\n",
    "    recommendations_list = []\n",
    "    n_users = clicks_item_per_user.shape[0]\n",
    "    \n",
    "    print('-- gets the recommendations for all users --')\n",
    "    #start progress bar\n",
    "    pbar = tqdm()\n",
    "    pbar.reset(total=n_users)\n",
    "\n",
    "    for i in range(0,n_users):\n",
    "        # for each user get the most clicked s_id \n",
    "        sorted_indices_array = np.argsort(clicks_item_per_user[i])\n",
    "        top_k = sorted_indices_array[-k:]\n",
    "        recommendations_list.append(top_k[::-1])\n",
    "        pbar.update()\n",
    "\n",
    "\n",
    "    recommendations_np = np.array(recommendations_list)\n",
    "    pbar.refresh()\n",
    "    print('-- Im finished master --')\n",
    "    return recommendations_np"
   ]
  },
  {
   "cell_type": "code",
   "execution_count": 257,
   "metadata": {
    "hidden": true
   },
   "outputs": [
    {
     "name": "stdout",
     "output_type": "stream",
     "text": [
      "-- Start --\n",
      "-- converted train_data to np.array --\n",
      "-- read json with item popularity --\n",
      "-- created np.array with the item popularity --\n",
      "-- inverted train_np_array --\n",
      "-- multiplied inverted array * item popularity --\n",
      "-- gets the recommendations for all users --\n"
     ]
    },
    {
     "data": {
      "application/vnd.jupyter.widget-view+json": {
       "model_id": "16797abb5ba149b5871cacc23a228e3c",
       "version_major": 2,
       "version_minor": 0
      },
      "text/plain": [
       "HBox(children=(IntProgress(value=1, bar_style='info', max=1), HTML(value='')))"
      ]
     },
     "metadata": {},
     "output_type": "display_data"
    },
    {
     "name": "stdout",
     "output_type": "stream",
     "text": [
      "-- Im finished master --\n"
     ]
    }
   ],
   "source": [
    "pred_most_popular = get_most_popular(train_data=train_data, k=most_popular_TOP_N)"
   ]
  },
  {
   "cell_type": "code",
   "execution_count": 258,
   "metadata": {
    "hidden": true
   },
   "outputs": [
    {
     "data": {
      "application/vnd.jupyter.widget-view+json": {
       "model_id": "613addb24f924558b77bd9cab5cdc395",
       "version_major": 2,
       "version_minor": 0
      },
      "text/plain": [
       "HBox(children=(IntProgress(value=1, bar_style='info', max=1), HTML(value='')))"
      ]
     },
     "metadata": {},
     "output_type": "display_data"
    },
    {
     "name": "stdout",
     "output_type": "stream",
     "text": [
      "---  most_popular_ndcg  STATS ---\n",
      "mean:  0.14947415146428333\n",
      "max:  1.0\n",
      "min:  0.0\n"
     ]
    }
   ],
   "source": [
    "results_test_most_popular = get_score(test_data, pred_most_popular, most_popular_TOP_N, 'most_popular')"
   ]
  },
  {
   "cell_type": "code",
   "execution_count": 259,
   "metadata": {
    "hidden": true
   },
   "outputs": [],
   "source": [
    "total_results = pd.merge(total_results, results_test_most_popular, on='uid')"
   ]
  },
  {
   "cell_type": "code",
   "execution_count": 260,
   "metadata": {
    "hidden": true
   },
   "outputs": [
    {
     "data": {
      "text/html": [
       "<div>\n",
       "<style scoped>\n",
       "    .dataframe tbody tr th:only-of-type {\n",
       "        vertical-align: middle;\n",
       "    }\n",
       "\n",
       "    .dataframe tbody tr th {\n",
       "        vertical-align: top;\n",
       "    }\n",
       "\n",
       "    .dataframe thead th {\n",
       "        text-align: right;\n",
       "    }\n",
       "</style>\n",
       "<table border=\"1\" class=\"dataframe\">\n",
       "  <thead>\n",
       "    <tr style=\"text-align: right;\">\n",
       "      <th></th>\n",
       "      <th>uid</th>\n",
       "      <th>als_ndcg</th>\n",
       "      <th>bpr_ndcg</th>\n",
       "      <th>lmf_ndcg</th>\n",
       "      <th>most_popular_ndcg</th>\n",
       "    </tr>\n",
       "  </thead>\n",
       "  <tbody>\n",
       "    <tr>\n",
       "      <th>0</th>\n",
       "      <td>0.0</td>\n",
       "      <td>0.000000</td>\n",
       "      <td>0.000000</td>\n",
       "      <td>0.000000</td>\n",
       "      <td>0.000000</td>\n",
       "    </tr>\n",
       "    <tr>\n",
       "      <th>1</th>\n",
       "      <td>1.0</td>\n",
       "      <td>0.630930</td>\n",
       "      <td>0.000000</td>\n",
       "      <td>0.000000</td>\n",
       "      <td>0.315465</td>\n",
       "    </tr>\n",
       "    <tr>\n",
       "      <th>2</th>\n",
       "      <td>2.0</td>\n",
       "      <td>0.000000</td>\n",
       "      <td>0.000000</td>\n",
       "      <td>0.465980</td>\n",
       "      <td>0.000000</td>\n",
       "    </tr>\n",
       "    <tr>\n",
       "      <th>3</th>\n",
       "      <td>3.0</td>\n",
       "      <td>0.000000</td>\n",
       "      <td>0.000000</td>\n",
       "      <td>0.000000</td>\n",
       "      <td>0.000000</td>\n",
       "    </tr>\n",
       "    <tr>\n",
       "      <th>4</th>\n",
       "      <td>4.0</td>\n",
       "      <td>0.301030</td>\n",
       "      <td>0.000000</td>\n",
       "      <td>0.000000</td>\n",
       "      <td>0.344770</td>\n",
       "    </tr>\n",
       "    <tr>\n",
       "      <th>5</th>\n",
       "      <td>5.0</td>\n",
       "      <td>0.000000</td>\n",
       "      <td>1.000000</td>\n",
       "      <td>0.356207</td>\n",
       "      <td>0.000000</td>\n",
       "    </tr>\n",
       "    <tr>\n",
       "      <th>6</th>\n",
       "      <td>6.0</td>\n",
       "      <td>0.657732</td>\n",
       "      <td>0.000000</td>\n",
       "      <td>1.000000</td>\n",
       "      <td>0.000000</td>\n",
       "    </tr>\n",
       "    <tr>\n",
       "      <th>7</th>\n",
       "      <td>7.0</td>\n",
       "      <td>0.630930</td>\n",
       "      <td>0.430677</td>\n",
       "      <td>0.333333</td>\n",
       "      <td>0.000000</td>\n",
       "    </tr>\n",
       "    <tr>\n",
       "      <th>8</th>\n",
       "      <td>8.0</td>\n",
       "      <td>0.301030</td>\n",
       "      <td>0.630930</td>\n",
       "      <td>0.443426</td>\n",
       "      <td>0.000000</td>\n",
       "    </tr>\n",
       "    <tr>\n",
       "      <th>9</th>\n",
       "      <td>9.0</td>\n",
       "      <td>0.000000</td>\n",
       "      <td>0.000000</td>\n",
       "      <td>0.000000</td>\n",
       "      <td>0.000000</td>\n",
       "    </tr>\n",
       "  </tbody>\n",
       "</table>\n",
       "</div>"
      ],
      "text/plain": [
       "   uid  als_ndcg  bpr_ndcg  lmf_ndcg  most_popular_ndcg\n",
       "0  0.0  0.000000  0.000000  0.000000           0.000000\n",
       "1  1.0  0.630930  0.000000  0.000000           0.315465\n",
       "2  2.0  0.000000  0.000000  0.465980           0.000000\n",
       "3  3.0  0.000000  0.000000  0.000000           0.000000\n",
       "4  4.0  0.301030  0.000000  0.000000           0.344770\n",
       "5  5.0  0.000000  1.000000  0.356207           0.000000\n",
       "6  6.0  0.657732  0.000000  1.000000           0.000000\n",
       "7  7.0  0.630930  0.430677  0.333333           0.000000\n",
       "8  8.0  0.301030  0.630930  0.443426           0.000000\n",
       "9  9.0  0.000000  0.000000  0.000000           0.000000"
      ]
     },
     "execution_count": 260,
     "metadata": {},
     "output_type": "execute_result"
    }
   ],
   "source": [
    "total_results.head(10)"
   ]
  },
  {
   "cell_type": "markdown",
   "metadata": {},
   "source": [
    "### KNN Item-Item"
   ]
  },
  {
   "cell_type": "code",
   "execution_count": 261,
   "metadata": {},
   "outputs": [],
   "source": [
    "knn_K = 10\n",
    "cos = implicit.nearest_neighbours.CosineRecommender(K=knn_K, num_threads=NUM_THREADS)\n",
    "tfidf = implicit.nearest_neighbours.TFIDFRecommender(K=knn_K, num_threads=NUM_THREADS)\n",
    "bm25 = implicit.nearest_neighbours.BM25Recommender(K=knn_K, num_threads=NUM_THREADS)\n",
    "\n",
    "models = [cos, tfidf, bm25]"
   ]
  },
  {
   "cell_type": "code",
   "execution_count": 262,
   "metadata": {},
   "outputs": [
    {
     "data": {
      "application/vnd.jupyter.widget-view+json": {
       "model_id": "525518b4cd9b49b7b118b2dada541fc1",
       "version_major": 2,
       "version_minor": 0
      },
      "text/plain": [
       "HBox(children=(IntProgress(value=0, max=11518), HTML(value='')))"
      ]
     },
     "metadata": {},
     "output_type": "display_data"
    },
    {
     "name": "stdout",
     "output_type": "stream",
     "text": [
      "\n"
     ]
    },
    {
     "data": {
      "application/vnd.jupyter.widget-view+json": {
       "model_id": "b8587f5f61914c58aa59c94a01c4781c",
       "version_major": 2,
       "version_minor": 0
      },
      "text/plain": [
       "HBox(children=(IntProgress(value=0, max=11518), HTML(value='')))"
      ]
     },
     "metadata": {},
     "output_type": "display_data"
    },
    {
     "name": "stdout",
     "output_type": "stream",
     "text": [
      "\n"
     ]
    },
    {
     "data": {
      "application/vnd.jupyter.widget-view+json": {
       "model_id": "0a2284f8b3cd4217b2a391c9dbbc0652",
       "version_major": 2,
       "version_minor": 0
      },
      "text/plain": [
       "HBox(children=(IntProgress(value=0, max=11518), HTML(value='')))"
      ]
     },
     "metadata": {},
     "output_type": "display_data"
    },
    {
     "name": "stdout",
     "output_type": "stream",
     "text": [
      "\n"
     ]
    }
   ],
   "source": [
    "for model in models:\n",
    "    model.fit(train_data.T)"
   ]
  },
  {
   "cell_type": "code",
   "execution_count": 263,
   "metadata": {},
   "outputs": [],
   "source": [
    "def compute_knn_recomendations(train_data, model, TOP_N=100):\n",
    "    recommendations_list = []\n",
    "    n_users = train_data.shape[0]\n",
    "\n",
    "    pbar = tqdm()\n",
    "    pbar.reset(total=n_users)\n",
    "    for i in range(0,n_users):\n",
    "        user_recomendations_tuples = model.recommend(i,train_data, N=TOP_N)\n",
    "        user_recomendations_sid = [t[0] for t in user_recomendations_tuples]\n",
    "        recommendations_list.append(user_recomendations_sid)\n",
    "        pbar.update()\n",
    "\n",
    "    pbar.refresh()\n",
    "    recomendations_np = np.array(recommendations_list)\n",
    "    return recomendations_np"
   ]
  },
  {
   "cell_type": "code",
   "execution_count": 264,
   "metadata": {},
   "outputs": [
    {
     "data": {
      "application/vnd.jupyter.widget-view+json": {
       "model_id": "3e896ec4b53a457e8f35dd899fefc5e1",
       "version_major": 2,
       "version_minor": 0
      },
      "text/plain": [
       "HBox(children=(IntProgress(value=1, bar_style='info', max=1), HTML(value='')))"
      ]
     },
     "metadata": {},
     "output_type": "display_data"
    },
    {
     "data": {
      "application/vnd.jupyter.widget-view+json": {
       "model_id": "fdc7f056fb6c4168af8005b738560817",
       "version_major": 2,
       "version_minor": 0
      },
      "text/plain": [
       "HBox(children=(IntProgress(value=1, bar_style='info', max=1), HTML(value='')))"
      ]
     },
     "metadata": {},
     "output_type": "display_data"
    },
    {
     "data": {
      "application/vnd.jupyter.widget-view+json": {
       "model_id": "25bca5280a7d4ae48a2ef3bcbf06e63d",
       "version_major": 2,
       "version_minor": 0
      },
      "text/plain": [
       "HBox(children=(IntProgress(value=1, bar_style='info', max=1), HTML(value='')))"
      ]
     },
     "metadata": {},
     "output_type": "display_data"
    },
    {
     "name": "stdout",
     "output_type": "stream",
     "text": [
      "---  knn_cos_ndcg  STATS ---\n",
      "mean:  0.1928497727073329\n",
      "max:  1.0\n",
      "min:  0.0\n",
      "model finished\n"
     ]
    },
    {
     "data": {
      "application/vnd.jupyter.widget-view+json": {
       "model_id": "2688f9d384ef4ea18e97b60e34519eed",
       "version_major": 2,
       "version_minor": 0
      },
      "text/plain": [
       "HBox(children=(IntProgress(value=1, bar_style='info', max=1), HTML(value='')))"
      ]
     },
     "metadata": {},
     "output_type": "display_data"
    },
    {
     "data": {
      "application/vnd.jupyter.widget-view+json": {
       "model_id": "bd22ce78a4474373b1e62ae4da130741",
       "version_major": 2,
       "version_minor": 0
      },
      "text/plain": [
       "HBox(children=(IntProgress(value=1, bar_style='info', max=1), HTML(value='')))"
      ]
     },
     "metadata": {},
     "output_type": "display_data"
    },
    {
     "name": "stdout",
     "output_type": "stream",
     "text": [
      "---  knn_tfidf_ndcg  STATS ---\n",
      "mean:  0.1875900462247455\n",
      "max:  1.0\n",
      "min:  0.0\n",
      "model finished\n"
     ]
    },
    {
     "data": {
      "application/vnd.jupyter.widget-view+json": {
       "model_id": "b87956ee4cd340d7b34a480e35e59aa3",
       "version_major": 2,
       "version_minor": 0
      },
      "text/plain": [
       "HBox(children=(IntProgress(value=1, bar_style='info', max=1), HTML(value='')))"
      ]
     },
     "metadata": {},
     "output_type": "display_data"
    },
    {
     "data": {
      "application/vnd.jupyter.widget-view+json": {
       "model_id": "186957b7dbc2434f842e55b19634a9d5",
       "version_major": 2,
       "version_minor": 0
      },
      "text/plain": [
       "HBox(children=(IntProgress(value=1, bar_style='info', max=1), HTML(value='')))"
      ]
     },
     "metadata": {},
     "output_type": "display_data"
    },
    {
     "name": "stdout",
     "output_type": "stream",
     "text": [
      "---  knn_bm25_ndcg  STATS ---\n",
      "mean:  0.1304619268104152\n",
      "max:  1.0\n",
      "min:  0.0\n",
      "model finished\n"
     ]
    },
    {
     "data": {
      "text/plain": [
       "True"
      ]
     },
     "execution_count": 264,
     "metadata": {},
     "output_type": "execute_result"
    }
   ],
   "source": [
    "pbar = tqdm()\n",
    "pbar.reset(total=len(models))\n",
    "\n",
    "for model, name in zip(models, ['knn_cos', 'knn_tfidf', 'knn_bm25']):\n",
    "    pred_knn = compute_knn_recomendations(train_data, model, knn_K)\n",
    "    results_knn = get_score(test_data, pred_knn, knn_K, name)\n",
    "    print(\"model finished\")\n",
    "    pbar.update()\n",
    "    total_results = pd.merge(total_results, results_knn, on='uid')\n",
    "    \n",
    "pbar.refresh()"
   ]
  },
  {
   "cell_type": "code",
   "execution_count": 265,
   "metadata": {},
   "outputs": [
    {
     "data": {
      "text/html": [
       "<div>\n",
       "<style scoped>\n",
       "    .dataframe tbody tr th:only-of-type {\n",
       "        vertical-align: middle;\n",
       "    }\n",
       "\n",
       "    .dataframe tbody tr th {\n",
       "        vertical-align: top;\n",
       "    }\n",
       "\n",
       "    .dataframe thead th {\n",
       "        text-align: right;\n",
       "    }\n",
       "</style>\n",
       "<table border=\"1\" class=\"dataframe\">\n",
       "  <thead>\n",
       "    <tr style=\"text-align: right;\">\n",
       "      <th></th>\n",
       "      <th>uid</th>\n",
       "      <th>als_ndcg</th>\n",
       "      <th>bpr_ndcg</th>\n",
       "      <th>lmf_ndcg</th>\n",
       "      <th>most_popular_ndcg</th>\n",
       "      <th>knn_cos_ndcg</th>\n",
       "      <th>knn_tfidf_ndcg</th>\n",
       "      <th>knn_bm25_ndcg</th>\n",
       "    </tr>\n",
       "  </thead>\n",
       "  <tbody>\n",
       "    <tr>\n",
       "      <th>0</th>\n",
       "      <td>0.0</td>\n",
       "      <td>0.00000</td>\n",
       "      <td>0.0</td>\n",
       "      <td>0.00000</td>\n",
       "      <td>0.000000</td>\n",
       "      <td>0.000000</td>\n",
       "      <td>0.000000</td>\n",
       "      <td>0.315465</td>\n",
       "    </tr>\n",
       "    <tr>\n",
       "      <th>1</th>\n",
       "      <td>1.0</td>\n",
       "      <td>0.63093</td>\n",
       "      <td>0.0</td>\n",
       "      <td>0.00000</td>\n",
       "      <td>0.315465</td>\n",
       "      <td>0.666667</td>\n",
       "      <td>0.416667</td>\n",
       "      <td>0.000000</td>\n",
       "    </tr>\n",
       "    <tr>\n",
       "      <th>2</th>\n",
       "      <td>2.0</td>\n",
       "      <td>0.00000</td>\n",
       "      <td>0.0</td>\n",
       "      <td>0.46598</td>\n",
       "      <td>0.000000</td>\n",
       "      <td>0.000000</td>\n",
       "      <td>0.000000</td>\n",
       "      <td>0.430677</td>\n",
       "    </tr>\n",
       "    <tr>\n",
       "      <th>3</th>\n",
       "      <td>3.0</td>\n",
       "      <td>0.00000</td>\n",
       "      <td>0.0</td>\n",
       "      <td>0.00000</td>\n",
       "      <td>0.000000</td>\n",
       "      <td>0.000000</td>\n",
       "      <td>0.000000</td>\n",
       "      <td>0.000000</td>\n",
       "    </tr>\n",
       "    <tr>\n",
       "      <th>4</th>\n",
       "      <td>4.0</td>\n",
       "      <td>0.30103</td>\n",
       "      <td>0.0</td>\n",
       "      <td>0.00000</td>\n",
       "      <td>0.344770</td>\n",
       "      <td>0.386853</td>\n",
       "      <td>0.000000</td>\n",
       "      <td>0.000000</td>\n",
       "    </tr>\n",
       "  </tbody>\n",
       "</table>\n",
       "</div>"
      ],
      "text/plain": [
       "   uid  als_ndcg  bpr_ndcg  lmf_ndcg  most_popular_ndcg  knn_cos_ndcg  \\\n",
       "0  0.0   0.00000       0.0   0.00000           0.000000      0.000000   \n",
       "1  1.0   0.63093       0.0   0.00000           0.315465      0.666667   \n",
       "2  2.0   0.00000       0.0   0.46598           0.000000      0.000000   \n",
       "3  3.0   0.00000       0.0   0.00000           0.000000      0.000000   \n",
       "4  4.0   0.30103       0.0   0.00000           0.344770      0.386853   \n",
       "\n",
       "   knn_tfidf_ndcg  knn_bm25_ndcg  \n",
       "0        0.000000       0.315465  \n",
       "1        0.416667       0.000000  \n",
       "2        0.000000       0.430677  \n",
       "3        0.000000       0.000000  \n",
       "4        0.000000       0.000000  "
      ]
     },
     "execution_count": 265,
     "metadata": {},
     "output_type": "execute_result"
    }
   ],
   "source": [
    "total_results.head()"
   ]
  },
  {
   "cell_type": "code",
   "execution_count": 266,
   "metadata": {},
   "outputs": [],
   "source": [
    "#this is a file in each columns has the evaluation ndcg for each algorithm\n",
    "total_results.to_csv(os.path.join(PARSE_DATA_DIR, 'total_results_k_10.csv'), index=False)"
   ]
  },
  {
   "cell_type": "code",
   "execution_count": null,
   "metadata": {},
   "outputs": [],
   "source": []
  },
  {
   "cell_type": "code",
   "execution_count": null,
   "metadata": {},
   "outputs": [],
   "source": []
  }
 ],
 "metadata": {
  "kernelspec": {
   "display_name": "Python 3",
   "language": "python",
   "name": "python3"
  },
  "language_info": {
   "codemirror_mode": {
    "name": "ipython",
    "version": 3
   },
   "file_extension": ".py",
   "mimetype": "text/x-python",
   "name": "python",
   "nbconvert_exporter": "python",
   "pygments_lexer": "ipython3",
   "version": "3.7.6"
  }
 },
 "nbformat": 4,
 "nbformat_minor": 2
}
